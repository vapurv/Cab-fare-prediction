{
  "nbformat": 4,
  "nbformat_minor": 0,
  "metadata": {
    "colab": {
      "name": "cab_fare",
      "provenance": [],
      "authorship_tag": "ABX9TyMefmYlKhWwX/fUj9Tl040p",
      "include_colab_link": true
    },
    "kernelspec": {
      "name": "python3",
      "display_name": "Python 3"
    }
  },
  "cells": [
    {
      "cell_type": "markdown",
      "metadata": {
        "id": "view-in-github",
        "colab_type": "text"
      },
      "source": [
        "<a href=\"https://colab.research.google.com/github/vapurv/Cab-fare-prediction/blob/master/cab_fare.ipynb\" target=\"_parent\"><img src=\"https://colab.research.google.com/assets/colab-badge.svg\" alt=\"Open In Colab\"/></a>"
      ]
    },
    {
      "cell_type": "code",
      "metadata": {
        "id": "uLsGIiqxCi2k",
        "colab_type": "code",
        "colab": {}
      },
      "source": [
        "#By Apurv verma\n",
        "import os \n",
        "import tensorflow as tf\n",
        "import tensorboardcolab as tbd\n",
        "import datetime\n",
        "import filecmp\n",
        "import pandas as pd \n",
        "import numpy as np  \n",
        "import matplotlib.pyplot as plt\n",
        "import seaborn as sns \n",
        "from collections import Counter \n",
        "from sklearn.tree import DecisionTreeRegressor\n",
        "from sklearn.ensemble import RandomForestRegressor\n",
        "from sklearn.ensemble import GradientBoostingRegressor\n",
        "from sklearn.linear_model import LinearRegression #ML algorithm\n",
        "from sklearn.model_selection import train_test_split #splitting dataset\n",
        "from sklearn.metrics import mean_squared_error\n",
        "from sklearn.metrics import r2_score\n",
        "from pprint import pprint\n",
        "from sklearn.model_selection import GridSearchCV    \n",
        "\n",
        "\n",
        "%matplotlib inline"
      ],
      "execution_count": 625,
      "outputs": []
    },
    {
      "cell_type": "code",
      "metadata": {
        "id": "YPI4JQD1F2TR",
        "colab_type": "code",
        "colab": {}
      },
      "source": [
        "train  = pd.read_csv(\"train_cab.csv\",na_values={\"pickup_datetime\":\"43\"})"
      ],
      "execution_count": 626,
      "outputs": []
    },
    {
      "cell_type": "code",
      "metadata": {
        "id": "TEWMulbTGBPL",
        "colab_type": "code",
        "colab": {
          "base_uri": "https://localhost:8080/",
          "height": 609
        },
        "outputId": "1fbd36c9-bcfd-40ad-ec75-94ee6cdebaa1"
      },
      "source": [
        "train"
      ],
      "execution_count": 627,
      "outputs": [
        {
          "output_type": "execute_result",
          "data": {
            "text/html": [
              "<div>\n",
              "<style scoped>\n",
              "    .dataframe tbody tr th:only-of-type {\n",
              "        vertical-align: middle;\n",
              "    }\n",
              "\n",
              "    .dataframe tbody tr th {\n",
              "        vertical-align: top;\n",
              "    }\n",
              "\n",
              "    .dataframe thead th {\n",
              "        text-align: right;\n",
              "    }\n",
              "</style>\n",
              "<table border=\"1\" class=\"dataframe\">\n",
              "  <thead>\n",
              "    <tr style=\"text-align: right;\">\n",
              "      <th></th>\n",
              "      <th>fare_amount</th>\n",
              "      <th>pickup_datetime</th>\n",
              "      <th>pickup_longitude</th>\n",
              "      <th>pickup_latitude</th>\n",
              "      <th>dropoff_longitude</th>\n",
              "      <th>dropoff_latitude</th>\n",
              "      <th>passenger_count</th>\n",
              "    </tr>\n",
              "  </thead>\n",
              "  <tbody>\n",
              "    <tr>\n",
              "      <th>0</th>\n",
              "      <td>4.5</td>\n",
              "      <td>2009-06-15 17:26:21 UTC</td>\n",
              "      <td>-73.844311</td>\n",
              "      <td>40.721319</td>\n",
              "      <td>-73.841610</td>\n",
              "      <td>40.712278</td>\n",
              "      <td>1.0</td>\n",
              "    </tr>\n",
              "    <tr>\n",
              "      <th>1</th>\n",
              "      <td>16.9</td>\n",
              "      <td>2010-01-05 16:52:16 UTC</td>\n",
              "      <td>-74.016048</td>\n",
              "      <td>40.711303</td>\n",
              "      <td>-73.979268</td>\n",
              "      <td>40.782004</td>\n",
              "      <td>1.0</td>\n",
              "    </tr>\n",
              "    <tr>\n",
              "      <th>2</th>\n",
              "      <td>5.7</td>\n",
              "      <td>2011-08-18 00:35:00 UTC</td>\n",
              "      <td>-73.982738</td>\n",
              "      <td>40.761270</td>\n",
              "      <td>-73.991242</td>\n",
              "      <td>40.750562</td>\n",
              "      <td>2.0</td>\n",
              "    </tr>\n",
              "    <tr>\n",
              "      <th>3</th>\n",
              "      <td>7.7</td>\n",
              "      <td>2012-04-21 04:30:42 UTC</td>\n",
              "      <td>-73.987130</td>\n",
              "      <td>40.733143</td>\n",
              "      <td>-73.991567</td>\n",
              "      <td>40.758092</td>\n",
              "      <td>1.0</td>\n",
              "    </tr>\n",
              "    <tr>\n",
              "      <th>4</th>\n",
              "      <td>5.3</td>\n",
              "      <td>2010-03-09 07:51:00 UTC</td>\n",
              "      <td>-73.968095</td>\n",
              "      <td>40.768008</td>\n",
              "      <td>-73.956655</td>\n",
              "      <td>40.783762</td>\n",
              "      <td>1.0</td>\n",
              "    </tr>\n",
              "    <tr>\n",
              "      <th>...</th>\n",
              "      <td>...</td>\n",
              "      <td>...</td>\n",
              "      <td>...</td>\n",
              "      <td>...</td>\n",
              "      <td>...</td>\n",
              "      <td>...</td>\n",
              "      <td>...</td>\n",
              "    </tr>\n",
              "    <tr>\n",
              "      <th>16062</th>\n",
              "      <td>6.5</td>\n",
              "      <td>2014-12-12 07:41:00 UTC</td>\n",
              "      <td>-74.008820</td>\n",
              "      <td>40.718757</td>\n",
              "      <td>-73.998865</td>\n",
              "      <td>40.719987</td>\n",
              "      <td>1.0</td>\n",
              "    </tr>\n",
              "    <tr>\n",
              "      <th>16063</th>\n",
              "      <td>16.1</td>\n",
              "      <td>2009-07-13 07:58:00 UTC</td>\n",
              "      <td>-73.981310</td>\n",
              "      <td>40.781695</td>\n",
              "      <td>-74.014392</td>\n",
              "      <td>40.715527</td>\n",
              "      <td>2.0</td>\n",
              "    </tr>\n",
              "    <tr>\n",
              "      <th>16064</th>\n",
              "      <td>8.5</td>\n",
              "      <td>2009-11-11 11:19:07 UTC</td>\n",
              "      <td>-73.972507</td>\n",
              "      <td>40.753417</td>\n",
              "      <td>-73.979577</td>\n",
              "      <td>40.765495</td>\n",
              "      <td>1.0</td>\n",
              "    </tr>\n",
              "    <tr>\n",
              "      <th>16065</th>\n",
              "      <td>8.1</td>\n",
              "      <td>2010-05-11 23:53:00 UTC</td>\n",
              "      <td>-73.957027</td>\n",
              "      <td>40.765945</td>\n",
              "      <td>-73.981983</td>\n",
              "      <td>40.779560</td>\n",
              "      <td>1.0</td>\n",
              "    </tr>\n",
              "    <tr>\n",
              "      <th>16066</th>\n",
              "      <td>8.5</td>\n",
              "      <td>2011-12-14 06:24:33 UTC</td>\n",
              "      <td>-74.002111</td>\n",
              "      <td>40.729755</td>\n",
              "      <td>-73.983877</td>\n",
              "      <td>40.761975</td>\n",
              "      <td>NaN</td>\n",
              "    </tr>\n",
              "  </tbody>\n",
              "</table>\n",
              "<p>16067 rows × 7 columns</p>\n",
              "</div>"
            ],
            "text/plain": [
              "      fare_amount          pickup_datetime  ...  dropoff_latitude  passenger_count\n",
              "0             4.5  2009-06-15 17:26:21 UTC  ...         40.712278              1.0\n",
              "1            16.9  2010-01-05 16:52:16 UTC  ...         40.782004              1.0\n",
              "2             5.7  2011-08-18 00:35:00 UTC  ...         40.750562              2.0\n",
              "3             7.7  2012-04-21 04:30:42 UTC  ...         40.758092              1.0\n",
              "4             5.3  2010-03-09 07:51:00 UTC  ...         40.783762              1.0\n",
              "...           ...                      ...  ...               ...              ...\n",
              "16062         6.5  2014-12-12 07:41:00 UTC  ...         40.719987              1.0\n",
              "16063        16.1  2009-07-13 07:58:00 UTC  ...         40.715527              2.0\n",
              "16064         8.5  2009-11-11 11:19:07 UTC  ...         40.765495              1.0\n",
              "16065         8.1  2010-05-11 23:53:00 UTC  ...         40.779560              1.0\n",
              "16066         8.5  2011-12-14 06:24:33 UTC  ...         40.761975              NaN\n",
              "\n",
              "[16067 rows x 7 columns]"
            ]
          },
          "metadata": {
            "tags": []
          },
          "execution_count": 627
        }
      ]
    },
    {
      "cell_type": "code",
      "metadata": {
        "id": "8pNte-26GHI5",
        "colab_type": "code",
        "colab": {}
      },
      "source": [
        "test_data = pd.read_csv('test.csv')"
      ],
      "execution_count": 628,
      "outputs": []
    },
    {
      "cell_type": "code",
      "metadata": {
        "id": "aEUneqq3GbRM",
        "colab_type": "code",
        "colab": {
          "base_uri": "https://localhost:8080/",
          "height": 589
        },
        "outputId": "d00460ec-0720-45b5-97e0-a689ef550d4d"
      },
      "source": [
        "test_data\n"
      ],
      "execution_count": 629,
      "outputs": [
        {
          "output_type": "execute_result",
          "data": {
            "text/html": [
              "<div>\n",
              "<style scoped>\n",
              "    .dataframe tbody tr th:only-of-type {\n",
              "        vertical-align: middle;\n",
              "    }\n",
              "\n",
              "    .dataframe tbody tr th {\n",
              "        vertical-align: top;\n",
              "    }\n",
              "\n",
              "    .dataframe thead th {\n",
              "        text-align: right;\n",
              "    }\n",
              "</style>\n",
              "<table border=\"1\" class=\"dataframe\">\n",
              "  <thead>\n",
              "    <tr style=\"text-align: right;\">\n",
              "      <th></th>\n",
              "      <th>pickup_datetime</th>\n",
              "      <th>pickup_longitude</th>\n",
              "      <th>pickup_latitude</th>\n",
              "      <th>dropoff_longitude</th>\n",
              "      <th>dropoff_latitude</th>\n",
              "      <th>passenger_count</th>\n",
              "    </tr>\n",
              "  </thead>\n",
              "  <tbody>\n",
              "    <tr>\n",
              "      <th>0</th>\n",
              "      <td>2015-01-27 13:08:24 UTC</td>\n",
              "      <td>-73.973320</td>\n",
              "      <td>40.763805</td>\n",
              "      <td>-73.981430</td>\n",
              "      <td>40.743835</td>\n",
              "      <td>1</td>\n",
              "    </tr>\n",
              "    <tr>\n",
              "      <th>1</th>\n",
              "      <td>2015-01-27 13:08:24 UTC</td>\n",
              "      <td>-73.986862</td>\n",
              "      <td>40.719383</td>\n",
              "      <td>-73.998886</td>\n",
              "      <td>40.739201</td>\n",
              "      <td>1</td>\n",
              "    </tr>\n",
              "    <tr>\n",
              "      <th>2</th>\n",
              "      <td>2011-10-08 11:53:44 UTC</td>\n",
              "      <td>-73.982524</td>\n",
              "      <td>40.751260</td>\n",
              "      <td>-73.979654</td>\n",
              "      <td>40.746139</td>\n",
              "      <td>1</td>\n",
              "    </tr>\n",
              "    <tr>\n",
              "      <th>3</th>\n",
              "      <td>2012-12-01 21:12:12 UTC</td>\n",
              "      <td>-73.981160</td>\n",
              "      <td>40.767807</td>\n",
              "      <td>-73.990448</td>\n",
              "      <td>40.751635</td>\n",
              "      <td>1</td>\n",
              "    </tr>\n",
              "    <tr>\n",
              "      <th>4</th>\n",
              "      <td>2012-12-01 21:12:12 UTC</td>\n",
              "      <td>-73.966046</td>\n",
              "      <td>40.789775</td>\n",
              "      <td>-73.988565</td>\n",
              "      <td>40.744427</td>\n",
              "      <td>1</td>\n",
              "    </tr>\n",
              "    <tr>\n",
              "      <th>...</th>\n",
              "      <td>...</td>\n",
              "      <td>...</td>\n",
              "      <td>...</td>\n",
              "      <td>...</td>\n",
              "      <td>...</td>\n",
              "      <td>...</td>\n",
              "    </tr>\n",
              "    <tr>\n",
              "      <th>9909</th>\n",
              "      <td>2015-05-10 12:37:51 UTC</td>\n",
              "      <td>-73.968124</td>\n",
              "      <td>40.796997</td>\n",
              "      <td>-73.955643</td>\n",
              "      <td>40.780388</td>\n",
              "      <td>6</td>\n",
              "    </tr>\n",
              "    <tr>\n",
              "      <th>9910</th>\n",
              "      <td>2015-01-12 17:05:51 UTC</td>\n",
              "      <td>-73.945511</td>\n",
              "      <td>40.803600</td>\n",
              "      <td>-73.960213</td>\n",
              "      <td>40.776371</td>\n",
              "      <td>6</td>\n",
              "    </tr>\n",
              "    <tr>\n",
              "      <th>9911</th>\n",
              "      <td>2015-04-19 20:44:15 UTC</td>\n",
              "      <td>-73.991600</td>\n",
              "      <td>40.726608</td>\n",
              "      <td>-73.789742</td>\n",
              "      <td>40.647011</td>\n",
              "      <td>6</td>\n",
              "    </tr>\n",
              "    <tr>\n",
              "      <th>9912</th>\n",
              "      <td>2015-01-31 01:05:19 UTC</td>\n",
              "      <td>-73.985573</td>\n",
              "      <td>40.735432</td>\n",
              "      <td>-73.939178</td>\n",
              "      <td>40.801731</td>\n",
              "      <td>6</td>\n",
              "    </tr>\n",
              "    <tr>\n",
              "      <th>9913</th>\n",
              "      <td>2015-01-18 14:06:23 UTC</td>\n",
              "      <td>-73.988022</td>\n",
              "      <td>40.754070</td>\n",
              "      <td>-74.000282</td>\n",
              "      <td>40.759220</td>\n",
              "      <td>6</td>\n",
              "    </tr>\n",
              "  </tbody>\n",
              "</table>\n",
              "<p>9914 rows × 6 columns</p>\n",
              "</div>"
            ],
            "text/plain": [
              "              pickup_datetime  ...  passenger_count\n",
              "0     2015-01-27 13:08:24 UTC  ...                1\n",
              "1     2015-01-27 13:08:24 UTC  ...                1\n",
              "2     2011-10-08 11:53:44 UTC  ...                1\n",
              "3     2012-12-01 21:12:12 UTC  ...                1\n",
              "4     2012-12-01 21:12:12 UTC  ...                1\n",
              "...                       ...  ...              ...\n",
              "9909  2015-05-10 12:37:51 UTC  ...                6\n",
              "9910  2015-01-12 17:05:51 UTC  ...                6\n",
              "9911  2015-04-19 20:44:15 UTC  ...                6\n",
              "9912  2015-01-31 01:05:19 UTC  ...                6\n",
              "9913  2015-01-18 14:06:23 UTC  ...                6\n",
              "\n",
              "[9914 rows x 6 columns]"
            ]
          },
          "metadata": {
            "tags": []
          },
          "execution_count": 629
        }
      ]
    },
    {
      "cell_type": "markdown",
      "metadata": {
        "id": "uiBkAtDk2cGW",
        "colab_type": "text"
      },
      "source": [
        "*Head Returns the first n rows.*"
      ]
    },
    {
      "cell_type": "code",
      "metadata": {
        "id": "27lFfEfgGhSa",
        "colab_type": "code",
        "colab": {
          "base_uri": "https://localhost:8080/",
          "height": 309
        },
        "outputId": "fc7e65f4-6a11-4a3c-fedc-9aa023e93f59"
      },
      "source": [
        "train.head() "
      ],
      "execution_count": 630,
      "outputs": [
        {
          "output_type": "execute_result",
          "data": {
            "text/html": [
              "<div>\n",
              "<style scoped>\n",
              "    .dataframe tbody tr th:only-of-type {\n",
              "        vertical-align: middle;\n",
              "    }\n",
              "\n",
              "    .dataframe tbody tr th {\n",
              "        vertical-align: top;\n",
              "    }\n",
              "\n",
              "    .dataframe thead th {\n",
              "        text-align: right;\n",
              "    }\n",
              "</style>\n",
              "<table border=\"1\" class=\"dataframe\">\n",
              "  <thead>\n",
              "    <tr style=\"text-align: right;\">\n",
              "      <th></th>\n",
              "      <th>fare_amount</th>\n",
              "      <th>pickup_datetime</th>\n",
              "      <th>pickup_longitude</th>\n",
              "      <th>pickup_latitude</th>\n",
              "      <th>dropoff_longitude</th>\n",
              "      <th>dropoff_latitude</th>\n",
              "      <th>passenger_count</th>\n",
              "    </tr>\n",
              "  </thead>\n",
              "  <tbody>\n",
              "    <tr>\n",
              "      <th>0</th>\n",
              "      <td>4.5</td>\n",
              "      <td>2009-06-15 17:26:21 UTC</td>\n",
              "      <td>-73.844311</td>\n",
              "      <td>40.721319</td>\n",
              "      <td>-73.841610</td>\n",
              "      <td>40.712278</td>\n",
              "      <td>1.0</td>\n",
              "    </tr>\n",
              "    <tr>\n",
              "      <th>1</th>\n",
              "      <td>16.9</td>\n",
              "      <td>2010-01-05 16:52:16 UTC</td>\n",
              "      <td>-74.016048</td>\n",
              "      <td>40.711303</td>\n",
              "      <td>-73.979268</td>\n",
              "      <td>40.782004</td>\n",
              "      <td>1.0</td>\n",
              "    </tr>\n",
              "    <tr>\n",
              "      <th>2</th>\n",
              "      <td>5.7</td>\n",
              "      <td>2011-08-18 00:35:00 UTC</td>\n",
              "      <td>-73.982738</td>\n",
              "      <td>40.761270</td>\n",
              "      <td>-73.991242</td>\n",
              "      <td>40.750562</td>\n",
              "      <td>2.0</td>\n",
              "    </tr>\n",
              "    <tr>\n",
              "      <th>3</th>\n",
              "      <td>7.7</td>\n",
              "      <td>2012-04-21 04:30:42 UTC</td>\n",
              "      <td>-73.987130</td>\n",
              "      <td>40.733143</td>\n",
              "      <td>-73.991567</td>\n",
              "      <td>40.758092</td>\n",
              "      <td>1.0</td>\n",
              "    </tr>\n",
              "    <tr>\n",
              "      <th>4</th>\n",
              "      <td>5.3</td>\n",
              "      <td>2010-03-09 07:51:00 UTC</td>\n",
              "      <td>-73.968095</td>\n",
              "      <td>40.768008</td>\n",
              "      <td>-73.956655</td>\n",
              "      <td>40.783762</td>\n",
              "      <td>1.0</td>\n",
              "    </tr>\n",
              "  </tbody>\n",
              "</table>\n",
              "</div>"
            ],
            "text/plain": [
              "  fare_amount          pickup_datetime  ...  dropoff_latitude  passenger_count\n",
              "0         4.5  2009-06-15 17:26:21 UTC  ...         40.712278              1.0\n",
              "1        16.9  2010-01-05 16:52:16 UTC  ...         40.782004              1.0\n",
              "2         5.7  2011-08-18 00:35:00 UTC  ...         40.750562              2.0\n",
              "3         7.7  2012-04-21 04:30:42 UTC  ...         40.758092              1.0\n",
              "4         5.3  2010-03-09 07:51:00 UTC  ...         40.783762              1.0\n",
              "\n",
              "[5 rows x 7 columns]"
            ]
          },
          "metadata": {
            "tags": []
          },
          "execution_count": 630
        }
      ]
    },
    {
      "cell_type": "markdown",
      "metadata": {
        "id": "Zy4PMzZ_2j6b",
        "colab_type": "text"
      },
      "source": [
        "This will return first five rows of the test data set."
      ]
    },
    {
      "cell_type": "code",
      "metadata": {
        "id": "GcS6IPZqG8I0",
        "colab_type": "code",
        "colab": {
          "base_uri": "https://localhost:8080/",
          "height": 289
        },
        "outputId": "0a918485-ce28-4335-c45b-59bad1260a6f"
      },
      "source": [
        "test_data.head() "
      ],
      "execution_count": 631,
      "outputs": [
        {
          "output_type": "execute_result",
          "data": {
            "text/html": [
              "<div>\n",
              "<style scoped>\n",
              "    .dataframe tbody tr th:only-of-type {\n",
              "        vertical-align: middle;\n",
              "    }\n",
              "\n",
              "    .dataframe tbody tr th {\n",
              "        vertical-align: top;\n",
              "    }\n",
              "\n",
              "    .dataframe thead th {\n",
              "        text-align: right;\n",
              "    }\n",
              "</style>\n",
              "<table border=\"1\" class=\"dataframe\">\n",
              "  <thead>\n",
              "    <tr style=\"text-align: right;\">\n",
              "      <th></th>\n",
              "      <th>pickup_datetime</th>\n",
              "      <th>pickup_longitude</th>\n",
              "      <th>pickup_latitude</th>\n",
              "      <th>dropoff_longitude</th>\n",
              "      <th>dropoff_latitude</th>\n",
              "      <th>passenger_count</th>\n",
              "    </tr>\n",
              "  </thead>\n",
              "  <tbody>\n",
              "    <tr>\n",
              "      <th>0</th>\n",
              "      <td>2015-01-27 13:08:24 UTC</td>\n",
              "      <td>-73.973320</td>\n",
              "      <td>40.763805</td>\n",
              "      <td>-73.981430</td>\n",
              "      <td>40.743835</td>\n",
              "      <td>1</td>\n",
              "    </tr>\n",
              "    <tr>\n",
              "      <th>1</th>\n",
              "      <td>2015-01-27 13:08:24 UTC</td>\n",
              "      <td>-73.986862</td>\n",
              "      <td>40.719383</td>\n",
              "      <td>-73.998886</td>\n",
              "      <td>40.739201</td>\n",
              "      <td>1</td>\n",
              "    </tr>\n",
              "    <tr>\n",
              "      <th>2</th>\n",
              "      <td>2011-10-08 11:53:44 UTC</td>\n",
              "      <td>-73.982524</td>\n",
              "      <td>40.751260</td>\n",
              "      <td>-73.979654</td>\n",
              "      <td>40.746139</td>\n",
              "      <td>1</td>\n",
              "    </tr>\n",
              "    <tr>\n",
              "      <th>3</th>\n",
              "      <td>2012-12-01 21:12:12 UTC</td>\n",
              "      <td>-73.981160</td>\n",
              "      <td>40.767807</td>\n",
              "      <td>-73.990448</td>\n",
              "      <td>40.751635</td>\n",
              "      <td>1</td>\n",
              "    </tr>\n",
              "    <tr>\n",
              "      <th>4</th>\n",
              "      <td>2012-12-01 21:12:12 UTC</td>\n",
              "      <td>-73.966046</td>\n",
              "      <td>40.789775</td>\n",
              "      <td>-73.988565</td>\n",
              "      <td>40.744427</td>\n",
              "      <td>1</td>\n",
              "    </tr>\n",
              "  </tbody>\n",
              "</table>\n",
              "</div>"
            ],
            "text/plain": [
              "           pickup_datetime  pickup_longitude  ...  dropoff_latitude  passenger_count\n",
              "0  2015-01-27 13:08:24 UTC        -73.973320  ...         40.743835                1\n",
              "1  2015-01-27 13:08:24 UTC        -73.986862  ...         40.739201                1\n",
              "2  2011-10-08 11:53:44 UTC        -73.982524  ...         40.746139                1\n",
              "3  2012-12-01 21:12:12 UTC        -73.981160  ...         40.751635                1\n",
              "4  2012-12-01 21:12:12 UTC        -73.966046  ...         40.744427                1\n",
              "\n",
              "[5 rows x 6 columns]"
            ]
          },
          "metadata": {
            "tags": []
          },
          "execution_count": 631
        }
      ]
    },
    {
      "cell_type": "markdown",
      "metadata": {
        "id": "hE7i_noE2rrW",
        "colab_type": "text"
      },
      "source": [
        "For the better understanding of data,we will check which type of data are present in the training and test data set.\n"
      ]
    },
    {
      "cell_type": "code",
      "metadata": {
        "id": "YjqDoUvTHSIY",
        "colab_type": "code",
        "colab": {
          "base_uri": "https://localhost:8080/",
          "height": 156
        },
        "outputId": "04d561bc-0432-4ad1-af35-44b3ed025e13"
      },
      "source": [
        "train.dtypes"
      ],
      "execution_count": 632,
      "outputs": [
        {
          "output_type": "execute_result",
          "data": {
            "text/plain": [
              "fare_amount           object\n",
              "pickup_datetime       object\n",
              "pickup_longitude     float64\n",
              "pickup_latitude      float64\n",
              "dropoff_longitude    float64\n",
              "dropoff_latitude     float64\n",
              "passenger_count      float64\n",
              "dtype: object"
            ]
          },
          "metadata": {
            "tags": []
          },
          "execution_count": 632
        }
      ]
    },
    {
      "cell_type": "markdown",
      "metadata": {
        "id": "2PO35MxT2ydL",
        "colab_type": "text"
      },
      "source": [
        "Checking the type of data in test set.\n"
      ]
    },
    {
      "cell_type": "code",
      "metadata": {
        "id": "k01Oqcg7HtTi",
        "colab_type": "code",
        "colab": {
          "base_uri": "https://localhost:8080/",
          "height": 139
        },
        "outputId": "ebc3d06c-a824-4923-e441-0bbea8b1ac7b"
      },
      "source": [
        "test_data.dtypes"
      ],
      "execution_count": 633,
      "outputs": [
        {
          "output_type": "execute_result",
          "data": {
            "text/plain": [
              "pickup_datetime       object\n",
              "pickup_longitude     float64\n",
              "pickup_latitude      float64\n",
              "dropoff_longitude    float64\n",
              "dropoff_latitude     float64\n",
              "passenger_count        int64\n",
              "dtype: object"
            ]
          },
          "metadata": {
            "tags": []
          },
          "execution_count": 633
        }
      ]
    },
    {
      "cell_type": "markdown",
      "metadata": {
        "id": "cN6-FPVk21-3",
        "colab_type": "text"
      },
      "source": [
        "*Checking the number of rows and column in the training data set.*"
      ]
    },
    {
      "cell_type": "code",
      "metadata": {
        "id": "bSEzNPVcH7h0",
        "colab_type": "code",
        "colab": {
          "base_uri": "https://localhost:8080/",
          "height": 52
        },
        "outputId": "03edaa8b-1508-400b-ef1f-55b655604b83"
      },
      "source": [
        "\n",
        "print('\\t','Number of rows','','Number of colummns')\n",
        "x,y = train.shape\n",
        "print('\\t',x,'      \\t',y)"
      ],
      "execution_count": 634,
      "outputs": [
        {
          "output_type": "stream",
          "text": [
            "\t Number of rows  Number of colummns\n",
            "\t 16067       \t 7\n"
          ],
          "name": "stdout"
        }
      ]
    },
    {
      "cell_type": "code",
      "metadata": {
        "id": "Sq7Je98-IyUW",
        "colab_type": "code",
        "colab": {
          "base_uri": "https://localhost:8080/",
          "height": 52
        },
        "outputId": "e910de6d-264f-46ef-c3f0-304b1a152544"
      },
      "source": [
        "#Checking the number of rows and column in the test data set\n",
        "print('\\t','Number of rows','','Number of colummns')\n",
        "x,y = test_data.shape\n",
        "print('\\t',x,'      \\t',y)"
      ],
      "execution_count": 635,
      "outputs": [
        {
          "output_type": "stream",
          "text": [
            "\t Number of rows  Number of colummns\n",
            "\t 9914       \t 6\n"
          ],
          "name": "stdout"
        }
      ]
    },
    {
      "cell_type": "code",
      "metadata": {
        "id": "2vKe1R0zKhx4",
        "colab_type": "code",
        "colab": {
          "base_uri": "https://localhost:8080/",
          "height": 294
        },
        "outputId": "5098fb7a-87d1-4029-d10c-7407c713598a"
      },
      "source": [
        "#Descrbing the data set:Describe(): The describe() method is used for calculating some statistical data like percentile, mean and std of the numerical values of the Series or DataFrame. It analyzes both numeric and object series and also the DataFrame column sets of mixed data types.\n",
        "test_data.describe()"
      ],
      "execution_count": 636,
      "outputs": [
        {
          "output_type": "execute_result",
          "data": {
            "text/html": [
              "<div>\n",
              "<style scoped>\n",
              "    .dataframe tbody tr th:only-of-type {\n",
              "        vertical-align: middle;\n",
              "    }\n",
              "\n",
              "    .dataframe tbody tr th {\n",
              "        vertical-align: top;\n",
              "    }\n",
              "\n",
              "    .dataframe thead th {\n",
              "        text-align: right;\n",
              "    }\n",
              "</style>\n",
              "<table border=\"1\" class=\"dataframe\">\n",
              "  <thead>\n",
              "    <tr style=\"text-align: right;\">\n",
              "      <th></th>\n",
              "      <th>pickup_longitude</th>\n",
              "      <th>pickup_latitude</th>\n",
              "      <th>dropoff_longitude</th>\n",
              "      <th>dropoff_latitude</th>\n",
              "      <th>passenger_count</th>\n",
              "    </tr>\n",
              "  </thead>\n",
              "  <tbody>\n",
              "    <tr>\n",
              "      <th>count</th>\n",
              "      <td>9914.000000</td>\n",
              "      <td>9914.000000</td>\n",
              "      <td>9914.000000</td>\n",
              "      <td>9914.000000</td>\n",
              "      <td>9914.000000</td>\n",
              "    </tr>\n",
              "    <tr>\n",
              "      <th>mean</th>\n",
              "      <td>-73.974722</td>\n",
              "      <td>40.751041</td>\n",
              "      <td>-73.973657</td>\n",
              "      <td>40.751743</td>\n",
              "      <td>1.671273</td>\n",
              "    </tr>\n",
              "    <tr>\n",
              "      <th>std</th>\n",
              "      <td>0.042774</td>\n",
              "      <td>0.033541</td>\n",
              "      <td>0.039072</td>\n",
              "      <td>0.035435</td>\n",
              "      <td>1.278747</td>\n",
              "    </tr>\n",
              "    <tr>\n",
              "      <th>min</th>\n",
              "      <td>-74.252193</td>\n",
              "      <td>40.573143</td>\n",
              "      <td>-74.263242</td>\n",
              "      <td>40.568973</td>\n",
              "      <td>1.000000</td>\n",
              "    </tr>\n",
              "    <tr>\n",
              "      <th>25%</th>\n",
              "      <td>-73.992501</td>\n",
              "      <td>40.736125</td>\n",
              "      <td>-73.991247</td>\n",
              "      <td>40.735254</td>\n",
              "      <td>1.000000</td>\n",
              "    </tr>\n",
              "    <tr>\n",
              "      <th>50%</th>\n",
              "      <td>-73.982326</td>\n",
              "      <td>40.753051</td>\n",
              "      <td>-73.980015</td>\n",
              "      <td>40.754065</td>\n",
              "      <td>1.000000</td>\n",
              "    </tr>\n",
              "    <tr>\n",
              "      <th>75%</th>\n",
              "      <td>-73.968013</td>\n",
              "      <td>40.767113</td>\n",
              "      <td>-73.964059</td>\n",
              "      <td>40.768757</td>\n",
              "      <td>2.000000</td>\n",
              "    </tr>\n",
              "    <tr>\n",
              "      <th>max</th>\n",
              "      <td>-72.986532</td>\n",
              "      <td>41.709555</td>\n",
              "      <td>-72.990963</td>\n",
              "      <td>41.696683</td>\n",
              "      <td>6.000000</td>\n",
              "    </tr>\n",
              "  </tbody>\n",
              "</table>\n",
              "</div>"
            ],
            "text/plain": [
              "       pickup_longitude  pickup_latitude  ...  dropoff_latitude  passenger_count\n",
              "count       9914.000000      9914.000000  ...       9914.000000      9914.000000\n",
              "mean         -73.974722        40.751041  ...         40.751743         1.671273\n",
              "std            0.042774         0.033541  ...          0.035435         1.278747\n",
              "min          -74.252193        40.573143  ...         40.568973         1.000000\n",
              "25%          -73.992501        40.736125  ...         40.735254         1.000000\n",
              "50%          -73.982326        40.753051  ...         40.754065         1.000000\n",
              "75%          -73.968013        40.767113  ...         40.768757         2.000000\n",
              "max          -72.986532        41.709555  ...         41.696683         6.000000\n",
              "\n",
              "[8 rows x 5 columns]"
            ]
          },
          "metadata": {
            "tags": []
          },
          "execution_count": 636
        }
      ]
    },
    {
      "cell_type": "code",
      "metadata": {
        "id": "ikJakPbYLB5j",
        "colab_type": "code",
        "colab": {}
      },
      "source": [
        "#From the description obatined -values are found are percentile at 25%,50% and 75%.Mean std and minimum are also obtained."
      ],
      "execution_count": 637,
      "outputs": []
    },
    {
      "cell_type": "code",
      "metadata": {
        "id": "3JjDvt2jL6Ss",
        "colab_type": "code",
        "colab": {
          "base_uri": "https://localhost:8080/",
          "height": 294
        },
        "outputId": "2d55f301-906b-475f-ed78-4dd02ca2cbe0"
      },
      "source": [
        "#Descrbing the data set:Describe(): The describe() method is used for calculating some statistical data like percentile, mean and std of the numerical values of the Series or DataFrame. It analyzes both numeric and object series and also the DataFrame column sets of mixed data types.\n",
        "train.describe()"
      ],
      "execution_count": 638,
      "outputs": [
        {
          "output_type": "execute_result",
          "data": {
            "text/html": [
              "<div>\n",
              "<style scoped>\n",
              "    .dataframe tbody tr th:only-of-type {\n",
              "        vertical-align: middle;\n",
              "    }\n",
              "\n",
              "    .dataframe tbody tr th {\n",
              "        vertical-align: top;\n",
              "    }\n",
              "\n",
              "    .dataframe thead th {\n",
              "        text-align: right;\n",
              "    }\n",
              "</style>\n",
              "<table border=\"1\" class=\"dataframe\">\n",
              "  <thead>\n",
              "    <tr style=\"text-align: right;\">\n",
              "      <th></th>\n",
              "      <th>pickup_longitude</th>\n",
              "      <th>pickup_latitude</th>\n",
              "      <th>dropoff_longitude</th>\n",
              "      <th>dropoff_latitude</th>\n",
              "      <th>passenger_count</th>\n",
              "    </tr>\n",
              "  </thead>\n",
              "  <tbody>\n",
              "    <tr>\n",
              "      <th>count</th>\n",
              "      <td>16067.000000</td>\n",
              "      <td>16067.000000</td>\n",
              "      <td>16067.000000</td>\n",
              "      <td>16067.000000</td>\n",
              "      <td>16012.000000</td>\n",
              "    </tr>\n",
              "    <tr>\n",
              "      <th>mean</th>\n",
              "      <td>-72.462787</td>\n",
              "      <td>39.914725</td>\n",
              "      <td>-72.462328</td>\n",
              "      <td>39.897906</td>\n",
              "      <td>2.625070</td>\n",
              "    </tr>\n",
              "    <tr>\n",
              "      <th>std</th>\n",
              "      <td>10.578384</td>\n",
              "      <td>6.826587</td>\n",
              "      <td>10.575062</td>\n",
              "      <td>6.187087</td>\n",
              "      <td>60.844122</td>\n",
              "    </tr>\n",
              "    <tr>\n",
              "      <th>min</th>\n",
              "      <td>-74.438233</td>\n",
              "      <td>-74.006893</td>\n",
              "      <td>-74.429332</td>\n",
              "      <td>-74.006377</td>\n",
              "      <td>0.000000</td>\n",
              "    </tr>\n",
              "    <tr>\n",
              "      <th>25%</th>\n",
              "      <td>-73.992156</td>\n",
              "      <td>40.734927</td>\n",
              "      <td>-73.991182</td>\n",
              "      <td>40.734651</td>\n",
              "      <td>1.000000</td>\n",
              "    </tr>\n",
              "    <tr>\n",
              "      <th>50%</th>\n",
              "      <td>-73.981698</td>\n",
              "      <td>40.752603</td>\n",
              "      <td>-73.980172</td>\n",
              "      <td>40.753567</td>\n",
              "      <td>1.000000</td>\n",
              "    </tr>\n",
              "    <tr>\n",
              "      <th>75%</th>\n",
              "      <td>-73.966838</td>\n",
              "      <td>40.767381</td>\n",
              "      <td>-73.963643</td>\n",
              "      <td>40.768013</td>\n",
              "      <td>2.000000</td>\n",
              "    </tr>\n",
              "    <tr>\n",
              "      <th>max</th>\n",
              "      <td>40.766125</td>\n",
              "      <td>401.083332</td>\n",
              "      <td>40.802437</td>\n",
              "      <td>41.366138</td>\n",
              "      <td>5345.000000</td>\n",
              "    </tr>\n",
              "  </tbody>\n",
              "</table>\n",
              "</div>"
            ],
            "text/plain": [
              "       pickup_longitude  pickup_latitude  ...  dropoff_latitude  passenger_count\n",
              "count      16067.000000     16067.000000  ...      16067.000000     16012.000000\n",
              "mean         -72.462787        39.914725  ...         39.897906         2.625070\n",
              "std           10.578384         6.826587  ...          6.187087        60.844122\n",
              "min          -74.438233       -74.006893  ...        -74.006377         0.000000\n",
              "25%          -73.992156        40.734927  ...         40.734651         1.000000\n",
              "50%          -73.981698        40.752603  ...         40.753567         1.000000\n",
              "75%          -73.966838        40.767381  ...         40.768013         2.000000\n",
              "max           40.766125       401.083332  ...         41.366138      5345.000000\n",
              "\n",
              "[8 rows x 5 columns]"
            ]
          },
          "metadata": {
            "tags": []
          },
          "execution_count": 638
        }
      ]
    },
    {
      "cell_type": "markdown",
      "metadata": {
        "id": "k7jcSNxXMRKx",
        "colab_type": "text"
      },
      "source": [
        "**Data Cleaning and missing value**"
      ]
    },
    {
      "cell_type": "markdown",
      "metadata": {
        "id": "jYpj4ylkNE11",
        "colab_type": "text"
      },
      "source": [
        "**On check of the types of data available in the data set we found that cab fare and pickup date time are of object data type.So it need to be converted to numeric**"
      ]
    },
    {
      "cell_type": "code",
      "metadata": {
        "id": "CYdK4gmNMiVe",
        "colab_type": "code",
        "colab": {}
      },
      "source": [
        "#Convert fare_amount from object to numeric\n",
        "train[\"fare_amount\"] = pd.to_numeric(train[\"fare_amount\"],errors = \"coerce\") \n",
        " #Using errors=’coerce’. It will replace all non-numeric values with NaN."
      ],
      "execution_count": 639,
      "outputs": []
    },
    {
      "cell_type": "markdown",
      "metadata": {
        "id": "veMnUYKtOIqN",
        "colab_type": "text"
      },
      "source": [
        "**Checking the train data type again(fare amount must be convverted to numeric data type)**"
      ]
    },
    {
      "cell_type": "code",
      "metadata": {
        "id": "zHeFeYBzOS82",
        "colab_type": "code",
        "colab": {
          "base_uri": "https://localhost:8080/",
          "height": 156
        },
        "outputId": "576e2f9d-9592-4728-eba8-a7efc1eeccc9"
      },
      "source": [
        "train.dtypes\n"
      ],
      "execution_count": 640,
      "outputs": [
        {
          "output_type": "execute_result",
          "data": {
            "text/plain": [
              "fare_amount          float64\n",
              "pickup_datetime       object\n",
              "pickup_longitude     float64\n",
              "pickup_latitude      float64\n",
              "dropoff_longitude    float64\n",
              "dropoff_latitude     float64\n",
              "passenger_count      float64\n",
              "dtype: object"
            ]
          },
          "metadata": {
            "tags": []
          },
          "execution_count": 640
        }
      ]
    },
    {
      "cell_type": "code",
      "metadata": {
        "id": "PprKhT72O-nu",
        "colab_type": "code",
        "colab": {}
      },
      "source": [
        "#Converting date time to date_time format from object format\n",
        "train['pickup_datetime'] =  pd.to_datetime(train['pickup_datetime'], format='%Y-%m-%d %H:%M:%S UTC')"
      ],
      "execution_count": 641,
      "outputs": []
    },
    {
      "cell_type": "code",
      "metadata": {
        "id": "VfpafDmfPRbW",
        "colab_type": "code",
        "colab": {
          "base_uri": "https://localhost:8080/",
          "height": 156
        },
        "outputId": "53f09d3a-9658-46eb-d121-948a953f46f1"
      },
      "source": [
        "train.dtypes"
      ],
      "execution_count": 642,
      "outputs": [
        {
          "output_type": "execute_result",
          "data": {
            "text/plain": [
              "fare_amount                 float64\n",
              "pickup_datetime      datetime64[ns]\n",
              "pickup_longitude            float64\n",
              "pickup_latitude             float64\n",
              "dropoff_longitude           float64\n",
              "dropoff_latitude            float64\n",
              "passenger_count             float64\n",
              "dtype: object"
            ]
          },
          "metadata": {
            "tags": []
          },
          "execution_count": 642
        }
      ]
    },
    {
      "cell_type": "markdown",
      "metadata": {
        "id": "ljTHKIF3Pfvc",
        "colab_type": "text"
      },
      "source": [
        "*There are many rows which have values Na,So we will drop those rows*"
      ]
    },
    {
      "cell_type": "code",
      "metadata": {
        "id": "QQFvC-IiPdkS",
        "colab_type": "code",
        "colab": {
          "base_uri": "https://localhost:8080/",
          "height": 609
        },
        "outputId": "6e5f924c-ee93-47c7-d522-b207765f64f3"
      },
      "source": [
        "train.dropna(subset= [\"pickup_datetime\"])   #dropping NA values in datetime column"
      ],
      "execution_count": 643,
      "outputs": [
        {
          "output_type": "execute_result",
          "data": {
            "text/html": [
              "<div>\n",
              "<style scoped>\n",
              "    .dataframe tbody tr th:only-of-type {\n",
              "        vertical-align: middle;\n",
              "    }\n",
              "\n",
              "    .dataframe tbody tr th {\n",
              "        vertical-align: top;\n",
              "    }\n",
              "\n",
              "    .dataframe thead th {\n",
              "        text-align: right;\n",
              "    }\n",
              "</style>\n",
              "<table border=\"1\" class=\"dataframe\">\n",
              "  <thead>\n",
              "    <tr style=\"text-align: right;\">\n",
              "      <th></th>\n",
              "      <th>fare_amount</th>\n",
              "      <th>pickup_datetime</th>\n",
              "      <th>pickup_longitude</th>\n",
              "      <th>pickup_latitude</th>\n",
              "      <th>dropoff_longitude</th>\n",
              "      <th>dropoff_latitude</th>\n",
              "      <th>passenger_count</th>\n",
              "    </tr>\n",
              "  </thead>\n",
              "  <tbody>\n",
              "    <tr>\n",
              "      <th>0</th>\n",
              "      <td>4.5</td>\n",
              "      <td>2009-06-15 17:26:21</td>\n",
              "      <td>-73.844311</td>\n",
              "      <td>40.721319</td>\n",
              "      <td>-73.841610</td>\n",
              "      <td>40.712278</td>\n",
              "      <td>1.0</td>\n",
              "    </tr>\n",
              "    <tr>\n",
              "      <th>1</th>\n",
              "      <td>16.9</td>\n",
              "      <td>2010-01-05 16:52:16</td>\n",
              "      <td>-74.016048</td>\n",
              "      <td>40.711303</td>\n",
              "      <td>-73.979268</td>\n",
              "      <td>40.782004</td>\n",
              "      <td>1.0</td>\n",
              "    </tr>\n",
              "    <tr>\n",
              "      <th>2</th>\n",
              "      <td>5.7</td>\n",
              "      <td>2011-08-18 00:35:00</td>\n",
              "      <td>-73.982738</td>\n",
              "      <td>40.761270</td>\n",
              "      <td>-73.991242</td>\n",
              "      <td>40.750562</td>\n",
              "      <td>2.0</td>\n",
              "    </tr>\n",
              "    <tr>\n",
              "      <th>3</th>\n",
              "      <td>7.7</td>\n",
              "      <td>2012-04-21 04:30:42</td>\n",
              "      <td>-73.987130</td>\n",
              "      <td>40.733143</td>\n",
              "      <td>-73.991567</td>\n",
              "      <td>40.758092</td>\n",
              "      <td>1.0</td>\n",
              "    </tr>\n",
              "    <tr>\n",
              "      <th>4</th>\n",
              "      <td>5.3</td>\n",
              "      <td>2010-03-09 07:51:00</td>\n",
              "      <td>-73.968095</td>\n",
              "      <td>40.768008</td>\n",
              "      <td>-73.956655</td>\n",
              "      <td>40.783762</td>\n",
              "      <td>1.0</td>\n",
              "    </tr>\n",
              "    <tr>\n",
              "      <th>...</th>\n",
              "      <td>...</td>\n",
              "      <td>...</td>\n",
              "      <td>...</td>\n",
              "      <td>...</td>\n",
              "      <td>...</td>\n",
              "      <td>...</td>\n",
              "      <td>...</td>\n",
              "    </tr>\n",
              "    <tr>\n",
              "      <th>16062</th>\n",
              "      <td>6.5</td>\n",
              "      <td>2014-12-12 07:41:00</td>\n",
              "      <td>-74.008820</td>\n",
              "      <td>40.718757</td>\n",
              "      <td>-73.998865</td>\n",
              "      <td>40.719987</td>\n",
              "      <td>1.0</td>\n",
              "    </tr>\n",
              "    <tr>\n",
              "      <th>16063</th>\n",
              "      <td>16.1</td>\n",
              "      <td>2009-07-13 07:58:00</td>\n",
              "      <td>-73.981310</td>\n",
              "      <td>40.781695</td>\n",
              "      <td>-74.014392</td>\n",
              "      <td>40.715527</td>\n",
              "      <td>2.0</td>\n",
              "    </tr>\n",
              "    <tr>\n",
              "      <th>16064</th>\n",
              "      <td>8.5</td>\n",
              "      <td>2009-11-11 11:19:07</td>\n",
              "      <td>-73.972507</td>\n",
              "      <td>40.753417</td>\n",
              "      <td>-73.979577</td>\n",
              "      <td>40.765495</td>\n",
              "      <td>1.0</td>\n",
              "    </tr>\n",
              "    <tr>\n",
              "      <th>16065</th>\n",
              "      <td>8.1</td>\n",
              "      <td>2010-05-11 23:53:00</td>\n",
              "      <td>-73.957027</td>\n",
              "      <td>40.765945</td>\n",
              "      <td>-73.981983</td>\n",
              "      <td>40.779560</td>\n",
              "      <td>1.0</td>\n",
              "    </tr>\n",
              "    <tr>\n",
              "      <th>16066</th>\n",
              "      <td>8.5</td>\n",
              "      <td>2011-12-14 06:24:33</td>\n",
              "      <td>-74.002111</td>\n",
              "      <td>40.729755</td>\n",
              "      <td>-73.983877</td>\n",
              "      <td>40.761975</td>\n",
              "      <td>NaN</td>\n",
              "    </tr>\n",
              "  </tbody>\n",
              "</table>\n",
              "<p>16066 rows × 7 columns</p>\n",
              "</div>"
            ],
            "text/plain": [
              "       fare_amount     pickup_datetime  ...  dropoff_latitude  passenger_count\n",
              "0              4.5 2009-06-15 17:26:21  ...         40.712278              1.0\n",
              "1             16.9 2010-01-05 16:52:16  ...         40.782004              1.0\n",
              "2              5.7 2011-08-18 00:35:00  ...         40.750562              2.0\n",
              "3              7.7 2012-04-21 04:30:42  ...         40.758092              1.0\n",
              "4              5.3 2010-03-09 07:51:00  ...         40.783762              1.0\n",
              "...            ...                 ...  ...               ...              ...\n",
              "16062          6.5 2014-12-12 07:41:00  ...         40.719987              1.0\n",
              "16063         16.1 2009-07-13 07:58:00  ...         40.715527              2.0\n",
              "16064          8.5 2009-11-11 11:19:07  ...         40.765495              1.0\n",
              "16065          8.1 2010-05-11 23:53:00  ...         40.779560              1.0\n",
              "16066          8.5 2011-12-14 06:24:33  ...         40.761975              NaN\n",
              "\n",
              "[16066 rows x 7 columns]"
            ]
          },
          "metadata": {
            "tags": []
          },
          "execution_count": 643
        }
      ]
    },
    {
      "cell_type": "markdown",
      "metadata": {
        "id": "3oSZsvLQtIWO",
        "colab_type": "text"
      },
      "source": [
        " **we will saperate the Pickup_datetime column into separate field like year, month, day of the week, etc**\n",
        "\n"
      ]
    },
    {
      "cell_type": "code",
      "metadata": {
        "id": "ozc3hwUitOsX",
        "colab_type": "code",
        "colab": {}
      },
      "source": [
        "\n",
        "\n",
        "train['year'] = train['pickup_datetime'].dt.year\n",
        "train['Month'] = train['pickup_datetime'].dt.month\n",
        "train['Date'] = train['pickup_datetime'].dt.day\n",
        "train['Day'] = train['pickup_datetime'].dt.dayofweek\n",
        "train['Hour'] = train['pickup_datetime'].dt.hour\n",
        "train['Minute'] = train['pickup_datetime'].dt.minute"
      ],
      "execution_count": 644,
      "outputs": []
    },
    {
      "cell_type": "code",
      "metadata": {
        "id": "WyTvmc29tVde",
        "colab_type": "code",
        "colab": {
          "base_uri": "https://localhost:8080/",
          "height": 260
        },
        "outputId": "b4d5dc6f-ffe4-4d1c-d92b-d81b1d8af9e4"
      },
      "source": [
        "train.dtypes"
      ],
      "execution_count": 645,
      "outputs": [
        {
          "output_type": "execute_result",
          "data": {
            "text/plain": [
              "fare_amount                 float64\n",
              "pickup_datetime      datetime64[ns]\n",
              "pickup_longitude            float64\n",
              "pickup_latitude             float64\n",
              "dropoff_longitude           float64\n",
              "dropoff_latitude            float64\n",
              "passenger_count             float64\n",
              "year                        float64\n",
              "Month                       float64\n",
              "Date                        float64\n",
              "Day                         float64\n",
              "Hour                        float64\n",
              "Minute                      float64\n",
              "dtype: object"
            ]
          },
          "metadata": {
            "tags": []
          },
          "execution_count": 645
        }
      ]
    },
    {
      "cell_type": "code",
      "metadata": {
        "id": "J70Cr_twMp_B",
        "colab_type": "code",
        "colab": {}
      },
      "source": [
        "test_data['pickup_datetime']= pd.to_datetime(test_data['pickup_datetime'],format= \"%Y-%m-%d %H:%M:%S UTC\")"
      ],
      "execution_count": 646,
      "outputs": []
    },
    {
      "cell_type": "code",
      "metadata": {
        "id": "2e5OcRgfNGH5",
        "colab_type": "code",
        "colab": {
          "base_uri": "https://localhost:8080/",
          "height": 139
        },
        "outputId": "6208ebc5-1b8c-46d9-f646-e0ae1546dd3c"
      },
      "source": [
        "test_data.dtypes"
      ],
      "execution_count": 647,
      "outputs": [
        {
          "output_type": "execute_result",
          "data": {
            "text/plain": [
              "pickup_datetime      datetime64[ns]\n",
              "pickup_longitude            float64\n",
              "pickup_latitude             float64\n",
              "dropoff_longitude           float64\n",
              "dropoff_latitude            float64\n",
              "passenger_count               int64\n",
              "dtype: object"
            ]
          },
          "metadata": {
            "tags": []
          },
          "execution_count": 647
        }
      ]
    },
    {
      "cell_type": "markdown",
      "metadata": {
        "id": "RRFO1uGSNNMA",
        "colab_type": "text"
      },
      "source": [
        "**We will seperate pickup date_time column into seperate areas like year,date**\n"
      ]
    },
    {
      "cell_type": "code",
      "metadata": {
        "id": "4z7_v75BNtNs",
        "colab_type": "code",
        "colab": {}
      },
      "source": [
        "test_data['year'] = test_data['pickup_datetime'].dt.year"
      ],
      "execution_count": 648,
      "outputs": []
    },
    {
      "cell_type": "code",
      "metadata": {
        "id": "sUAXF5aBNUw4",
        "colab_type": "code",
        "colab": {
          "base_uri": "https://localhost:8080/",
          "height": 156
        },
        "outputId": "d607a55b-0ad2-4ce5-d628-bdfdd769e553"
      },
      "source": [
        "test_data.dtypes"
      ],
      "execution_count": 649,
      "outputs": [
        {
          "output_type": "execute_result",
          "data": {
            "text/plain": [
              "pickup_datetime      datetime64[ns]\n",
              "pickup_longitude            float64\n",
              "pickup_latitude             float64\n",
              "dropoff_longitude           float64\n",
              "dropoff_latitude            float64\n",
              "passenger_count               int64\n",
              "year                          int64\n",
              "dtype: object"
            ]
          },
          "metadata": {
            "tags": []
          },
          "execution_count": 649
        }
      ]
    },
    {
      "cell_type": "code",
      "metadata": {
        "id": "nmu4UzBHOJpK",
        "colab_type": "code",
        "colab": {}
      },
      "source": [
        "test_data['date '] = test_data['pickup_datetime'].dt.date\n",
        "test_data['month']=test_data['pickup_datetime'].dt.month\n",
        "test_data['day'] = test_data['pickup_datetime'].dt.dayofweek\n",
        "test_data['hour'] = test_data['pickup_datetime'].dt.hour\n",
        "test_data['Minute'] = test_data['pickup_datetime'].dt.minute"
      ],
      "execution_count": 650,
      "outputs": []
    },
    {
      "cell_type": "code",
      "metadata": {
        "id": "FqB9i70fPR8G",
        "colab_type": "code",
        "colab": {
          "base_uri": "https://localhost:8080/",
          "height": 243
        },
        "outputId": "241f9db9-7ac8-4c56-bf45-b36e7e6a9dad"
      },
      "source": [
        "test_data.dtypes"
      ],
      "execution_count": 651,
      "outputs": [
        {
          "output_type": "execute_result",
          "data": {
            "text/plain": [
              "pickup_datetime      datetime64[ns]\n",
              "pickup_longitude            float64\n",
              "pickup_latitude             float64\n",
              "dropoff_longitude           float64\n",
              "dropoff_latitude            float64\n",
              "passenger_count               int64\n",
              "year                          int64\n",
              "date                         object\n",
              "month                         int64\n",
              "day                           int64\n",
              "hour                          int64\n",
              "Minute                        int64\n",
              "dtype: object"
            ]
          },
          "metadata": {
            "tags": []
          },
          "execution_count": 651
        }
      ]
    },
    {
      "cell_type": "markdown",
      "metadata": {
        "id": "9cVjLwNQqqBW",
        "colab_type": "text"
      },
      "source": [
        "**Now we have splitted the pickup date time variable into different varaibles like month, year, day etc so now we dont need to have that pickup_Date variable now.**\n",
        "\n",
        "**"
      ]
    },
    {
      "cell_type": "code",
      "metadata": {
        "id": "rBskWQQBqsE5",
        "colab_type": "code",
        "colab": {}
      },
      "source": [
        "drop = ['pickup_datetime',  'Minute']\n",
        "train = train.drop(drop, axis = 1)\n",
        "\n"
      ],
      "execution_count": 652,
      "outputs": []
    },
    {
      "cell_type": "code",
      "metadata": {
        "id": "nqQMaeuqt8og",
        "colab_type": "code",
        "colab": {}
      },
      "source": [
        "drop1=['pickup_datetime',  'Minute']\n",
        "test_data = test_data.drop(drop, axis = 1)"
      ],
      "execution_count": 653,
      "outputs": []
    },
    {
      "cell_type": "markdown",
      "metadata": {
        "id": "NGkpOMEtPxjk",
        "colab_type": "text"
      },
      "source": [
        "**Check for the un-necessary data in the train data set**\n",
        "\n",
        "1>Passenger count should be not more than 6.\n",
        "\n",
        "2>Longitude should be in the range of -90 to +90.\n",
        "\n",
        "3>Latitude should be in the range of -180 to +180.\n",
        "\n",
        "4>Some values which does not seem acceptable,we will remove them.\n"
      ]
    },
    {
      "cell_type": "code",
      "metadata": {
        "id": "P-ver5X2QfJh",
        "colab_type": "code",
        "colab": {
          "base_uri": "https://localhost:8080/",
          "height": 173
        },
        "outputId": "c6d8dfd2-75c7-4ac5-ce05-0f601bd82d1f"
      },
      "source": [
        "train['passenger_count'].describe()"
      ],
      "execution_count": 654,
      "outputs": [
        {
          "output_type": "execute_result",
          "data": {
            "text/plain": [
              "count    16012.000000\n",
              "mean         2.625070\n",
              "std         60.844122\n",
              "min          0.000000\n",
              "25%          1.000000\n",
              "50%          1.000000\n",
              "75%          2.000000\n",
              "max       5345.000000\n",
              "Name: passenger_count, dtype: float64"
            ]
          },
          "metadata": {
            "tags": []
          },
          "execution_count": 654
        }
      ]
    },
    {
      "cell_type": "markdown",
      "metadata": {
        "id": "BEdlNolnRSqk",
        "colab_type": "text"
      },
      "source": [
        "**In the above description of the passenger count we see that max number of passenger count is 5435 which is absurd.So we will remove all those row who have value more than 6.**"
      ]
    },
    {
      "cell_type": "code",
      "metadata": {
        "id": "Q2J9a06URTn8",
        "colab_type": "code",
        "colab": {}
      },
      "source": [
        "train = train.drop(train[train[\"passenger_count\"]> 6 ].index, axis=0)"
      ],
      "execution_count": 655,
      "outputs": []
    },
    {
      "cell_type": "code",
      "metadata": {
        "id": "oYKyTiZKR51D",
        "colab_type": "code",
        "colab": {
          "base_uri": "https://localhost:8080/",
          "height": 173
        },
        "outputId": "4474f78c-b83c-4f3e-a67b-b5193a592047"
      },
      "source": [
        "train['passenger_count'].describe()"
      ],
      "execution_count": 656,
      "outputs": [
        {
          "output_type": "execute_result",
          "data": {
            "text/plain": [
              "count    15992.000000\n",
              "mean         1.643661\n",
              "std          1.267474\n",
              "min          0.000000\n",
              "25%          1.000000\n",
              "50%          1.000000\n",
              "75%          2.000000\n",
              "max          6.000000\n",
              "Name: passenger_count, dtype: float64"
            ]
          },
          "metadata": {
            "tags": []
          },
          "execution_count": 656
        }
      ]
    },
    {
      "cell_type": "markdown",
      "metadata": {
        "id": "JuTl6SSiSNvU",
        "colab_type": "text"
      },
      "source": [
        "**removing datetime missing values rows.**"
      ]
    },
    {
      "cell_type": "code",
      "metadata": {
        "id": "aGuAkccOSPr5",
        "colab_type": "code",
        "colab": {}
      },
      "source": [
        "#train = train.drop(train[train['pickup_datetime'].isnull()].index, axis=0)\n",
        "##print(train.shape)\n",
        "#print(train['pickup_datetime'].isnull().sum())"
      ],
      "execution_count": 657,
      "outputs": []
    },
    {
      "cell_type": "markdown",
      "metadata": {
        "id": "FzxWSPdAScYT",
        "colab_type": "text"
      },
      "source": [
        "**Also removing the values which have the passenger count equal to 0.**"
      ]
    },
    {
      "cell_type": "code",
      "metadata": {
        "id": "Y7SxhpaWSlRK",
        "colab_type": "code",
        "colab": {}
      },
      "source": [
        "train = train.drop(train[train[\"passenger_count\"] == 0 ].index, axis=0)"
      ],
      "execution_count": 658,
      "outputs": []
    },
    {
      "cell_type": "code",
      "metadata": {
        "id": "NnDEqkDkSwRJ",
        "colab_type": "code",
        "colab": {
          "base_uri": "https://localhost:8080/",
          "height": 173
        },
        "outputId": "45ea8a24-e69d-485b-99bb-c1ad69522205"
      },
      "source": [
        "train[\"passenger_count\"].describe()"
      ],
      "execution_count": 659,
      "outputs": [
        {
          "output_type": "execute_result",
          "data": {
            "text/plain": [
              "count    15935.000000\n",
              "mean         1.649540\n",
              "std          1.265914\n",
              "min          0.120000\n",
              "25%          1.000000\n",
              "50%          1.000000\n",
              "75%          2.000000\n",
              "max          6.000000\n",
              "Name: passenger_count, dtype: float64"
            ]
          },
          "metadata": {
            "tags": []
          },
          "execution_count": 659
        }
      ]
    },
    {
      "cell_type": "code",
      "metadata": {
        "id": "lorlmzj2S6-h",
        "colab_type": "code",
        "colab": {
          "base_uri": "https://localhost:8080/",
          "height": 225
        },
        "outputId": "10f05534-c145-4bd2-832a-b3f747951444"
      },
      "source": [
        "train['passenger_count'].sort_values(ascending = True)"
      ],
      "execution_count": 660,
      "outputs": [
        {
          "output_type": "execute_result",
          "data": {
            "text/plain": [
              "8862     0.12\n",
              "0        1.00\n",
              "9790     1.00\n",
              "9791     1.00\n",
              "9792     1.00\n",
              "         ... \n",
              "8076      NaN\n",
              "8139      NaN\n",
              "8259      NaN\n",
              "8306      NaN\n",
              "16066     NaN\n",
              "Name: passenger_count, Length: 15990, dtype: float64"
            ]
          },
          "metadata": {
            "tags": []
          },
          "execution_count": 660
        }
      ]
    },
    {
      "cell_type": "markdown",
      "metadata": {
        "id": "UiVqAGDcTTu1",
        "colab_type": "text"
      },
      "source": [
        "**We observe in sorted passenger count that many values are zero so we will remove them.**"
      ]
    },
    {
      "cell_type": "code",
      "metadata": {
        "id": "WcdeEHB_TeIw",
        "colab_type": "code",
        "colab": {
          "base_uri": "https://localhost:8080/",
          "height": 52
        },
        "outputId": "30732fc6-ac82-4c22-dd6e-eea44d7b217b"
      },
      "source": [
        "train = train.drop(train[train['passenger_count'].isnull()].index, axis=0)\n",
        "print(train.shape)\n",
        "print(train['passenger_count'].isnull().sum())"
      ],
      "execution_count": 661,
      "outputs": [
        {
          "output_type": "stream",
          "text": [
            "(15935, 11)\n",
            "0\n"
          ],
          "name": "stdout"
        }
      ]
    },
    {
      "cell_type": "markdown",
      "metadata": {
        "id": "2X6ym-z9Tp9q",
        "colab_type": "text"
      },
      "source": [
        "One have passenger count 0.12,which is not possible,so we will remove them."
      ]
    },
    {
      "cell_type": "code",
      "metadata": {
        "id": "3jHjZo5ETyRT",
        "colab_type": "code",
        "colab": {
          "base_uri": "https://localhost:8080/",
          "height": 52
        },
        "outputId": "e514e649-a3d0-4409-d844-8a520445b4a6"
      },
      "source": [
        "\n",
        "train = train.drop(train[train[\"passenger_count\"] == 0.12 ].index, axis=0)\n",
        "print(train.shape)\n",
        "print(train['passenger_count'].isnull().sum())\n"
      ],
      "execution_count": 662,
      "outputs": [
        {
          "output_type": "stream",
          "text": [
            "(15934, 11)\n",
            "0\n"
          ],
          "name": "stdout"
        }
      ]
    },
    {
      "cell_type": "markdown",
      "metadata": {
        "id": "bdivduCVXBQA",
        "colab_type": "text"
      },
      "source": [
        "**Checking for the longitude and latitude.**\n",
        "\n",
        "\n"
      ]
    },
    {
      "cell_type": "markdown",
      "metadata": {
        "id": "XE49xA2lXIe7",
        "colab_type": "text"
      },
      "source": [
        "**We will drop all latitude who are not in the range of -90 to +90.**\n",
        "\n",
        "**We will also drop all longitude who are not in the range of +180 to -180.**\n"
      ]
    },
    {
      "cell_type": "code",
      "metadata": {
        "id": "3xNf2VGIXAV8",
        "colab_type": "code",
        "colab": {
          "base_uri": "https://localhost:8080/",
          "height": 99
        },
        "outputId": "4f8433dd-1929-43ae-ec9d-3df384f3ebe4"
      },
      "source": [
        "train[train['pickup_latitude']<-90]\n",
        "train[train['pickup_latitude']>90]"
      ],
      "execution_count": 663,
      "outputs": [
        {
          "output_type": "execute_result",
          "data": {
            "text/html": [
              "<div>\n",
              "<style scoped>\n",
              "    .dataframe tbody tr th:only-of-type {\n",
              "        vertical-align: middle;\n",
              "    }\n",
              "\n",
              "    .dataframe tbody tr th {\n",
              "        vertical-align: top;\n",
              "    }\n",
              "\n",
              "    .dataframe thead th {\n",
              "        text-align: right;\n",
              "    }\n",
              "</style>\n",
              "<table border=\"1\" class=\"dataframe\">\n",
              "  <thead>\n",
              "    <tr style=\"text-align: right;\">\n",
              "      <th></th>\n",
              "      <th>fare_amount</th>\n",
              "      <th>pickup_longitude</th>\n",
              "      <th>pickup_latitude</th>\n",
              "      <th>dropoff_longitude</th>\n",
              "      <th>dropoff_latitude</th>\n",
              "      <th>passenger_count</th>\n",
              "      <th>year</th>\n",
              "      <th>Month</th>\n",
              "      <th>Date</th>\n",
              "      <th>Day</th>\n",
              "      <th>Hour</th>\n",
              "    </tr>\n",
              "  </thead>\n",
              "  <tbody>\n",
              "    <tr>\n",
              "      <th>5686</th>\n",
              "      <td>3.3</td>\n",
              "      <td>-73.947235</td>\n",
              "      <td>401.083332</td>\n",
              "      <td>-73.951392</td>\n",
              "      <td>40.778927</td>\n",
              "      <td>1.0</td>\n",
              "      <td>2011.0</td>\n",
              "      <td>7.0</td>\n",
              "      <td>30.0</td>\n",
              "      <td>5.0</td>\n",
              "      <td>11.0</td>\n",
              "    </tr>\n",
              "  </tbody>\n",
              "</table>\n",
              "</div>"
            ],
            "text/plain": [
              "      fare_amount  pickup_longitude  pickup_latitude  ...  Date  Day  Hour\n",
              "5686          3.3        -73.947235       401.083332  ...  30.0  5.0  11.0\n",
              "\n",
              "[1 rows x 11 columns]"
            ]
          },
          "metadata": {
            "tags": []
          },
          "execution_count": 663
        }
      ]
    },
    {
      "cell_type": "code",
      "metadata": {
        "id": "xLfVgb-DXtKO",
        "colab_type": "code",
        "colab": {}
      },
      "source": [
        "#dropping one value of >90\n",
        "train = train.drop((train[train['pickup_latitude']<-90]).index, axis=0)\n",
        "train = train.drop((train[train['pickup_latitude']>90]).index, axis=0)"
      ],
      "execution_count": 664,
      "outputs": []
    },
    {
      "cell_type": "code",
      "metadata": {
        "id": "Pdym_iOuYLk5",
        "colab_type": "code",
        "colab": {
          "base_uri": "https://localhost:8080/",
          "height": 69
        },
        "outputId": "d19563a4-49fd-4057-cda7-51b0a7bac753"
      },
      "source": [
        "train[train['pickup_longitude']<-180]\n",
        "train[train['pickup_longitude']>180]"
      ],
      "execution_count": 665,
      "outputs": [
        {
          "output_type": "execute_result",
          "data": {
            "text/html": [
              "<div>\n",
              "<style scoped>\n",
              "    .dataframe tbody tr th:only-of-type {\n",
              "        vertical-align: middle;\n",
              "    }\n",
              "\n",
              "    .dataframe tbody tr th {\n",
              "        vertical-align: top;\n",
              "    }\n",
              "\n",
              "    .dataframe thead th {\n",
              "        text-align: right;\n",
              "    }\n",
              "</style>\n",
              "<table border=\"1\" class=\"dataframe\">\n",
              "  <thead>\n",
              "    <tr style=\"text-align: right;\">\n",
              "      <th></th>\n",
              "      <th>fare_amount</th>\n",
              "      <th>pickup_longitude</th>\n",
              "      <th>pickup_latitude</th>\n",
              "      <th>dropoff_longitude</th>\n",
              "      <th>dropoff_latitude</th>\n",
              "      <th>passenger_count</th>\n",
              "      <th>year</th>\n",
              "      <th>Month</th>\n",
              "      <th>Date</th>\n",
              "      <th>Day</th>\n",
              "      <th>Hour</th>\n",
              "    </tr>\n",
              "  </thead>\n",
              "  <tbody>\n",
              "  </tbody>\n",
              "</table>\n",
              "</div>"
            ],
            "text/plain": [
              "Empty DataFrame\n",
              "Columns: [fare_amount, pickup_longitude, pickup_latitude, dropoff_longitude, dropoff_latitude, passenger_count, year, Month, Date, Day, Hour]\n",
              "Index: []"
            ]
          },
          "metadata": {
            "tags": []
          },
          "execution_count": 665
        }
      ]
    },
    {
      "cell_type": "code",
      "metadata": {
        "id": "4Z13UtlsYtaT",
        "colab_type": "code",
        "colab": {
          "base_uri": "https://localhost:8080/",
          "height": 69
        },
        "outputId": "bfd8dc73-97b6-4829-b5b7-600903fcaf3a"
      },
      "source": [
        "train[train['dropoff_latitude']<-90]\n",
        "train[train['dropoff_latitude']>90]\n"
      ],
      "execution_count": 666,
      "outputs": [
        {
          "output_type": "execute_result",
          "data": {
            "text/html": [
              "<div>\n",
              "<style scoped>\n",
              "    .dataframe tbody tr th:only-of-type {\n",
              "        vertical-align: middle;\n",
              "    }\n",
              "\n",
              "    .dataframe tbody tr th {\n",
              "        vertical-align: top;\n",
              "    }\n",
              "\n",
              "    .dataframe thead th {\n",
              "        text-align: right;\n",
              "    }\n",
              "</style>\n",
              "<table border=\"1\" class=\"dataframe\">\n",
              "  <thead>\n",
              "    <tr style=\"text-align: right;\">\n",
              "      <th></th>\n",
              "      <th>fare_amount</th>\n",
              "      <th>pickup_longitude</th>\n",
              "      <th>pickup_latitude</th>\n",
              "      <th>dropoff_longitude</th>\n",
              "      <th>dropoff_latitude</th>\n",
              "      <th>passenger_count</th>\n",
              "      <th>year</th>\n",
              "      <th>Month</th>\n",
              "      <th>Date</th>\n",
              "      <th>Day</th>\n",
              "      <th>Hour</th>\n",
              "    </tr>\n",
              "  </thead>\n",
              "  <tbody>\n",
              "  </tbody>\n",
              "</table>\n",
              "</div>"
            ],
            "text/plain": [
              "Empty DataFrame\n",
              "Columns: [fare_amount, pickup_longitude, pickup_latitude, dropoff_longitude, dropoff_latitude, passenger_count, year, Month, Date, Day, Hour]\n",
              "Index: []"
            ]
          },
          "metadata": {
            "tags": []
          },
          "execution_count": 666
        }
      ]
    },
    {
      "cell_type": "code",
      "metadata": {
        "id": "5t7PPXpKYxWV",
        "colab_type": "code",
        "colab": {
          "base_uri": "https://localhost:8080/",
          "height": 69
        },
        "outputId": "700be583-7215-44a1-b38c-e953158e5a91"
      },
      "source": [
        "train[train['dropoff_longitude']<-180]\n",
        "train[train['dropoff_longitude']>180]\n"
      ],
      "execution_count": 667,
      "outputs": [
        {
          "output_type": "execute_result",
          "data": {
            "text/html": [
              "<div>\n",
              "<style scoped>\n",
              "    .dataframe tbody tr th:only-of-type {\n",
              "        vertical-align: middle;\n",
              "    }\n",
              "\n",
              "    .dataframe tbody tr th {\n",
              "        vertical-align: top;\n",
              "    }\n",
              "\n",
              "    .dataframe thead th {\n",
              "        text-align: right;\n",
              "    }\n",
              "</style>\n",
              "<table border=\"1\" class=\"dataframe\">\n",
              "  <thead>\n",
              "    <tr style=\"text-align: right;\">\n",
              "      <th></th>\n",
              "      <th>fare_amount</th>\n",
              "      <th>pickup_longitude</th>\n",
              "      <th>pickup_latitude</th>\n",
              "      <th>dropoff_longitude</th>\n",
              "      <th>dropoff_latitude</th>\n",
              "      <th>passenger_count</th>\n",
              "      <th>year</th>\n",
              "      <th>Month</th>\n",
              "      <th>Date</th>\n",
              "      <th>Day</th>\n",
              "      <th>Hour</th>\n",
              "    </tr>\n",
              "  </thead>\n",
              "  <tbody>\n",
              "  </tbody>\n",
              "</table>\n",
              "</div>"
            ],
            "text/plain": [
              "Empty DataFrame\n",
              "Columns: [fare_amount, pickup_longitude, pickup_latitude, dropoff_longitude, dropoff_latitude, passenger_count, year, Month, Date, Day, Hour]\n",
              "Index: []"
            ]
          },
          "metadata": {
            "tags": []
          },
          "execution_count": 667
        }
      ]
    },
    {
      "cell_type": "code",
      "metadata": {
        "id": "oMffQEGaZDrL",
        "colab_type": "code",
        "colab": {
          "base_uri": "https://localhost:8080/",
          "height": 173
        },
        "outputId": "2c5daa10-5a38-480d-ce64-dcbe82c6a337"
      },
      "source": [
        "train['dropoff_longitude'].describe()"
      ],
      "execution_count": 668,
      "outputs": [
        {
          "output_type": "execute_result",
          "data": {
            "text/plain": [
              "count    15933.000000\n",
              "mean       -72.458877\n",
              "std         10.587462\n",
              "min        -74.429332\n",
              "25%        -73.991182\n",
              "50%        -73.980156\n",
              "75%        -73.963610\n",
              "max         40.802437\n",
              "Name: dropoff_longitude, dtype: float64"
            ]
          },
          "metadata": {
            "tags": []
          },
          "execution_count": 668
        }
      ]
    },
    {
      "cell_type": "code",
      "metadata": {
        "id": "-d6P42GJZMLQ",
        "colab_type": "code",
        "colab": {
          "base_uri": "https://localhost:8080/",
          "height": 173
        },
        "outputId": "c275f086-3121-474e-b968-f8e6f9c811df"
      },
      "source": [
        "train['dropoff_latitude'].describe()"
      ],
      "execution_count": 669,
      "outputs": [
        {
          "output_type": "execute_result",
          "data": {
            "text/plain": [
              "count    15933.000000\n",
              "mean        39.895851\n",
              "std          6.196462\n",
              "min        -74.006377\n",
              "25%         40.734659\n",
              "50%         40.753564\n",
              "75%         40.768016\n",
              "max         41.366138\n",
              "Name: dropoff_latitude, dtype: float64"
            ]
          },
          "metadata": {
            "tags": []
          },
          "execution_count": 669
        }
      ]
    },
    {
      "cell_type": "code",
      "metadata": {
        "id": "dWc0BHC6ZSxY",
        "colab_type": "code",
        "colab": {
          "base_uri": "https://localhost:8080/",
          "height": 173
        },
        "outputId": "9af2903a-226e-4b6c-c484-2c56bb48a3ae"
      },
      "source": [
        "train['pickup_latitude'].describe()"
      ],
      "execution_count": 670,
      "outputs": [
        {
          "output_type": "execute_result",
          "data": {
            "text/plain": [
              "count    15933.000000\n",
              "mean        39.895323\n",
              "std          6.196836\n",
              "min        -74.006893\n",
              "25%         40.734935\n",
              "50%         40.752632\n",
              "75%         40.767382\n",
              "max         41.366138\n",
              "Name: pickup_latitude, dtype: float64"
            ]
          },
          "metadata": {
            "tags": []
          },
          "execution_count": 670
        }
      ]
    },
    {
      "cell_type": "code",
      "metadata": {
        "id": "_g9ADK1rZX9k",
        "colab_type": "code",
        "colab": {
          "base_uri": "https://localhost:8080/",
          "height": 173
        },
        "outputId": "3c2295a9-815d-4393-9a02-46d60ece95f3"
      },
      "source": [
        "train['dropoff_longitude'].describe()"
      ],
      "execution_count": 671,
      "outputs": [
        {
          "output_type": "execute_result",
          "data": {
            "text/plain": [
              "count    15933.000000\n",
              "mean       -72.458877\n",
              "std         10.587462\n",
              "min        -74.429332\n",
              "25%        -73.991182\n",
              "50%        -73.980156\n",
              "75%        -73.963610\n",
              "max         40.802437\n",
              "Name: dropoff_longitude, dtype: float64"
            ]
          },
          "metadata": {
            "tags": []
          },
          "execution_count": 671
        }
      ]
    },
    {
      "cell_type": "markdown",
      "metadata": {
        "id": "sAQXnFoRUW4I",
        "colab_type": "text"
      },
      "source": [
        "**Checking for the fare.**"
      ]
    },
    {
      "cell_type": "code",
      "metadata": {
        "id": "Bldc1KNDU2nm",
        "colab_type": "code",
        "colab": {
          "base_uri": "https://localhost:8080/",
          "height": 225
        },
        "outputId": "1ebffe6c-acde-463b-f405-5a0194a41e6a"
      },
      "source": [
        "train['fare_amount'].sort_values(ascending=True)"
      ],
      "execution_count": 672,
      "outputs": [
        {
          "output_type": "execute_result",
          "data": {
            "text/plain": [
              "13032   -3.00\n",
              "2039    -2.90\n",
              "2486    -2.50\n",
              "10002    0.00\n",
              "2780     0.01\n",
              "         ... \n",
              "1712      NaN\n",
              "2412      NaN\n",
              "2458      NaN\n",
              "8178      NaN\n",
              "8226      NaN\n",
              "Name: fare_amount, Length: 15933, dtype: float64"
            ]
          },
          "metadata": {
            "tags": []
          },
          "execution_count": 672
        }
      ]
    },
    {
      "cell_type": "markdown",
      "metadata": {
        "id": "vzU1eZ6hVJNi",
        "colab_type": "text"
      },
      "source": [
        "**A lot of fare amount are in negative and many are also null,so we will remove them.**"
      ]
    },
    {
      "cell_type": "code",
      "metadata": {
        "id": "0y67-XM9VRZg",
        "colab_type": "code",
        "colab": {}
      },
      "source": [
        "train = train.drop(train[train['fare_amount'].isnull()].index,axis=0)"
      ],
      "execution_count": 673,
      "outputs": []
    },
    {
      "cell_type": "code",
      "metadata": {
        "id": "eQ4xaO1tWQ72",
        "colab_type": "code",
        "colab": {}
      },
      "source": [
        "\n",
        "train = train.drop(train[train[\"fare_amount\"]<0].index, axis=0)\n"
      ],
      "execution_count": 674,
      "outputs": []
    },
    {
      "cell_type": "code",
      "metadata": {
        "id": "fc_XfiB5WeF6",
        "colab_type": "code",
        "colab": {}
      },
      "source": [
        "train = train.drop(train[train[\"fare_amount\"]<1].index, axis=0)\n",
        "train = train.drop(train[train[\"fare_amount\"]> 454 ].index, axis=0)"
      ],
      "execution_count": 675,
      "outputs": []
    },
    {
      "cell_type": "code",
      "metadata": {
        "id": "bTX1D-40Wq5s",
        "colab_type": "code",
        "colab": {
          "base_uri": "https://localhost:8080/",
          "height": 173
        },
        "outputId": "d424abbd-d84f-41f9-9001-12a07e993a22"
      },
      "source": [
        "train['fare_amount'].describe()"
      ],
      "execution_count": 676,
      "outputs": [
        {
          "output_type": "execute_result",
          "data": {
            "text/plain": [
              "count    15902.000000\n",
              "mean        11.376871\n",
              "std         10.814719\n",
              "min          1.140000\n",
              "25%          6.000000\n",
              "50%          8.500000\n",
              "75%         12.500000\n",
              "max        453.000000\n",
              "Name: fare_amount, dtype: float64"
            ]
          },
          "metadata": {
            "tags": []
          },
          "execution_count": 676
        }
      ]
    },
    {
      "cell_type": "markdown",
      "metadata": {
        "id": "Pgi1bfcsD4Gy",
        "colab_type": "text"
      },
      "source": [
        "**Calculating distance between two points based on the given co-ordinates**"
      ]
    },
    {
      "cell_type": "code",
      "metadata": {
        "id": "KeSi82vHY7Db",
        "colab_type": "code",
        "colab": {}
      },
      "source": [
        "from math import radians, cos, sin, asin, sqrt\n",
        "def haversine(a):\n",
        "    longitude1=a[0]\n",
        "    latitude1=a[1]\n",
        "    longitude2=a[2]\n",
        "    latitude2=a[3]\n",
        "    \n",
        "    longitude1, latitude1, longitude2, latitude2 = map(radians, [longitude1, latitude1, longitude2, latitude2])\n",
        "    \n",
        "    # haversine formula \n",
        "    dlong = longitude2 - longitude1 \n",
        "    dlati = latitude2 - latitude1 \n",
        "    a = sin(dlati/2)**2 + cos(latitude1) * cos(latitude2) * sin(dlong/2)**2\n",
        "    c =  2 * asin(sqrt(a))\n",
        "    # Earth radius = 6,371\n",
        "    km = 6371* c\n",
        "    return km"
      ],
      "execution_count": 677,
      "outputs": []
    },
    {
      "cell_type": "code",
      "metadata": {
        "id": "0UuUh3bWkVjj",
        "colab_type": "code",
        "colab": {}
      },
      "source": [
        "train['distance'] = train[['pickup_longitude','pickup_latitude','dropoff_longitude','dropoff_latitude']].apply(haversine,axis=1)"
      ],
      "execution_count": 678,
      "outputs": []
    },
    {
      "cell_type": "code",
      "metadata": {
        "id": "L5V7Xe-Fklq5",
        "colab_type": "code",
        "colab": {}
      },
      "source": [
        "test_data['distance'] = test_data[['pickup_longitude','pickup_latitude','dropoff_longitude','dropoff_latitude']].apply(haversine,axis=1)"
      ],
      "execution_count": 679,
      "outputs": []
    },
    {
      "cell_type": "markdown",
      "metadata": {
        "id": "LPzVROR9r55w",
        "colab_type": "text"
      },
      "source": [
        "**we have created distance using pickup and drop longitudes and latitudes so we will also drop pickup and drop longitudes and latitudes variables.**"
      ]
    },
    {
      "cell_type": "code",
      "metadata": {
        "id": "LnlfZP-tsBkn",
        "colab_type": "code",
        "colab": {}
      },
      "source": [
        "drop = [ 'pickup_longitude', 'pickup_latitude','dropoff_longitude', 'dropoff_latitude']\n",
        "train = train.drop(drop, axis = 1)"
      ],
      "execution_count": 680,
      "outputs": []
    },
    {
      "cell_type": "code",
      "metadata": {
        "id": "kFdCc0VRuFlf",
        "colab_type": "code",
        "colab": {}
      },
      "source": [
        "drop1=['pickup_longitude', 'pickup_latitude','dropoff_longitude', 'dropoff_latitude']\n",
        "test_data = test_data.drop(drop, axis = 1)"
      ],
      "execution_count": 681,
      "outputs": []
    },
    {
      "cell_type": "markdown",
      "metadata": {
        "id": "7NVG50QfkuVG",
        "colab_type": "text"
      },
      "source": [
        "**Checking the nature of the updated data**"
      ]
    },
    {
      "cell_type": "code",
      "metadata": {
        "id": "1JbZxLPNky-F",
        "colab_type": "code",
        "colab": {
          "base_uri": "https://localhost:8080/",
          "height": 202
        },
        "outputId": "f64cbc84-3efb-4692-d78e-d2fcf6388e71"
      },
      "source": [
        "train.head()"
      ],
      "execution_count": 682,
      "outputs": [
        {
          "output_type": "execute_result",
          "data": {
            "text/html": [
              "<div>\n",
              "<style scoped>\n",
              "    .dataframe tbody tr th:only-of-type {\n",
              "        vertical-align: middle;\n",
              "    }\n",
              "\n",
              "    .dataframe tbody tr th {\n",
              "        vertical-align: top;\n",
              "    }\n",
              "\n",
              "    .dataframe thead th {\n",
              "        text-align: right;\n",
              "    }\n",
              "</style>\n",
              "<table border=\"1\" class=\"dataframe\">\n",
              "  <thead>\n",
              "    <tr style=\"text-align: right;\">\n",
              "      <th></th>\n",
              "      <th>fare_amount</th>\n",
              "      <th>passenger_count</th>\n",
              "      <th>year</th>\n",
              "      <th>Month</th>\n",
              "      <th>Date</th>\n",
              "      <th>Day</th>\n",
              "      <th>Hour</th>\n",
              "      <th>distance</th>\n",
              "    </tr>\n",
              "  </thead>\n",
              "  <tbody>\n",
              "    <tr>\n",
              "      <th>0</th>\n",
              "      <td>4.5</td>\n",
              "      <td>1.0</td>\n",
              "      <td>2009.0</td>\n",
              "      <td>6.0</td>\n",
              "      <td>15.0</td>\n",
              "      <td>0.0</td>\n",
              "      <td>17.0</td>\n",
              "      <td>1.030764</td>\n",
              "    </tr>\n",
              "    <tr>\n",
              "      <th>1</th>\n",
              "      <td>16.9</td>\n",
              "      <td>1.0</td>\n",
              "      <td>2010.0</td>\n",
              "      <td>1.0</td>\n",
              "      <td>5.0</td>\n",
              "      <td>1.0</td>\n",
              "      <td>16.0</td>\n",
              "      <td>8.450134</td>\n",
              "    </tr>\n",
              "    <tr>\n",
              "      <th>2</th>\n",
              "      <td>5.7</td>\n",
              "      <td>2.0</td>\n",
              "      <td>2011.0</td>\n",
              "      <td>8.0</td>\n",
              "      <td>18.0</td>\n",
              "      <td>3.0</td>\n",
              "      <td>0.0</td>\n",
              "      <td>1.389525</td>\n",
              "    </tr>\n",
              "    <tr>\n",
              "      <th>3</th>\n",
              "      <td>7.7</td>\n",
              "      <td>1.0</td>\n",
              "      <td>2012.0</td>\n",
              "      <td>4.0</td>\n",
              "      <td>21.0</td>\n",
              "      <td>5.0</td>\n",
              "      <td>4.0</td>\n",
              "      <td>2.799270</td>\n",
              "    </tr>\n",
              "    <tr>\n",
              "      <th>4</th>\n",
              "      <td>5.3</td>\n",
              "      <td>1.0</td>\n",
              "      <td>2010.0</td>\n",
              "      <td>3.0</td>\n",
              "      <td>9.0</td>\n",
              "      <td>1.0</td>\n",
              "      <td>7.0</td>\n",
              "      <td>1.999157</td>\n",
              "    </tr>\n",
              "  </tbody>\n",
              "</table>\n",
              "</div>"
            ],
            "text/plain": [
              "   fare_amount  passenger_count    year  Month  Date  Day  Hour  distance\n",
              "0          4.5              1.0  2009.0    6.0  15.0  0.0  17.0  1.030764\n",
              "1         16.9              1.0  2010.0    1.0   5.0  1.0  16.0  8.450134\n",
              "2          5.7              2.0  2011.0    8.0  18.0  3.0   0.0  1.389525\n",
              "3          7.7              1.0  2012.0    4.0  21.0  5.0   4.0  2.799270\n",
              "4          5.3              1.0  2010.0    3.0   9.0  1.0   7.0  1.999157"
            ]
          },
          "metadata": {
            "tags": []
          },
          "execution_count": 682
        }
      ]
    },
    {
      "cell_type": "code",
      "metadata": {
        "id": "euaQ3jkzk5wU",
        "colab_type": "code",
        "colab": {
          "base_uri": "https://localhost:8080/",
          "height": 202
        },
        "outputId": "15aa0408-9b09-4e19-f3e0-4604719f66fb"
      },
      "source": [
        "test_data.head()"
      ],
      "execution_count": 683,
      "outputs": [
        {
          "output_type": "execute_result",
          "data": {
            "text/html": [
              "<div>\n",
              "<style scoped>\n",
              "    .dataframe tbody tr th:only-of-type {\n",
              "        vertical-align: middle;\n",
              "    }\n",
              "\n",
              "    .dataframe tbody tr th {\n",
              "        vertical-align: top;\n",
              "    }\n",
              "\n",
              "    .dataframe thead th {\n",
              "        text-align: right;\n",
              "    }\n",
              "</style>\n",
              "<table border=\"1\" class=\"dataframe\">\n",
              "  <thead>\n",
              "    <tr style=\"text-align: right;\">\n",
              "      <th></th>\n",
              "      <th>passenger_count</th>\n",
              "      <th>year</th>\n",
              "      <th>date</th>\n",
              "      <th>month</th>\n",
              "      <th>day</th>\n",
              "      <th>hour</th>\n",
              "      <th>distance</th>\n",
              "    </tr>\n",
              "  </thead>\n",
              "  <tbody>\n",
              "    <tr>\n",
              "      <th>0</th>\n",
              "      <td>1</td>\n",
              "      <td>2015</td>\n",
              "      <td>2015-01-27</td>\n",
              "      <td>1</td>\n",
              "      <td>1</td>\n",
              "      <td>13</td>\n",
              "      <td>2.323259</td>\n",
              "    </tr>\n",
              "    <tr>\n",
              "      <th>1</th>\n",
              "      <td>1</td>\n",
              "      <td>2015</td>\n",
              "      <td>2015-01-27</td>\n",
              "      <td>1</td>\n",
              "      <td>1</td>\n",
              "      <td>13</td>\n",
              "      <td>2.425353</td>\n",
              "    </tr>\n",
              "    <tr>\n",
              "      <th>2</th>\n",
              "      <td>1</td>\n",
              "      <td>2011</td>\n",
              "      <td>2011-10-08</td>\n",
              "      <td>10</td>\n",
              "      <td>5</td>\n",
              "      <td>11</td>\n",
              "      <td>0.618628</td>\n",
              "    </tr>\n",
              "    <tr>\n",
              "      <th>3</th>\n",
              "      <td>1</td>\n",
              "      <td>2012</td>\n",
              "      <td>2012-12-01</td>\n",
              "      <td>12</td>\n",
              "      <td>5</td>\n",
              "      <td>21</td>\n",
              "      <td>1.961033</td>\n",
              "    </tr>\n",
              "    <tr>\n",
              "      <th>4</th>\n",
              "      <td>1</td>\n",
              "      <td>2012</td>\n",
              "      <td>2012-12-01</td>\n",
              "      <td>12</td>\n",
              "      <td>5</td>\n",
              "      <td>21</td>\n",
              "      <td>5.387301</td>\n",
              "    </tr>\n",
              "  </tbody>\n",
              "</table>\n",
              "</div>"
            ],
            "text/plain": [
              "   passenger_count  year       date   month  day  hour  distance\n",
              "0                1  2015  2015-01-27      1    1    13  2.323259\n",
              "1                1  2015  2015-01-27      1    1    13  2.425353\n",
              "2                1  2011  2011-10-08     10    5    11  0.618628\n",
              "3                1  2012  2012-12-01     12    5    21  1.961033\n",
              "4                1  2012  2012-12-01     12    5    21  5.387301"
            ]
          },
          "metadata": {
            "tags": []
          },
          "execution_count": 683
        }
      ]
    },
    {
      "cell_type": "code",
      "metadata": {
        "id": "icZ31J31lLh1",
        "colab_type": "code",
        "colab": {
          "base_uri": "https://localhost:8080/",
          "height": 156
        },
        "outputId": "cba0c6e5-d219-457d-8de9-d2e16e4f6eb5"
      },
      "source": [
        "test_data.nunique()"
      ],
      "execution_count": 684,
      "outputs": [
        {
          "output_type": "execute_result",
          "data": {
            "text/plain": [
              "passenger_count       6\n",
              "year                  7\n",
              "date               1211\n",
              "month                12\n",
              "day                   7\n",
              "hour                 24\n",
              "distance           9830\n",
              "dtype: int64"
            ]
          },
          "metadata": {
            "tags": []
          },
          "execution_count": 684
        }
      ]
    },
    {
      "cell_type": "code",
      "metadata": {
        "id": "V2IMLH5clPVA",
        "colab_type": "code",
        "colab": {
          "base_uri": "https://localhost:8080/",
          "height": 173
        },
        "outputId": "78973a2b-97ca-4e9e-c49e-77b28769d274"
      },
      "source": [
        "train.nunique()"
      ],
      "execution_count": 685,
      "outputs": [
        {
          "output_type": "execute_result",
          "data": {
            "text/plain": [
              "fare_amount          459\n",
              "passenger_count        7\n",
              "year                   7\n",
              "Month                 12\n",
              "Date                  31\n",
              "Day                    7\n",
              "Hour                  24\n",
              "distance           15449\n",
              "dtype: int64"
            ]
          },
          "metadata": {
            "tags": []
          },
          "execution_count": 685
        }
      ]
    },
    {
      "cell_type": "code",
      "metadata": {
        "id": "PbRPCtbblXbc",
        "colab_type": "code",
        "colab": {
          "base_uri": "https://localhost:8080/",
          "height": 225
        },
        "outputId": "c10b2cbc-8e7d-49a5-8e11-ea539b61de36"
      },
      "source": [
        "train['distance'].sort_values( ascending=False,kind = 'quicksort')"
      ],
      "execution_count": 686,
      "outputs": [
        {
          "output_type": "execute_result",
          "data": {
            "text/plain": [
              "9147     8667.542104\n",
              "8647     8667.497512\n",
              "2397     8667.454421\n",
              "472      8667.304968\n",
              "11653    8666.701504\n",
              "            ...     \n",
              "12914       0.000000\n",
              "6193        0.000000\n",
              "9773        0.000000\n",
              "15769       0.000000\n",
              "8068        0.000000\n",
              "Name: distance, Length: 15902, dtype: float64"
            ]
          },
          "metadata": {
            "tags": []
          },
          "execution_count": 686
        }
      ]
    },
    {
      "cell_type": "markdown",
      "metadata": {
        "id": "SP_xTcctmE7B",
        "colab_type": "text"
      },
      "source": [
        "**In the sorted distance table we see that there are a lot of distance which are zero and those data are not of any use for the prediction.**\n",
        "\n",
        "**Some values at the top of the table shows that distance travelled are more than 8k km and coming down to the table we get to see that the distance become ariound 127 km, so there is huge diff in the data available, so we will remove them.**"
      ]
    },
    {
      "cell_type": "markdown",
      "metadata": {
        "id": "UxihaM2OnJqM",
        "colab_type": "text"
      },
      "source": [
        "*Removing the zero distance.*"
      ]
    },
    {
      "cell_type": "code",
      "metadata": {
        "id": "MTf5QPMBnDw3",
        "colab_type": "code",
        "colab": {}
      },
      "source": [
        "train = train.drop(train[train['distance']==0].index,level = None,axis = 0)"
      ],
      "execution_count": 687,
      "outputs": []
    },
    {
      "cell_type": "markdown",
      "metadata": {
        "id": "1ozSC0VhnzQ7",
        "colab_type": "text"
      },
      "source": [
        "*Removing the distance which are more than 129 kms*\n"
      ]
    },
    {
      "cell_type": "code",
      "metadata": {
        "id": "gNqNkfImn4rk",
        "colab_type": "code",
        "colab": {}
      },
      "source": [
        "train = train.drop(train[train['distance']>129].index,axis = 0,level = None)"
      ],
      "execution_count": 688,
      "outputs": []
    },
    {
      "cell_type": "code",
      "metadata": {
        "id": "y_HV7ixEoJfX",
        "colab_type": "code",
        "colab": {
          "base_uri": "https://localhost:8080/",
          "height": 225
        },
        "outputId": "7975223b-f8f4-43cc-9bc6-83a318f06b84"
      },
      "source": [
        "train['distance']"
      ],
      "execution_count": 689,
      "outputs": [
        {
          "output_type": "execute_result",
          "data": {
            "text/plain": [
              "0        1.030764\n",
              "1        8.450134\n",
              "2        1.389525\n",
              "3        2.799270\n",
              "4        1.999157\n",
              "           ...   \n",
              "16061    3.357490\n",
              "16062    0.850044\n",
              "16063    7.867638\n",
              "16064    1.469105\n",
              "16065    2.590036\n",
              "Name: distance, Length: 15423, dtype: float64"
            ]
          },
          "metadata": {
            "tags": []
          },
          "execution_count": 689
        }
      ]
    },
    {
      "cell_type": "code",
      "metadata": {
        "id": "7QzJO8wMoSh7",
        "colab_type": "code",
        "colab": {
          "base_uri": "https://localhost:8080/",
          "height": 314
        },
        "outputId": "14f4d98a-4589-4b62-dce0-ce6e5560c74d"
      },
      "source": [
        "train.describe()"
      ],
      "execution_count": 690,
      "outputs": [
        {
          "output_type": "execute_result",
          "data": {
            "text/html": [
              "<div>\n",
              "<style scoped>\n",
              "    .dataframe tbody tr th:only-of-type {\n",
              "        vertical-align: middle;\n",
              "    }\n",
              "\n",
              "    .dataframe tbody tr th {\n",
              "        vertical-align: top;\n",
              "    }\n",
              "\n",
              "    .dataframe thead th {\n",
              "        text-align: right;\n",
              "    }\n",
              "</style>\n",
              "<table border=\"1\" class=\"dataframe\">\n",
              "  <thead>\n",
              "    <tr style=\"text-align: right;\">\n",
              "      <th></th>\n",
              "      <th>fare_amount</th>\n",
              "      <th>passenger_count</th>\n",
              "      <th>year</th>\n",
              "      <th>Month</th>\n",
              "      <th>Date</th>\n",
              "      <th>Day</th>\n",
              "      <th>Hour</th>\n",
              "      <th>distance</th>\n",
              "    </tr>\n",
              "  </thead>\n",
              "  <tbody>\n",
              "    <tr>\n",
              "      <th>count</th>\n",
              "      <td>15423.000000</td>\n",
              "      <td>15423.000000</td>\n",
              "      <td>15422.000000</td>\n",
              "      <td>15422.000000</td>\n",
              "      <td>15422.000000</td>\n",
              "      <td>15422.000000</td>\n",
              "      <td>15422.000000</td>\n",
              "      <td>15423.000000</td>\n",
              "    </tr>\n",
              "    <tr>\n",
              "      <th>mean</th>\n",
              "      <td>11.372181</td>\n",
              "      <td>1.651968</td>\n",
              "      <td>2011.737777</td>\n",
              "      <td>6.274348</td>\n",
              "      <td>15.672740</td>\n",
              "      <td>3.035534</td>\n",
              "      <td>13.499741</td>\n",
              "      <td>3.426395</td>\n",
              "    </tr>\n",
              "    <tr>\n",
              "      <th>std</th>\n",
              "      <td>10.674389</td>\n",
              "      <td>1.267680</td>\n",
              "      <td>1.870622</td>\n",
              "      <td>3.447892</td>\n",
              "      <td>8.684236</td>\n",
              "      <td>1.969657</td>\n",
              "      <td>6.510149</td>\n",
              "      <td>4.366532</td>\n",
              "    </tr>\n",
              "    <tr>\n",
              "      <th>min</th>\n",
              "      <td>1.140000</td>\n",
              "      <td>1.000000</td>\n",
              "      <td>2009.000000</td>\n",
              "      <td>1.000000</td>\n",
              "      <td>1.000000</td>\n",
              "      <td>0.000000</td>\n",
              "      <td>0.000000</td>\n",
              "      <td>0.000111</td>\n",
              "    </tr>\n",
              "    <tr>\n",
              "      <th>25%</th>\n",
              "      <td>6.000000</td>\n",
              "      <td>1.000000</td>\n",
              "      <td>2010.000000</td>\n",
              "      <td>3.000000</td>\n",
              "      <td>8.000000</td>\n",
              "      <td>1.000000</td>\n",
              "      <td>9.000000</td>\n",
              "      <td>1.277973</td>\n",
              "    </tr>\n",
              "    <tr>\n",
              "      <th>50%</th>\n",
              "      <td>8.500000</td>\n",
              "      <td>1.000000</td>\n",
              "      <td>2012.000000</td>\n",
              "      <td>6.000000</td>\n",
              "      <td>16.000000</td>\n",
              "      <td>3.000000</td>\n",
              "      <td>14.000000</td>\n",
              "      <td>2.191048</td>\n",
              "    </tr>\n",
              "    <tr>\n",
              "      <th>75%</th>\n",
              "      <td>12.500000</td>\n",
              "      <td>2.000000</td>\n",
              "      <td>2013.000000</td>\n",
              "      <td>9.000000</td>\n",
              "      <td>23.000000</td>\n",
              "      <td>5.000000</td>\n",
              "      <td>19.000000</td>\n",
              "      <td>3.934514</td>\n",
              "    </tr>\n",
              "    <tr>\n",
              "      <th>max</th>\n",
              "      <td>453.000000</td>\n",
              "      <td>6.000000</td>\n",
              "      <td>2015.000000</td>\n",
              "      <td>12.000000</td>\n",
              "      <td>31.000000</td>\n",
              "      <td>6.000000</td>\n",
              "      <td>23.000000</td>\n",
              "      <td>127.509261</td>\n",
              "    </tr>\n",
              "  </tbody>\n",
              "</table>\n",
              "</div>"
            ],
            "text/plain": [
              "        fare_amount  passenger_count  ...          Hour      distance\n",
              "count  15423.000000     15423.000000  ...  15422.000000  15423.000000\n",
              "mean      11.372181         1.651968  ...     13.499741      3.426395\n",
              "std       10.674389         1.267680  ...      6.510149      4.366532\n",
              "min        1.140000         1.000000  ...      0.000000      0.000111\n",
              "25%        6.000000         1.000000  ...      9.000000      1.277973\n",
              "50%        8.500000         1.000000  ...     14.000000      2.191048\n",
              "75%       12.500000         2.000000  ...     19.000000      3.934514\n",
              "max      453.000000         6.000000  ...     23.000000    127.509261\n",
              "\n",
              "[8 rows x 8 columns]"
            ]
          },
          "metadata": {
            "tags": []
          },
          "execution_count": 690
        }
      ]
    },
    {
      "cell_type": "code",
      "metadata": {
        "id": "Kdxt8QnYsYLM",
        "colab_type": "code",
        "colab": {
          "base_uri": "https://localhost:8080/",
          "height": 173
        },
        "outputId": "2de2cfa0-6e2b-4126-875c-96ca5d9092fb"
      },
      "source": [
        "train.dtypes"
      ],
      "execution_count": 691,
      "outputs": [
        {
          "output_type": "execute_result",
          "data": {
            "text/plain": [
              "fare_amount        float64\n",
              "passenger_count    float64\n",
              "year               float64\n",
              "Month              float64\n",
              "Date               float64\n",
              "Day                float64\n",
              "Hour               float64\n",
              "distance           float64\n",
              "dtype: object"
            ]
          },
          "metadata": {
            "tags": []
          },
          "execution_count": 691
        }
      ]
    },
    {
      "cell_type": "markdown",
      "metadata": {
        "id": "ci08h5KbukWJ",
        "colab_type": "text"
      },
      "source": [
        "**From the above data description we found that passenger count,year,month,date,day are in float datatype which is irrelevent.So we will convert all those in int data type.**"
      ]
    },
    {
      "cell_type": "code",
      "metadata": {
        "id": "YcQ6AHgJv31R",
        "colab_type": "code",
        "colab": {
          "base_uri": "https://localhost:8080/",
          "height": 225
        },
        "outputId": "03518161-4d50-4b81-869a-c2e2f2180f49"
      },
      "source": [
        "train['passenger_count']"
      ],
      "execution_count": 692,
      "outputs": [
        {
          "output_type": "execute_result",
          "data": {
            "text/plain": [
              "0        1.0\n",
              "1        1.0\n",
              "2        2.0\n",
              "3        1.0\n",
              "4        1.0\n",
              "        ... \n",
              "16061    1.0\n",
              "16062    1.0\n",
              "16063    2.0\n",
              "16064    1.0\n",
              "16065    1.0\n",
              "Name: passenger_count, Length: 15423, dtype: float64"
            ]
          },
          "metadata": {
            "tags": []
          },
          "execution_count": 692
        }
      ]
    },
    {
      "cell_type": "code",
      "metadata": {
        "id": "kixK8bYrvPgj",
        "colab_type": "code",
        "colab": {}
      },
      "source": [
        "train['passenger_count'] = train['passenger_count'].astype('int64')\n"
      ],
      "execution_count": 693,
      "outputs": []
    },
    {
      "cell_type": "code",
      "metadata": {
        "id": "jewlkD91wJqA",
        "colab_type": "code",
        "colab": {
          "base_uri": "https://localhost:8080/",
          "height": 173
        },
        "outputId": "3409b63b-cd5b-4d8e-f5d4-53a7a842b80d"
      },
      "source": [
        "train['year'].describe()"
      ],
      "execution_count": 694,
      "outputs": [
        {
          "output_type": "execute_result",
          "data": {
            "text/plain": [
              "count    15422.000000\n",
              "mean      2011.737777\n",
              "std          1.870622\n",
              "min       2009.000000\n",
              "25%       2010.000000\n",
              "50%       2012.000000\n",
              "75%       2013.000000\n",
              "max       2015.000000\n",
              "Name: year, dtype: float64"
            ]
          },
          "metadata": {
            "tags": []
          },
          "execution_count": 694
        }
      ]
    },
    {
      "cell_type": "code",
      "metadata": {
        "id": "q_yznxfDwDOS",
        "colab_type": "code",
        "colab": {}
      },
      "source": [
        "train = train.drop(train[train['year'].isnull()].index, axis=0)\n"
      ],
      "execution_count": 695,
      "outputs": []
    },
    {
      "cell_type": "code",
      "metadata": {
        "id": "OPpOCDPbwxuI",
        "colab_type": "code",
        "colab": {}
      },
      "source": [
        "train['Month'] = train['Month'].astype('int64')\n",
        "train['Date'] = train['Date'].astype('int64')\n",
        "train['Day'] = train['Day'].astype('int64')\n",
        "train['Hour'] = train['Hour'].astype('int64')"
      ],
      "execution_count": 696,
      "outputs": []
    },
    {
      "cell_type": "code",
      "metadata": {
        "id": "HHEDTfIxwzYz",
        "colab_type": "code",
        "colab": {}
      },
      "source": [
        "train['year'] = train['year'].astype('int64')"
      ],
      "execution_count": 697,
      "outputs": []
    },
    {
      "cell_type": "code",
      "metadata": {
        "id": "YqSjZpOwxSSl",
        "colab_type": "code",
        "colab": {
          "base_uri": "https://localhost:8080/",
          "height": 173
        },
        "outputId": "53394ad7-c036-419d-e6c1-2b0eb243a3ca"
      },
      "source": [
        "train.dtypes"
      ],
      "execution_count": 698,
      "outputs": [
        {
          "output_type": "execute_result",
          "data": {
            "text/plain": [
              "fare_amount        float64\n",
              "passenger_count      int64\n",
              "year                 int64\n",
              "Month                int64\n",
              "Date                 int64\n",
              "Day                  int64\n",
              "Hour                 int64\n",
              "distance           float64\n",
              "dtype: object"
            ]
          },
          "metadata": {
            "tags": []
          },
          "execution_count": 698
        }
      ]
    },
    {
      "cell_type": "code",
      "metadata": {
        "id": "IpLqOAdIxhk7",
        "colab_type": "code",
        "colab": {
          "base_uri": "https://localhost:8080/",
          "height": 225
        },
        "outputId": "ad73bad5-9a5b-442b-bd60-b040887635a0"
      },
      "source": [
        "train['year']"
      ],
      "execution_count": 699,
      "outputs": [
        {
          "output_type": "execute_result",
          "data": {
            "text/plain": [
              "0        2009\n",
              "1        2010\n",
              "2        2011\n",
              "3        2012\n",
              "4        2010\n",
              "         ... \n",
              "16061    2009\n",
              "16062    2014\n",
              "16063    2009\n",
              "16064    2009\n",
              "16065    2010\n",
              "Name: year, Length: 15422, dtype: int64"
            ]
          },
          "metadata": {
            "tags": []
          },
          "execution_count": 699
        }
      ]
    },
    {
      "cell_type": "code",
      "metadata": {
        "id": "Trmg7mzaxotj",
        "colab_type": "code",
        "colab": {
          "base_uri": "https://localhost:8080/",
          "height": 202
        },
        "outputId": "2ce196c7-66f2-4f11-97e7-3db080610420"
      },
      "source": [
        "train.head()"
      ],
      "execution_count": 700,
      "outputs": [
        {
          "output_type": "execute_result",
          "data": {
            "text/html": [
              "<div>\n",
              "<style scoped>\n",
              "    .dataframe tbody tr th:only-of-type {\n",
              "        vertical-align: middle;\n",
              "    }\n",
              "\n",
              "    .dataframe tbody tr th {\n",
              "        vertical-align: top;\n",
              "    }\n",
              "\n",
              "    .dataframe thead th {\n",
              "        text-align: right;\n",
              "    }\n",
              "</style>\n",
              "<table border=\"1\" class=\"dataframe\">\n",
              "  <thead>\n",
              "    <tr style=\"text-align: right;\">\n",
              "      <th></th>\n",
              "      <th>fare_amount</th>\n",
              "      <th>passenger_count</th>\n",
              "      <th>year</th>\n",
              "      <th>Month</th>\n",
              "      <th>Date</th>\n",
              "      <th>Day</th>\n",
              "      <th>Hour</th>\n",
              "      <th>distance</th>\n",
              "    </tr>\n",
              "  </thead>\n",
              "  <tbody>\n",
              "    <tr>\n",
              "      <th>0</th>\n",
              "      <td>4.5</td>\n",
              "      <td>1</td>\n",
              "      <td>2009</td>\n",
              "      <td>6</td>\n",
              "      <td>15</td>\n",
              "      <td>0</td>\n",
              "      <td>17</td>\n",
              "      <td>1.030764</td>\n",
              "    </tr>\n",
              "    <tr>\n",
              "      <th>1</th>\n",
              "      <td>16.9</td>\n",
              "      <td>1</td>\n",
              "      <td>2010</td>\n",
              "      <td>1</td>\n",
              "      <td>5</td>\n",
              "      <td>1</td>\n",
              "      <td>16</td>\n",
              "      <td>8.450134</td>\n",
              "    </tr>\n",
              "    <tr>\n",
              "      <th>2</th>\n",
              "      <td>5.7</td>\n",
              "      <td>2</td>\n",
              "      <td>2011</td>\n",
              "      <td>8</td>\n",
              "      <td>18</td>\n",
              "      <td>3</td>\n",
              "      <td>0</td>\n",
              "      <td>1.389525</td>\n",
              "    </tr>\n",
              "    <tr>\n",
              "      <th>3</th>\n",
              "      <td>7.7</td>\n",
              "      <td>1</td>\n",
              "      <td>2012</td>\n",
              "      <td>4</td>\n",
              "      <td>21</td>\n",
              "      <td>5</td>\n",
              "      <td>4</td>\n",
              "      <td>2.799270</td>\n",
              "    </tr>\n",
              "    <tr>\n",
              "      <th>4</th>\n",
              "      <td>5.3</td>\n",
              "      <td>1</td>\n",
              "      <td>2010</td>\n",
              "      <td>3</td>\n",
              "      <td>9</td>\n",
              "      <td>1</td>\n",
              "      <td>7</td>\n",
              "      <td>1.999157</td>\n",
              "    </tr>\n",
              "  </tbody>\n",
              "</table>\n",
              "</div>"
            ],
            "text/plain": [
              "   fare_amount  passenger_count  year  Month  Date  Day  Hour  distance\n",
              "0          4.5                1  2009      6    15    0    17  1.030764\n",
              "1         16.9                1  2010      1     5    1    16  8.450134\n",
              "2          5.7                2  2011      8    18    3     0  1.389525\n",
              "3          7.7                1  2012      4    21    5     4  2.799270\n",
              "4          5.3                1  2010      3     9    1     7  1.999157"
            ]
          },
          "metadata": {
            "tags": []
          },
          "execution_count": 700
        }
      ]
    },
    {
      "cell_type": "code",
      "metadata": {
        "id": "GkHL_QgqxyHR",
        "colab_type": "code",
        "colab": {
          "base_uri": "https://localhost:8080/",
          "height": 156
        },
        "outputId": "908907f5-8d57-40ae-ed75-558fe3983fa7"
      },
      "source": [
        "test_data.dtypes"
      ],
      "execution_count": 701,
      "outputs": [
        {
          "output_type": "execute_result",
          "data": {
            "text/plain": [
              "passenger_count      int64\n",
              "year                 int64\n",
              "date                object\n",
              "month                int64\n",
              "day                  int64\n",
              "hour                 int64\n",
              "distance           float64\n",
              "dtype: object"
            ]
          },
          "metadata": {
            "tags": []
          },
          "execution_count": 701
        }
      ]
    },
    {
      "cell_type": "code",
      "metadata": {
        "id": "zDteSu0AyFHp",
        "colab_type": "code",
        "colab": {
          "base_uri": "https://localhost:8080/",
          "height": 202
        },
        "outputId": "0f672605-486e-44b1-8c00-e4aa878dac37"
      },
      "source": [
        "test_data.head()"
      ],
      "execution_count": 702,
      "outputs": [
        {
          "output_type": "execute_result",
          "data": {
            "text/html": [
              "<div>\n",
              "<style scoped>\n",
              "    .dataframe tbody tr th:only-of-type {\n",
              "        vertical-align: middle;\n",
              "    }\n",
              "\n",
              "    .dataframe tbody tr th {\n",
              "        vertical-align: top;\n",
              "    }\n",
              "\n",
              "    .dataframe thead th {\n",
              "        text-align: right;\n",
              "    }\n",
              "</style>\n",
              "<table border=\"1\" class=\"dataframe\">\n",
              "  <thead>\n",
              "    <tr style=\"text-align: right;\">\n",
              "      <th></th>\n",
              "      <th>passenger_count</th>\n",
              "      <th>year</th>\n",
              "      <th>date</th>\n",
              "      <th>month</th>\n",
              "      <th>day</th>\n",
              "      <th>hour</th>\n",
              "      <th>distance</th>\n",
              "    </tr>\n",
              "  </thead>\n",
              "  <tbody>\n",
              "    <tr>\n",
              "      <th>0</th>\n",
              "      <td>1</td>\n",
              "      <td>2015</td>\n",
              "      <td>2015-01-27</td>\n",
              "      <td>1</td>\n",
              "      <td>1</td>\n",
              "      <td>13</td>\n",
              "      <td>2.323259</td>\n",
              "    </tr>\n",
              "    <tr>\n",
              "      <th>1</th>\n",
              "      <td>1</td>\n",
              "      <td>2015</td>\n",
              "      <td>2015-01-27</td>\n",
              "      <td>1</td>\n",
              "      <td>1</td>\n",
              "      <td>13</td>\n",
              "      <td>2.425353</td>\n",
              "    </tr>\n",
              "    <tr>\n",
              "      <th>2</th>\n",
              "      <td>1</td>\n",
              "      <td>2011</td>\n",
              "      <td>2011-10-08</td>\n",
              "      <td>10</td>\n",
              "      <td>5</td>\n",
              "      <td>11</td>\n",
              "      <td>0.618628</td>\n",
              "    </tr>\n",
              "    <tr>\n",
              "      <th>3</th>\n",
              "      <td>1</td>\n",
              "      <td>2012</td>\n",
              "      <td>2012-12-01</td>\n",
              "      <td>12</td>\n",
              "      <td>5</td>\n",
              "      <td>21</td>\n",
              "      <td>1.961033</td>\n",
              "    </tr>\n",
              "    <tr>\n",
              "      <th>4</th>\n",
              "      <td>1</td>\n",
              "      <td>2012</td>\n",
              "      <td>2012-12-01</td>\n",
              "      <td>12</td>\n",
              "      <td>5</td>\n",
              "      <td>21</td>\n",
              "      <td>5.387301</td>\n",
              "    </tr>\n",
              "  </tbody>\n",
              "</table>\n",
              "</div>"
            ],
            "text/plain": [
              "   passenger_count  year       date   month  day  hour  distance\n",
              "0                1  2015  2015-01-27      1    1    13  2.323259\n",
              "1                1  2015  2015-01-27      1    1    13  2.425353\n",
              "2                1  2011  2011-10-08     10    5    11  0.618628\n",
              "3                1  2012  2012-12-01     12    5    21  1.961033\n",
              "4                1  2012  2012-12-01     12    5    21  5.387301"
            ]
          },
          "metadata": {
            "tags": []
          },
          "execution_count": 702
        }
      ]
    },
    {
      "cell_type": "markdown",
      "metadata": {
        "id": "iJFWHhrtz_Wr",
        "colab_type": "text"
      },
      "source": [
        "**We are done with data cleaning part**\n",
        "\n",
        "**Applying Machine Learning Algorithms**"
      ]
    },
    {
      "cell_type": "code",
      "metadata": {
        "id": "g9VkwWWX0KAW",
        "colab_type": "code",
        "colab": {}
      },
      "source": [
        "from sklearn.model_selection import train_test_split\n",
        "X_train, X_test, y_train, y_test = train_test_split( train.iloc[:, train.columns != 'fare_amount'], \n",
        "                         train.iloc[:, 0], test_size = 0.20, random_state = 1)"
      ],
      "execution_count": 703,
      "outputs": []
    },
    {
      "cell_type": "code",
      "metadata": {
        "id": "AKQpo_ls1Xi6",
        "colab_type": "code",
        "colab": {
          "base_uri": "https://localhost:8080/",
          "height": 415
        },
        "outputId": "581cc3a1-8684-4a1d-c1c0-5185551ac321"
      },
      "source": [
        "X_train"
      ],
      "execution_count": 704,
      "outputs": [
        {
          "output_type": "execute_result",
          "data": {
            "text/html": [
              "<div>\n",
              "<style scoped>\n",
              "    .dataframe tbody tr th:only-of-type {\n",
              "        vertical-align: middle;\n",
              "    }\n",
              "\n",
              "    .dataframe tbody tr th {\n",
              "        vertical-align: top;\n",
              "    }\n",
              "\n",
              "    .dataframe thead th {\n",
              "        text-align: right;\n",
              "    }\n",
              "</style>\n",
              "<table border=\"1\" class=\"dataframe\">\n",
              "  <thead>\n",
              "    <tr style=\"text-align: right;\">\n",
              "      <th></th>\n",
              "      <th>passenger_count</th>\n",
              "      <th>year</th>\n",
              "      <th>Month</th>\n",
              "      <th>Date</th>\n",
              "      <th>Day</th>\n",
              "      <th>Hour</th>\n",
              "      <th>distance</th>\n",
              "    </tr>\n",
              "  </thead>\n",
              "  <tbody>\n",
              "    <tr>\n",
              "      <th>13017</th>\n",
              "      <td>1</td>\n",
              "      <td>2010</td>\n",
              "      <td>11</td>\n",
              "      <td>14</td>\n",
              "      <td>6</td>\n",
              "      <td>4</td>\n",
              "      <td>20.177463</td>\n",
              "    </tr>\n",
              "    <tr>\n",
              "      <th>15152</th>\n",
              "      <td>1</td>\n",
              "      <td>2013</td>\n",
              "      <td>1</td>\n",
              "      <td>13</td>\n",
              "      <td>6</td>\n",
              "      <td>4</td>\n",
              "      <td>1.828584</td>\n",
              "    </tr>\n",
              "    <tr>\n",
              "      <th>3280</th>\n",
              "      <td>1</td>\n",
              "      <td>2013</td>\n",
              "      <td>6</td>\n",
              "      <td>27</td>\n",
              "      <td>3</td>\n",
              "      <td>19</td>\n",
              "      <td>0.515101</td>\n",
              "    </tr>\n",
              "    <tr>\n",
              "      <th>2816</th>\n",
              "      <td>5</td>\n",
              "      <td>2013</td>\n",
              "      <td>5</td>\n",
              "      <td>18</td>\n",
              "      <td>5</td>\n",
              "      <td>20</td>\n",
              "      <td>2.130835</td>\n",
              "    </tr>\n",
              "    <tr>\n",
              "      <th>402</th>\n",
              "      <td>1</td>\n",
              "      <td>2012</td>\n",
              "      <td>3</td>\n",
              "      <td>7</td>\n",
              "      <td>2</td>\n",
              "      <td>11</td>\n",
              "      <td>1.183890</td>\n",
              "    </tr>\n",
              "    <tr>\n",
              "      <th>...</th>\n",
              "      <td>...</td>\n",
              "      <td>...</td>\n",
              "      <td>...</td>\n",
              "      <td>...</td>\n",
              "      <td>...</td>\n",
              "      <td>...</td>\n",
              "      <td>...</td>\n",
              "    </tr>\n",
              "    <tr>\n",
              "      <th>994</th>\n",
              "      <td>1</td>\n",
              "      <td>2009</td>\n",
              "      <td>3</td>\n",
              "      <td>24</td>\n",
              "      <td>1</td>\n",
              "      <td>11</td>\n",
              "      <td>3.328670</td>\n",
              "    </tr>\n",
              "    <tr>\n",
              "      <th>5454</th>\n",
              "      <td>1</td>\n",
              "      <td>2014</td>\n",
              "      <td>1</td>\n",
              "      <td>11</td>\n",
              "      <td>5</td>\n",
              "      <td>18</td>\n",
              "      <td>0.948140</td>\n",
              "    </tr>\n",
              "    <tr>\n",
              "      <th>12683</th>\n",
              "      <td>1</td>\n",
              "      <td>2014</td>\n",
              "      <td>3</td>\n",
              "      <td>10</td>\n",
              "      <td>0</td>\n",
              "      <td>19</td>\n",
              "      <td>2.146383</td>\n",
              "    </tr>\n",
              "    <tr>\n",
              "      <th>259</th>\n",
              "      <td>1</td>\n",
              "      <td>2013</td>\n",
              "      <td>5</td>\n",
              "      <td>2</td>\n",
              "      <td>3</td>\n",
              "      <td>3</td>\n",
              "      <td>1.234325</td>\n",
              "    </tr>\n",
              "    <tr>\n",
              "      <th>13920</th>\n",
              "      <td>1</td>\n",
              "      <td>2012</td>\n",
              "      <td>11</td>\n",
              "      <td>24</td>\n",
              "      <td>5</td>\n",
              "      <td>22</td>\n",
              "      <td>12.035260</td>\n",
              "    </tr>\n",
              "  </tbody>\n",
              "</table>\n",
              "<p>12337 rows × 7 columns</p>\n",
              "</div>"
            ],
            "text/plain": [
              "       passenger_count  year  Month  Date  Day  Hour   distance\n",
              "13017                1  2010     11    14    6     4  20.177463\n",
              "15152                1  2013      1    13    6     4   1.828584\n",
              "3280                 1  2013      6    27    3    19   0.515101\n",
              "2816                 5  2013      5    18    5    20   2.130835\n",
              "402                  1  2012      3     7    2    11   1.183890\n",
              "...                ...   ...    ...   ...  ...   ...        ...\n",
              "994                  1  2009      3    24    1    11   3.328670\n",
              "5454                 1  2014      1    11    5    18   0.948140\n",
              "12683                1  2014      3    10    0    19   2.146383\n",
              "259                  1  2013      5     2    3     3   1.234325\n",
              "13920                1  2012     11    24    5    22  12.035260\n",
              "\n",
              "[12337 rows x 7 columns]"
            ]
          },
          "metadata": {
            "tags": []
          },
          "execution_count": 704
        }
      ]
    },
    {
      "cell_type": "code",
      "metadata": {
        "id": "UocHSos30eYp",
        "colab_type": "code",
        "colab": {
          "base_uri": "https://localhost:8080/",
          "height": 35
        },
        "outputId": "ae6db11d-d798-46d4-9048-658229d3c78d"
      },
      "source": [
        "X_train.shape"
      ],
      "execution_count": 705,
      "outputs": [
        {
          "output_type": "execute_result",
          "data": {
            "text/plain": [
              "(12337, 7)"
            ]
          },
          "metadata": {
            "tags": []
          },
          "execution_count": 705
        }
      ]
    },
    {
      "cell_type": "code",
      "metadata": {
        "id": "NDBtNy6A1IKA",
        "colab_type": "code",
        "colab": {
          "base_uri": "https://localhost:8080/",
          "height": 294
        },
        "outputId": "08a4b734-e273-4842-b5cb-2509bed4d911"
      },
      "source": [
        "X_train.describe()"
      ],
      "execution_count": 706,
      "outputs": [
        {
          "output_type": "execute_result",
          "data": {
            "text/html": [
              "<div>\n",
              "<style scoped>\n",
              "    .dataframe tbody tr th:only-of-type {\n",
              "        vertical-align: middle;\n",
              "    }\n",
              "\n",
              "    .dataframe tbody tr th {\n",
              "        vertical-align: top;\n",
              "    }\n",
              "\n",
              "    .dataframe thead th {\n",
              "        text-align: right;\n",
              "    }\n",
              "</style>\n",
              "<table border=\"1\" class=\"dataframe\">\n",
              "  <thead>\n",
              "    <tr style=\"text-align: right;\">\n",
              "      <th></th>\n",
              "      <th>passenger_count</th>\n",
              "      <th>year</th>\n",
              "      <th>Month</th>\n",
              "      <th>Date</th>\n",
              "      <th>Day</th>\n",
              "      <th>Hour</th>\n",
              "      <th>distance</th>\n",
              "    </tr>\n",
              "  </thead>\n",
              "  <tbody>\n",
              "    <tr>\n",
              "      <th>count</th>\n",
              "      <td>12337.000000</td>\n",
              "      <td>12337.000000</td>\n",
              "      <td>12337.000000</td>\n",
              "      <td>12337.000000</td>\n",
              "      <td>12337.000000</td>\n",
              "      <td>12337.000000</td>\n",
              "      <td>12337.000000</td>\n",
              "    </tr>\n",
              "    <tr>\n",
              "      <th>mean</th>\n",
              "      <td>1.646673</td>\n",
              "      <td>2011.750020</td>\n",
              "      <td>6.287428</td>\n",
              "      <td>15.686877</td>\n",
              "      <td>3.035989</td>\n",
              "      <td>13.410797</td>\n",
              "      <td>3.452204</td>\n",
              "    </tr>\n",
              "    <tr>\n",
              "      <th>std</th>\n",
              "      <td>1.263604</td>\n",
              "      <td>1.868337</td>\n",
              "      <td>3.448984</td>\n",
              "      <td>8.661683</td>\n",
              "      <td>1.968173</td>\n",
              "      <td>6.549721</td>\n",
              "      <td>4.456351</td>\n",
              "    </tr>\n",
              "    <tr>\n",
              "      <th>min</th>\n",
              "      <td>1.000000</td>\n",
              "      <td>2009.000000</td>\n",
              "      <td>1.000000</td>\n",
              "      <td>1.000000</td>\n",
              "      <td>0.000000</td>\n",
              "      <td>0.000000</td>\n",
              "      <td>0.000279</td>\n",
              "    </tr>\n",
              "    <tr>\n",
              "      <th>25%</th>\n",
              "      <td>1.000000</td>\n",
              "      <td>2010.000000</td>\n",
              "      <td>3.000000</td>\n",
              "      <td>8.000000</td>\n",
              "      <td>1.000000</td>\n",
              "      <td>9.000000</td>\n",
              "      <td>1.285604</td>\n",
              "    </tr>\n",
              "    <tr>\n",
              "      <th>50%</th>\n",
              "      <td>1.000000</td>\n",
              "      <td>2012.000000</td>\n",
              "      <td>6.000000</td>\n",
              "      <td>16.000000</td>\n",
              "      <td>3.000000</td>\n",
              "      <td>14.000000</td>\n",
              "      <td>2.205146</td>\n",
              "    </tr>\n",
              "    <tr>\n",
              "      <th>75%</th>\n",
              "      <td>2.000000</td>\n",
              "      <td>2013.000000</td>\n",
              "      <td>9.000000</td>\n",
              "      <td>23.000000</td>\n",
              "      <td>5.000000</td>\n",
              "      <td>19.000000</td>\n",
              "      <td>3.965242</td>\n",
              "    </tr>\n",
              "    <tr>\n",
              "      <th>max</th>\n",
              "      <td>6.000000</td>\n",
              "      <td>2015.000000</td>\n",
              "      <td>12.000000</td>\n",
              "      <td>31.000000</td>\n",
              "      <td>6.000000</td>\n",
              "      <td>23.000000</td>\n",
              "      <td>127.509261</td>\n",
              "    </tr>\n",
              "  </tbody>\n",
              "</table>\n",
              "</div>"
            ],
            "text/plain": [
              "       passenger_count          year  ...          Hour      distance\n",
              "count     12337.000000  12337.000000  ...  12337.000000  12337.000000\n",
              "mean          1.646673   2011.750020  ...     13.410797      3.452204\n",
              "std           1.263604      1.868337  ...      6.549721      4.456351\n",
              "min           1.000000   2009.000000  ...      0.000000      0.000279\n",
              "25%           1.000000   2010.000000  ...      9.000000      1.285604\n",
              "50%           1.000000   2012.000000  ...     14.000000      2.205146\n",
              "75%           2.000000   2013.000000  ...     19.000000      3.965242\n",
              "max           6.000000   2015.000000  ...     23.000000    127.509261\n",
              "\n",
              "[8 rows x 7 columns]"
            ]
          },
          "metadata": {
            "tags": []
          },
          "execution_count": 706
        }
      ]
    },
    {
      "cell_type": "code",
      "metadata": {
        "id": "_H_mGARI0sMR",
        "colab_type": "code",
        "colab": {
          "base_uri": "https://localhost:8080/",
          "height": 294
        },
        "outputId": "07d81281-6317-42de-f430-3960ffe67fc2"
      },
      "source": [
        "X_test.describe()"
      ],
      "execution_count": 707,
      "outputs": [
        {
          "output_type": "execute_result",
          "data": {
            "text/html": [
              "<div>\n",
              "<style scoped>\n",
              "    .dataframe tbody tr th:only-of-type {\n",
              "        vertical-align: middle;\n",
              "    }\n",
              "\n",
              "    .dataframe tbody tr th {\n",
              "        vertical-align: top;\n",
              "    }\n",
              "\n",
              "    .dataframe thead th {\n",
              "        text-align: right;\n",
              "    }\n",
              "</style>\n",
              "<table border=\"1\" class=\"dataframe\">\n",
              "  <thead>\n",
              "    <tr style=\"text-align: right;\">\n",
              "      <th></th>\n",
              "      <th>passenger_count</th>\n",
              "      <th>year</th>\n",
              "      <th>Month</th>\n",
              "      <th>Date</th>\n",
              "      <th>Day</th>\n",
              "      <th>Hour</th>\n",
              "      <th>distance</th>\n",
              "    </tr>\n",
              "  </thead>\n",
              "  <tbody>\n",
              "    <tr>\n",
              "      <th>count</th>\n",
              "      <td>3085.000000</td>\n",
              "      <td>3085.000000</td>\n",
              "      <td>3085.000000</td>\n",
              "      <td>3085.000000</td>\n",
              "      <td>3085.000000</td>\n",
              "      <td>3085.000000</td>\n",
              "      <td>3085.000000</td>\n",
              "    </tr>\n",
              "    <tr>\n",
              "      <th>mean</th>\n",
              "      <td>1.673258</td>\n",
              "      <td>2011.688817</td>\n",
              "      <td>6.222042</td>\n",
              "      <td>15.616207</td>\n",
              "      <td>3.033712</td>\n",
              "      <td>13.855429</td>\n",
              "      <td>3.323162</td>\n",
              "    </tr>\n",
              "    <tr>\n",
              "      <th>std</th>\n",
              "      <td>1.284024</td>\n",
              "      <td>1.879239</td>\n",
              "      <td>3.443584</td>\n",
              "      <td>8.775031</td>\n",
              "      <td>1.975900</td>\n",
              "      <td>6.338013</td>\n",
              "      <td>3.986956</td>\n",
              "    </tr>\n",
              "    <tr>\n",
              "      <th>min</th>\n",
              "      <td>1.000000</td>\n",
              "      <td>2009.000000</td>\n",
              "      <td>1.000000</td>\n",
              "      <td>1.000000</td>\n",
              "      <td>0.000000</td>\n",
              "      <td>0.000000</td>\n",
              "      <td>0.000111</td>\n",
              "    </tr>\n",
              "    <tr>\n",
              "      <th>25%</th>\n",
              "      <td>1.000000</td>\n",
              "      <td>2010.000000</td>\n",
              "      <td>3.000000</td>\n",
              "      <td>8.000000</td>\n",
              "      <td>1.000000</td>\n",
              "      <td>9.000000</td>\n",
              "      <td>1.252551</td>\n",
              "    </tr>\n",
              "    <tr>\n",
              "      <th>50%</th>\n",
              "      <td>1.000000</td>\n",
              "      <td>2012.000000</td>\n",
              "      <td>6.000000</td>\n",
              "      <td>16.000000</td>\n",
              "      <td>3.000000</td>\n",
              "      <td>15.000000</td>\n",
              "      <td>2.153072</td>\n",
              "    </tr>\n",
              "    <tr>\n",
              "      <th>75%</th>\n",
              "      <td>2.000000</td>\n",
              "      <td>2013.000000</td>\n",
              "      <td>9.000000</td>\n",
              "      <td>23.000000</td>\n",
              "      <td>5.000000</td>\n",
              "      <td>19.000000</td>\n",
              "      <td>3.843018</td>\n",
              "    </tr>\n",
              "    <tr>\n",
              "      <th>max</th>\n",
              "      <td>6.000000</td>\n",
              "      <td>2015.000000</td>\n",
              "      <td>12.000000</td>\n",
              "      <td>31.000000</td>\n",
              "      <td>6.000000</td>\n",
              "      <td>23.000000</td>\n",
              "      <td>97.670590</td>\n",
              "    </tr>\n",
              "  </tbody>\n",
              "</table>\n",
              "</div>"
            ],
            "text/plain": [
              "       passenger_count         year  ...         Hour     distance\n",
              "count      3085.000000  3085.000000  ...  3085.000000  3085.000000\n",
              "mean          1.673258  2011.688817  ...    13.855429     3.323162\n",
              "std           1.284024     1.879239  ...     6.338013     3.986956\n",
              "min           1.000000  2009.000000  ...     0.000000     0.000111\n",
              "25%           1.000000  2010.000000  ...     9.000000     1.252551\n",
              "50%           1.000000  2012.000000  ...    15.000000     2.153072\n",
              "75%           2.000000  2013.000000  ...    19.000000     3.843018\n",
              "max           6.000000  2015.000000  ...    23.000000    97.670590\n",
              "\n",
              "[8 rows x 7 columns]"
            ]
          },
          "metadata": {
            "tags": []
          },
          "execution_count": 707
        }
      ]
    },
    {
      "cell_type": "code",
      "metadata": {
        "id": "q64-KWa40veK",
        "colab_type": "code",
        "colab": {
          "base_uri": "https://localhost:8080/",
          "height": 35
        },
        "outputId": "9282c798-73d0-4160-dcda-a1543d5b3114"
      },
      "source": [
        "X_test.shape"
      ],
      "execution_count": 708,
      "outputs": [
        {
          "output_type": "execute_result",
          "data": {
            "text/plain": [
              "(3085, 7)"
            ]
          },
          "metadata": {
            "tags": []
          },
          "execution_count": 708
        }
      ]
    },
    {
      "cell_type": "code",
      "metadata": {
        "id": "vM2VKqpm1PDG",
        "colab_type": "code",
        "colab": {
          "base_uri": "https://localhost:8080/",
          "height": 225
        },
        "outputId": "6fbb11a1-24d1-4099-c265-a9715832572e"
      },
      "source": [
        "y_train"
      ],
      "execution_count": 709,
      "outputs": [
        {
          "output_type": "execute_result",
          "data": {
            "text/plain": [
              "13017    49.57\n",
              "15152     7.50\n",
              "3280      6.00\n",
              "2816     17.00\n",
              "402       5.70\n",
              "         ...  \n",
              "994      13.70\n",
              "5454      4.50\n",
              "12683     9.00\n",
              "259       6.00\n",
              "13920    33.00\n",
              "Name: fare_amount, Length: 12337, dtype: float64"
            ]
          },
          "metadata": {
            "tags": []
          },
          "execution_count": 709
        }
      ]
    },
    {
      "cell_type": "markdown",
      "metadata": {
        "id": "_YE8isZW1khO",
        "colab_type": "text"
      },
      "source": [
        "**Applying linear model**"
      ]
    },
    {
      "cell_type": "code",
      "metadata": {
        "id": "n1aNxHr51n-T",
        "colab_type": "code",
        "colab": {}
      },
      "source": [
        ""
      ],
      "execution_count": 709,
      "outputs": []
    }
  ]
}