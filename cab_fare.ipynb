{
  "nbformat": 4,
  "nbformat_minor": 0,
  "metadata": {
    "colab": {
      "name": "cab_fare",
      "provenance": [],
      "authorship_tag": "ABX9TyPVOVuK2UxnNNKyEJ0TWeFq",
      "include_colab_link": true
    },
    "kernelspec": {
      "name": "python3",
      "display_name": "Python 3"
    }
  },
  "cells": [
    {
      "cell_type": "markdown",
      "metadata": {
        "id": "view-in-github",
        "colab_type": "text"
      },
      "source": [
        "<a href=\"https://colab.research.google.com/github/vapurv/Cab-fare-prediction/blob/master/cab_fare.ipynb\" target=\"_parent\"><img src=\"https://colab.research.google.com/assets/colab-badge.svg\" alt=\"Open In Colab\"/></a>"
      ]
    },
    {
      "cell_type": "code",
      "metadata": {
        "id": "uLsGIiqxCi2k",
        "colab_type": "code",
        "colab": {
          "base_uri": "https://localhost:8080/",
          "height": 72
        },
        "outputId": "d98ef260-fe90-42c9-8975-2ab65977fb95"
      },
      "source": [
        "#By Apurv verma\n",
        "import os \n",
        "import tensorflow as tf\n",
        "import tensorboardcolab as tbd\n",
        "import datetime\n",
        "import filecmp\n",
        "import pandas as pd \n",
        "import numpy as np  \n",
        "import matplotlib.pyplot as plt\n",
        "import seaborn as sns \n",
        "from collections import Counter \n",
        "from sklearn.tree import DecisionTreeRegressor\n",
        "from sklearn.ensemble import RandomForestRegressor\n",
        "from sklearn.ensemble import GradientBoostingRegressor\n",
        "from sklearn.linear_model import LinearRegression #ML algorithm\n",
        "from sklearn.model_selection import train_test_split #splitting dataset\n",
        "from sklearn.metrics import mean_squared_error\n",
        "from sklearn.metrics import r2_score\n",
        "from pprint import pprint\n",
        "from sklearn.model_selection import GridSearchCV    \n",
        "\n",
        "\n",
        "%matplotlib inline"
      ],
      "execution_count": 1,
      "outputs": [
        {
          "output_type": "stream",
          "text": [
            "/usr/local/lib/python3.6/dist-packages/statsmodels/tools/_testing.py:19: FutureWarning: pandas.util.testing is deprecated. Use the functions in the public API at pandas.testing instead.\n",
            "  import pandas.util.testing as tm\n"
          ],
          "name": "stderr"
        }
      ]
    },
    {
      "cell_type": "code",
      "metadata": {
        "id": "YPI4JQD1F2TR",
        "colab_type": "code",
        "colab": {}
      },
      "source": [
        "train  = pd.read_csv(\"train_cab.csv\",na_values={\"pickup_datetime\":\"43\"})"
      ],
      "execution_count": 2,
      "outputs": []
    },
    {
      "cell_type": "code",
      "metadata": {
        "id": "TEWMulbTGBPL",
        "colab_type": "code",
        "colab": {
          "base_uri": "https://localhost:8080/",
          "height": 609
        },
        "outputId": "ca77d217-e903-459b-e41d-dae2815915cb"
      },
      "source": [
        "train"
      ],
      "execution_count": 3,
      "outputs": [
        {
          "output_type": "execute_result",
          "data": {
            "text/html": [
              "<div>\n",
              "<style scoped>\n",
              "    .dataframe tbody tr th:only-of-type {\n",
              "        vertical-align: middle;\n",
              "    }\n",
              "\n",
              "    .dataframe tbody tr th {\n",
              "        vertical-align: top;\n",
              "    }\n",
              "\n",
              "    .dataframe thead th {\n",
              "        text-align: right;\n",
              "    }\n",
              "</style>\n",
              "<table border=\"1\" class=\"dataframe\">\n",
              "  <thead>\n",
              "    <tr style=\"text-align: right;\">\n",
              "      <th></th>\n",
              "      <th>fare_amount</th>\n",
              "      <th>pickup_datetime</th>\n",
              "      <th>pickup_longitude</th>\n",
              "      <th>pickup_latitude</th>\n",
              "      <th>dropoff_longitude</th>\n",
              "      <th>dropoff_latitude</th>\n",
              "      <th>passenger_count</th>\n",
              "    </tr>\n",
              "  </thead>\n",
              "  <tbody>\n",
              "    <tr>\n",
              "      <th>0</th>\n",
              "      <td>4.5</td>\n",
              "      <td>2009-06-15 17:26:21 UTC</td>\n",
              "      <td>-73.844311</td>\n",
              "      <td>40.721319</td>\n",
              "      <td>-73.841610</td>\n",
              "      <td>40.712278</td>\n",
              "      <td>1.0</td>\n",
              "    </tr>\n",
              "    <tr>\n",
              "      <th>1</th>\n",
              "      <td>16.9</td>\n",
              "      <td>2010-01-05 16:52:16 UTC</td>\n",
              "      <td>-74.016048</td>\n",
              "      <td>40.711303</td>\n",
              "      <td>-73.979268</td>\n",
              "      <td>40.782004</td>\n",
              "      <td>1.0</td>\n",
              "    </tr>\n",
              "    <tr>\n",
              "      <th>2</th>\n",
              "      <td>5.7</td>\n",
              "      <td>2011-08-18 00:35:00 UTC</td>\n",
              "      <td>-73.982738</td>\n",
              "      <td>40.761270</td>\n",
              "      <td>-73.991242</td>\n",
              "      <td>40.750562</td>\n",
              "      <td>2.0</td>\n",
              "    </tr>\n",
              "    <tr>\n",
              "      <th>3</th>\n",
              "      <td>7.7</td>\n",
              "      <td>2012-04-21 04:30:42 UTC</td>\n",
              "      <td>-73.987130</td>\n",
              "      <td>40.733143</td>\n",
              "      <td>-73.991567</td>\n",
              "      <td>40.758092</td>\n",
              "      <td>1.0</td>\n",
              "    </tr>\n",
              "    <tr>\n",
              "      <th>4</th>\n",
              "      <td>5.3</td>\n",
              "      <td>2010-03-09 07:51:00 UTC</td>\n",
              "      <td>-73.968095</td>\n",
              "      <td>40.768008</td>\n",
              "      <td>-73.956655</td>\n",
              "      <td>40.783762</td>\n",
              "      <td>1.0</td>\n",
              "    </tr>\n",
              "    <tr>\n",
              "      <th>...</th>\n",
              "      <td>...</td>\n",
              "      <td>...</td>\n",
              "      <td>...</td>\n",
              "      <td>...</td>\n",
              "      <td>...</td>\n",
              "      <td>...</td>\n",
              "      <td>...</td>\n",
              "    </tr>\n",
              "    <tr>\n",
              "      <th>16062</th>\n",
              "      <td>6.5</td>\n",
              "      <td>2014-12-12 07:41:00 UTC</td>\n",
              "      <td>-74.008820</td>\n",
              "      <td>40.718757</td>\n",
              "      <td>-73.998865</td>\n",
              "      <td>40.719987</td>\n",
              "      <td>1.0</td>\n",
              "    </tr>\n",
              "    <tr>\n",
              "      <th>16063</th>\n",
              "      <td>16.1</td>\n",
              "      <td>2009-07-13 07:58:00 UTC</td>\n",
              "      <td>-73.981310</td>\n",
              "      <td>40.781695</td>\n",
              "      <td>-74.014392</td>\n",
              "      <td>40.715527</td>\n",
              "      <td>2.0</td>\n",
              "    </tr>\n",
              "    <tr>\n",
              "      <th>16064</th>\n",
              "      <td>8.5</td>\n",
              "      <td>2009-11-11 11:19:07 UTC</td>\n",
              "      <td>-73.972507</td>\n",
              "      <td>40.753417</td>\n",
              "      <td>-73.979577</td>\n",
              "      <td>40.765495</td>\n",
              "      <td>1.0</td>\n",
              "    </tr>\n",
              "    <tr>\n",
              "      <th>16065</th>\n",
              "      <td>8.1</td>\n",
              "      <td>2010-05-11 23:53:00 UTC</td>\n",
              "      <td>-73.957027</td>\n",
              "      <td>40.765945</td>\n",
              "      <td>-73.981983</td>\n",
              "      <td>40.779560</td>\n",
              "      <td>1.0</td>\n",
              "    </tr>\n",
              "    <tr>\n",
              "      <th>16066</th>\n",
              "      <td>8.5</td>\n",
              "      <td>2011-12-14 06:24:33 UTC</td>\n",
              "      <td>-74.002111</td>\n",
              "      <td>40.729755</td>\n",
              "      <td>-73.983877</td>\n",
              "      <td>40.761975</td>\n",
              "      <td>NaN</td>\n",
              "    </tr>\n",
              "  </tbody>\n",
              "</table>\n",
              "<p>16067 rows × 7 columns</p>\n",
              "</div>"
            ],
            "text/plain": [
              "      fare_amount          pickup_datetime  ...  dropoff_latitude  passenger_count\n",
              "0             4.5  2009-06-15 17:26:21 UTC  ...         40.712278              1.0\n",
              "1            16.9  2010-01-05 16:52:16 UTC  ...         40.782004              1.0\n",
              "2             5.7  2011-08-18 00:35:00 UTC  ...         40.750562              2.0\n",
              "3             7.7  2012-04-21 04:30:42 UTC  ...         40.758092              1.0\n",
              "4             5.3  2010-03-09 07:51:00 UTC  ...         40.783762              1.0\n",
              "...           ...                      ...  ...               ...              ...\n",
              "16062         6.5  2014-12-12 07:41:00 UTC  ...         40.719987              1.0\n",
              "16063        16.1  2009-07-13 07:58:00 UTC  ...         40.715527              2.0\n",
              "16064         8.5  2009-11-11 11:19:07 UTC  ...         40.765495              1.0\n",
              "16065         8.1  2010-05-11 23:53:00 UTC  ...         40.779560              1.0\n",
              "16066         8.5  2011-12-14 06:24:33 UTC  ...         40.761975              NaN\n",
              "\n",
              "[16067 rows x 7 columns]"
            ]
          },
          "metadata": {
            "tags": []
          },
          "execution_count": 3
        }
      ]
    },
    {
      "cell_type": "code",
      "metadata": {
        "id": "8pNte-26GHI5",
        "colab_type": "code",
        "colab": {}
      },
      "source": [
        "test_data = pd.read_csv('test.csv')"
      ],
      "execution_count": 4,
      "outputs": []
    },
    {
      "cell_type": "code",
      "metadata": {
        "id": "aEUneqq3GbRM",
        "colab_type": "code",
        "colab": {
          "base_uri": "https://localhost:8080/",
          "height": 589
        },
        "outputId": "7791aab3-3a21-42f1-f711-7aa48d42197f"
      },
      "source": [
        "test_data\n"
      ],
      "execution_count": 5,
      "outputs": [
        {
          "output_type": "execute_result",
          "data": {
            "text/html": [
              "<div>\n",
              "<style scoped>\n",
              "    .dataframe tbody tr th:only-of-type {\n",
              "        vertical-align: middle;\n",
              "    }\n",
              "\n",
              "    .dataframe tbody tr th {\n",
              "        vertical-align: top;\n",
              "    }\n",
              "\n",
              "    .dataframe thead th {\n",
              "        text-align: right;\n",
              "    }\n",
              "</style>\n",
              "<table border=\"1\" class=\"dataframe\">\n",
              "  <thead>\n",
              "    <tr style=\"text-align: right;\">\n",
              "      <th></th>\n",
              "      <th>pickup_datetime</th>\n",
              "      <th>pickup_longitude</th>\n",
              "      <th>pickup_latitude</th>\n",
              "      <th>dropoff_longitude</th>\n",
              "      <th>dropoff_latitude</th>\n",
              "      <th>passenger_count</th>\n",
              "    </tr>\n",
              "  </thead>\n",
              "  <tbody>\n",
              "    <tr>\n",
              "      <th>0</th>\n",
              "      <td>2015-01-27 13:08:24 UTC</td>\n",
              "      <td>-73.973320</td>\n",
              "      <td>40.763805</td>\n",
              "      <td>-73.981430</td>\n",
              "      <td>40.743835</td>\n",
              "      <td>1</td>\n",
              "    </tr>\n",
              "    <tr>\n",
              "      <th>1</th>\n",
              "      <td>2015-01-27 13:08:24 UTC</td>\n",
              "      <td>-73.986862</td>\n",
              "      <td>40.719383</td>\n",
              "      <td>-73.998886</td>\n",
              "      <td>40.739201</td>\n",
              "      <td>1</td>\n",
              "    </tr>\n",
              "    <tr>\n",
              "      <th>2</th>\n",
              "      <td>2011-10-08 11:53:44 UTC</td>\n",
              "      <td>-73.982524</td>\n",
              "      <td>40.751260</td>\n",
              "      <td>-73.979654</td>\n",
              "      <td>40.746139</td>\n",
              "      <td>1</td>\n",
              "    </tr>\n",
              "    <tr>\n",
              "      <th>3</th>\n",
              "      <td>2012-12-01 21:12:12 UTC</td>\n",
              "      <td>-73.981160</td>\n",
              "      <td>40.767807</td>\n",
              "      <td>-73.990448</td>\n",
              "      <td>40.751635</td>\n",
              "      <td>1</td>\n",
              "    </tr>\n",
              "    <tr>\n",
              "      <th>4</th>\n",
              "      <td>2012-12-01 21:12:12 UTC</td>\n",
              "      <td>-73.966046</td>\n",
              "      <td>40.789775</td>\n",
              "      <td>-73.988565</td>\n",
              "      <td>40.744427</td>\n",
              "      <td>1</td>\n",
              "    </tr>\n",
              "    <tr>\n",
              "      <th>...</th>\n",
              "      <td>...</td>\n",
              "      <td>...</td>\n",
              "      <td>...</td>\n",
              "      <td>...</td>\n",
              "      <td>...</td>\n",
              "      <td>...</td>\n",
              "    </tr>\n",
              "    <tr>\n",
              "      <th>9909</th>\n",
              "      <td>2015-05-10 12:37:51 UTC</td>\n",
              "      <td>-73.968124</td>\n",
              "      <td>40.796997</td>\n",
              "      <td>-73.955643</td>\n",
              "      <td>40.780388</td>\n",
              "      <td>6</td>\n",
              "    </tr>\n",
              "    <tr>\n",
              "      <th>9910</th>\n",
              "      <td>2015-01-12 17:05:51 UTC</td>\n",
              "      <td>-73.945511</td>\n",
              "      <td>40.803600</td>\n",
              "      <td>-73.960213</td>\n",
              "      <td>40.776371</td>\n",
              "      <td>6</td>\n",
              "    </tr>\n",
              "    <tr>\n",
              "      <th>9911</th>\n",
              "      <td>2015-04-19 20:44:15 UTC</td>\n",
              "      <td>-73.991600</td>\n",
              "      <td>40.726608</td>\n",
              "      <td>-73.789742</td>\n",
              "      <td>40.647011</td>\n",
              "      <td>6</td>\n",
              "    </tr>\n",
              "    <tr>\n",
              "      <th>9912</th>\n",
              "      <td>2015-01-31 01:05:19 UTC</td>\n",
              "      <td>-73.985573</td>\n",
              "      <td>40.735432</td>\n",
              "      <td>-73.939178</td>\n",
              "      <td>40.801731</td>\n",
              "      <td>6</td>\n",
              "    </tr>\n",
              "    <tr>\n",
              "      <th>9913</th>\n",
              "      <td>2015-01-18 14:06:23 UTC</td>\n",
              "      <td>-73.988022</td>\n",
              "      <td>40.754070</td>\n",
              "      <td>-74.000282</td>\n",
              "      <td>40.759220</td>\n",
              "      <td>6</td>\n",
              "    </tr>\n",
              "  </tbody>\n",
              "</table>\n",
              "<p>9914 rows × 6 columns</p>\n",
              "</div>"
            ],
            "text/plain": [
              "              pickup_datetime  ...  passenger_count\n",
              "0     2015-01-27 13:08:24 UTC  ...                1\n",
              "1     2015-01-27 13:08:24 UTC  ...                1\n",
              "2     2011-10-08 11:53:44 UTC  ...                1\n",
              "3     2012-12-01 21:12:12 UTC  ...                1\n",
              "4     2012-12-01 21:12:12 UTC  ...                1\n",
              "...                       ...  ...              ...\n",
              "9909  2015-05-10 12:37:51 UTC  ...                6\n",
              "9910  2015-01-12 17:05:51 UTC  ...                6\n",
              "9911  2015-04-19 20:44:15 UTC  ...                6\n",
              "9912  2015-01-31 01:05:19 UTC  ...                6\n",
              "9913  2015-01-18 14:06:23 UTC  ...                6\n",
              "\n",
              "[9914 rows x 6 columns]"
            ]
          },
          "metadata": {
            "tags": []
          },
          "execution_count": 5
        }
      ]
    },
    {
      "cell_type": "code",
      "metadata": {
        "id": "27lFfEfgGhSa",
        "colab_type": "code",
        "colab": {
          "base_uri": "https://localhost:8080/",
          "height": 309
        },
        "outputId": "084465a4-b26f-4a7c-becc-a9cb2010b788"
      },
      "source": [
        "train.head() #Head Returns the first n rows."
      ],
      "execution_count": 6,
      "outputs": [
        {
          "output_type": "execute_result",
          "data": {
            "text/html": [
              "<div>\n",
              "<style scoped>\n",
              "    .dataframe tbody tr th:only-of-type {\n",
              "        vertical-align: middle;\n",
              "    }\n",
              "\n",
              "    .dataframe tbody tr th {\n",
              "        vertical-align: top;\n",
              "    }\n",
              "\n",
              "    .dataframe thead th {\n",
              "        text-align: right;\n",
              "    }\n",
              "</style>\n",
              "<table border=\"1\" class=\"dataframe\">\n",
              "  <thead>\n",
              "    <tr style=\"text-align: right;\">\n",
              "      <th></th>\n",
              "      <th>fare_amount</th>\n",
              "      <th>pickup_datetime</th>\n",
              "      <th>pickup_longitude</th>\n",
              "      <th>pickup_latitude</th>\n",
              "      <th>dropoff_longitude</th>\n",
              "      <th>dropoff_latitude</th>\n",
              "      <th>passenger_count</th>\n",
              "    </tr>\n",
              "  </thead>\n",
              "  <tbody>\n",
              "    <tr>\n",
              "      <th>0</th>\n",
              "      <td>4.5</td>\n",
              "      <td>2009-06-15 17:26:21 UTC</td>\n",
              "      <td>-73.844311</td>\n",
              "      <td>40.721319</td>\n",
              "      <td>-73.841610</td>\n",
              "      <td>40.712278</td>\n",
              "      <td>1.0</td>\n",
              "    </tr>\n",
              "    <tr>\n",
              "      <th>1</th>\n",
              "      <td>16.9</td>\n",
              "      <td>2010-01-05 16:52:16 UTC</td>\n",
              "      <td>-74.016048</td>\n",
              "      <td>40.711303</td>\n",
              "      <td>-73.979268</td>\n",
              "      <td>40.782004</td>\n",
              "      <td>1.0</td>\n",
              "    </tr>\n",
              "    <tr>\n",
              "      <th>2</th>\n",
              "      <td>5.7</td>\n",
              "      <td>2011-08-18 00:35:00 UTC</td>\n",
              "      <td>-73.982738</td>\n",
              "      <td>40.761270</td>\n",
              "      <td>-73.991242</td>\n",
              "      <td>40.750562</td>\n",
              "      <td>2.0</td>\n",
              "    </tr>\n",
              "    <tr>\n",
              "      <th>3</th>\n",
              "      <td>7.7</td>\n",
              "      <td>2012-04-21 04:30:42 UTC</td>\n",
              "      <td>-73.987130</td>\n",
              "      <td>40.733143</td>\n",
              "      <td>-73.991567</td>\n",
              "      <td>40.758092</td>\n",
              "      <td>1.0</td>\n",
              "    </tr>\n",
              "    <tr>\n",
              "      <th>4</th>\n",
              "      <td>5.3</td>\n",
              "      <td>2010-03-09 07:51:00 UTC</td>\n",
              "      <td>-73.968095</td>\n",
              "      <td>40.768008</td>\n",
              "      <td>-73.956655</td>\n",
              "      <td>40.783762</td>\n",
              "      <td>1.0</td>\n",
              "    </tr>\n",
              "  </tbody>\n",
              "</table>\n",
              "</div>"
            ],
            "text/plain": [
              "  fare_amount          pickup_datetime  ...  dropoff_latitude  passenger_count\n",
              "0         4.5  2009-06-15 17:26:21 UTC  ...         40.712278              1.0\n",
              "1        16.9  2010-01-05 16:52:16 UTC  ...         40.782004              1.0\n",
              "2         5.7  2011-08-18 00:35:00 UTC  ...         40.750562              2.0\n",
              "3         7.7  2012-04-21 04:30:42 UTC  ...         40.758092              1.0\n",
              "4         5.3  2010-03-09 07:51:00 UTC  ...         40.783762              1.0\n",
              "\n",
              "[5 rows x 7 columns]"
            ]
          },
          "metadata": {
            "tags": []
          },
          "execution_count": 6
        }
      ]
    },
    {
      "cell_type": "code",
      "metadata": {
        "id": "GcS6IPZqG8I0",
        "colab_type": "code",
        "colab": {
          "base_uri": "https://localhost:8080/",
          "height": 289
        },
        "outputId": "edaa3914-8356-403f-e82f-cd1d9af0067f"
      },
      "source": [
        "test_data.head() #This will return first five rows of the test data set."
      ],
      "execution_count": 7,
      "outputs": [
        {
          "output_type": "execute_result",
          "data": {
            "text/html": [
              "<div>\n",
              "<style scoped>\n",
              "    .dataframe tbody tr th:only-of-type {\n",
              "        vertical-align: middle;\n",
              "    }\n",
              "\n",
              "    .dataframe tbody tr th {\n",
              "        vertical-align: top;\n",
              "    }\n",
              "\n",
              "    .dataframe thead th {\n",
              "        text-align: right;\n",
              "    }\n",
              "</style>\n",
              "<table border=\"1\" class=\"dataframe\">\n",
              "  <thead>\n",
              "    <tr style=\"text-align: right;\">\n",
              "      <th></th>\n",
              "      <th>pickup_datetime</th>\n",
              "      <th>pickup_longitude</th>\n",
              "      <th>pickup_latitude</th>\n",
              "      <th>dropoff_longitude</th>\n",
              "      <th>dropoff_latitude</th>\n",
              "      <th>passenger_count</th>\n",
              "    </tr>\n",
              "  </thead>\n",
              "  <tbody>\n",
              "    <tr>\n",
              "      <th>0</th>\n",
              "      <td>2015-01-27 13:08:24 UTC</td>\n",
              "      <td>-73.973320</td>\n",
              "      <td>40.763805</td>\n",
              "      <td>-73.981430</td>\n",
              "      <td>40.743835</td>\n",
              "      <td>1</td>\n",
              "    </tr>\n",
              "    <tr>\n",
              "      <th>1</th>\n",
              "      <td>2015-01-27 13:08:24 UTC</td>\n",
              "      <td>-73.986862</td>\n",
              "      <td>40.719383</td>\n",
              "      <td>-73.998886</td>\n",
              "      <td>40.739201</td>\n",
              "      <td>1</td>\n",
              "    </tr>\n",
              "    <tr>\n",
              "      <th>2</th>\n",
              "      <td>2011-10-08 11:53:44 UTC</td>\n",
              "      <td>-73.982524</td>\n",
              "      <td>40.751260</td>\n",
              "      <td>-73.979654</td>\n",
              "      <td>40.746139</td>\n",
              "      <td>1</td>\n",
              "    </tr>\n",
              "    <tr>\n",
              "      <th>3</th>\n",
              "      <td>2012-12-01 21:12:12 UTC</td>\n",
              "      <td>-73.981160</td>\n",
              "      <td>40.767807</td>\n",
              "      <td>-73.990448</td>\n",
              "      <td>40.751635</td>\n",
              "      <td>1</td>\n",
              "    </tr>\n",
              "    <tr>\n",
              "      <th>4</th>\n",
              "      <td>2012-12-01 21:12:12 UTC</td>\n",
              "      <td>-73.966046</td>\n",
              "      <td>40.789775</td>\n",
              "      <td>-73.988565</td>\n",
              "      <td>40.744427</td>\n",
              "      <td>1</td>\n",
              "    </tr>\n",
              "  </tbody>\n",
              "</table>\n",
              "</div>"
            ],
            "text/plain": [
              "           pickup_datetime  pickup_longitude  ...  dropoff_latitude  passenger_count\n",
              "0  2015-01-27 13:08:24 UTC        -73.973320  ...         40.743835                1\n",
              "1  2015-01-27 13:08:24 UTC        -73.986862  ...         40.739201                1\n",
              "2  2011-10-08 11:53:44 UTC        -73.982524  ...         40.746139                1\n",
              "3  2012-12-01 21:12:12 UTC        -73.981160  ...         40.751635                1\n",
              "4  2012-12-01 21:12:12 UTC        -73.966046  ...         40.744427                1\n",
              "\n",
              "[5 rows x 6 columns]"
            ]
          },
          "metadata": {
            "tags": []
          },
          "execution_count": 7
        }
      ]
    },
    {
      "cell_type": "code",
      "metadata": {
        "id": "YjqDoUvTHSIY",
        "colab_type": "code",
        "colab": {
          "base_uri": "https://localhost:8080/",
          "height": 156
        },
        "outputId": "830c9d2e-e0d8-4ea9-d775-7b795aafed44"
      },
      "source": [
        "#For the better understanding of data,we will check which type of data are present in the training and test data set.\n",
        "train.dtypes"
      ],
      "execution_count": 8,
      "outputs": [
        {
          "output_type": "execute_result",
          "data": {
            "text/plain": [
              "fare_amount           object\n",
              "pickup_datetime       object\n",
              "pickup_longitude     float64\n",
              "pickup_latitude      float64\n",
              "dropoff_longitude    float64\n",
              "dropoff_latitude     float64\n",
              "passenger_count      float64\n",
              "dtype: object"
            ]
          },
          "metadata": {
            "tags": []
          },
          "execution_count": 8
        }
      ]
    },
    {
      "cell_type": "code",
      "metadata": {
        "id": "k01Oqcg7HtTi",
        "colab_type": "code",
        "colab": {
          "base_uri": "https://localhost:8080/",
          "height": 139
        },
        "outputId": "74ee3bb4-02f6-477a-814e-d7000464d67b"
      },
      "source": [
        "#Checking the type of data in test set.\n",
        "test_data.dtypes"
      ],
      "execution_count": 9,
      "outputs": [
        {
          "output_type": "execute_result",
          "data": {
            "text/plain": [
              "pickup_datetime       object\n",
              "pickup_longitude     float64\n",
              "pickup_latitude      float64\n",
              "dropoff_longitude    float64\n",
              "dropoff_latitude     float64\n",
              "passenger_count        int64\n",
              "dtype: object"
            ]
          },
          "metadata": {
            "tags": []
          },
          "execution_count": 9
        }
      ]
    },
    {
      "cell_type": "code",
      "metadata": {
        "id": "bSEzNPVcH7h0",
        "colab_type": "code",
        "colab": {
          "base_uri": "https://localhost:8080/",
          "height": 52
        },
        "outputId": "6665c5f3-e698-4448-c67a-d686d95da0ec"
      },
      "source": [
        "#Checking the number of rows and column in the training data set\n",
        "print('\\t','Number of rows','','Number of colummns')\n",
        "x,y = train.shape\n",
        "print('\\t',x,'      \\t',y)"
      ],
      "execution_count": 10,
      "outputs": [
        {
          "output_type": "stream",
          "text": [
            "\t Number of rows  Number of colummns\n",
            "\t 16067       \t 7\n"
          ],
          "name": "stdout"
        }
      ]
    },
    {
      "cell_type": "code",
      "metadata": {
        "id": "Sq7Je98-IyUW",
        "colab_type": "code",
        "colab": {
          "base_uri": "https://localhost:8080/",
          "height": 52
        },
        "outputId": "bd11c011-c375-4463-81f6-6fa3d2f5bbce"
      },
      "source": [
        "#Checking the number of rows and column in the test data set\n",
        "print('\\t','Number of rows','','Number of colummns')\n",
        "x,y = test_data.shape\n",
        "print('\\t',x,'      \\t',y)"
      ],
      "execution_count": 11,
      "outputs": [
        {
          "output_type": "stream",
          "text": [
            "\t Number of rows  Number of colummns\n",
            "\t 9914       \t 6\n"
          ],
          "name": "stdout"
        }
      ]
    },
    {
      "cell_type": "code",
      "metadata": {
        "id": "2vKe1R0zKhx4",
        "colab_type": "code",
        "colab": {
          "base_uri": "https://localhost:8080/",
          "height": 294
        },
        "outputId": "197c4f84-7a45-419b-8393-cae75bf8fed9"
      },
      "source": [
        "#Descrbing the data set:Describe(): The describe() method is used for calculating some statistical data like percentile, mean and std of the numerical values of the Series or DataFrame. It analyzes both numeric and object series and also the DataFrame column sets of mixed data types.\n",
        "test_data.describe()"
      ],
      "execution_count": 12,
      "outputs": [
        {
          "output_type": "execute_result",
          "data": {
            "text/html": [
              "<div>\n",
              "<style scoped>\n",
              "    .dataframe tbody tr th:only-of-type {\n",
              "        vertical-align: middle;\n",
              "    }\n",
              "\n",
              "    .dataframe tbody tr th {\n",
              "        vertical-align: top;\n",
              "    }\n",
              "\n",
              "    .dataframe thead th {\n",
              "        text-align: right;\n",
              "    }\n",
              "</style>\n",
              "<table border=\"1\" class=\"dataframe\">\n",
              "  <thead>\n",
              "    <tr style=\"text-align: right;\">\n",
              "      <th></th>\n",
              "      <th>pickup_longitude</th>\n",
              "      <th>pickup_latitude</th>\n",
              "      <th>dropoff_longitude</th>\n",
              "      <th>dropoff_latitude</th>\n",
              "      <th>passenger_count</th>\n",
              "    </tr>\n",
              "  </thead>\n",
              "  <tbody>\n",
              "    <tr>\n",
              "      <th>count</th>\n",
              "      <td>9914.000000</td>\n",
              "      <td>9914.000000</td>\n",
              "      <td>9914.000000</td>\n",
              "      <td>9914.000000</td>\n",
              "      <td>9914.000000</td>\n",
              "    </tr>\n",
              "    <tr>\n",
              "      <th>mean</th>\n",
              "      <td>-73.974722</td>\n",
              "      <td>40.751041</td>\n",
              "      <td>-73.973657</td>\n",
              "      <td>40.751743</td>\n",
              "      <td>1.671273</td>\n",
              "    </tr>\n",
              "    <tr>\n",
              "      <th>std</th>\n",
              "      <td>0.042774</td>\n",
              "      <td>0.033541</td>\n",
              "      <td>0.039072</td>\n",
              "      <td>0.035435</td>\n",
              "      <td>1.278747</td>\n",
              "    </tr>\n",
              "    <tr>\n",
              "      <th>min</th>\n",
              "      <td>-74.252193</td>\n",
              "      <td>40.573143</td>\n",
              "      <td>-74.263242</td>\n",
              "      <td>40.568973</td>\n",
              "      <td>1.000000</td>\n",
              "    </tr>\n",
              "    <tr>\n",
              "      <th>25%</th>\n",
              "      <td>-73.992501</td>\n",
              "      <td>40.736125</td>\n",
              "      <td>-73.991247</td>\n",
              "      <td>40.735254</td>\n",
              "      <td>1.000000</td>\n",
              "    </tr>\n",
              "    <tr>\n",
              "      <th>50%</th>\n",
              "      <td>-73.982326</td>\n",
              "      <td>40.753051</td>\n",
              "      <td>-73.980015</td>\n",
              "      <td>40.754065</td>\n",
              "      <td>1.000000</td>\n",
              "    </tr>\n",
              "    <tr>\n",
              "      <th>75%</th>\n",
              "      <td>-73.968013</td>\n",
              "      <td>40.767113</td>\n",
              "      <td>-73.964059</td>\n",
              "      <td>40.768757</td>\n",
              "      <td>2.000000</td>\n",
              "    </tr>\n",
              "    <tr>\n",
              "      <th>max</th>\n",
              "      <td>-72.986532</td>\n",
              "      <td>41.709555</td>\n",
              "      <td>-72.990963</td>\n",
              "      <td>41.696683</td>\n",
              "      <td>6.000000</td>\n",
              "    </tr>\n",
              "  </tbody>\n",
              "</table>\n",
              "</div>"
            ],
            "text/plain": [
              "       pickup_longitude  pickup_latitude  ...  dropoff_latitude  passenger_count\n",
              "count       9914.000000      9914.000000  ...       9914.000000      9914.000000\n",
              "mean         -73.974722        40.751041  ...         40.751743         1.671273\n",
              "std            0.042774         0.033541  ...          0.035435         1.278747\n",
              "min          -74.252193        40.573143  ...         40.568973         1.000000\n",
              "25%          -73.992501        40.736125  ...         40.735254         1.000000\n",
              "50%          -73.982326        40.753051  ...         40.754065         1.000000\n",
              "75%          -73.968013        40.767113  ...         40.768757         2.000000\n",
              "max          -72.986532        41.709555  ...         41.696683         6.000000\n",
              "\n",
              "[8 rows x 5 columns]"
            ]
          },
          "metadata": {
            "tags": []
          },
          "execution_count": 12
        }
      ]
    },
    {
      "cell_type": "code",
      "metadata": {
        "id": "ikJakPbYLB5j",
        "colab_type": "code",
        "colab": {}
      },
      "source": [
        "#From the description obatined -values are found are percentile at 25%,50% and 75%.Mean std and minimum are also obtained."
      ],
      "execution_count": 13,
      "outputs": []
    },
    {
      "cell_type": "code",
      "metadata": {
        "id": "3JjDvt2jL6Ss",
        "colab_type": "code",
        "colab": {
          "base_uri": "https://localhost:8080/",
          "height": 294
        },
        "outputId": "cd1f1e22-d2ee-4abf-f932-e46d1c02be08"
      },
      "source": [
        "#Descrbing the data set:Describe(): The describe() method is used for calculating some statistical data like percentile, mean and std of the numerical values of the Series or DataFrame. It analyzes both numeric and object series and also the DataFrame column sets of mixed data types.\n",
        "train.describe()"
      ],
      "execution_count": 14,
      "outputs": [
        {
          "output_type": "execute_result",
          "data": {
            "text/html": [
              "<div>\n",
              "<style scoped>\n",
              "    .dataframe tbody tr th:only-of-type {\n",
              "        vertical-align: middle;\n",
              "    }\n",
              "\n",
              "    .dataframe tbody tr th {\n",
              "        vertical-align: top;\n",
              "    }\n",
              "\n",
              "    .dataframe thead th {\n",
              "        text-align: right;\n",
              "    }\n",
              "</style>\n",
              "<table border=\"1\" class=\"dataframe\">\n",
              "  <thead>\n",
              "    <tr style=\"text-align: right;\">\n",
              "      <th></th>\n",
              "      <th>pickup_longitude</th>\n",
              "      <th>pickup_latitude</th>\n",
              "      <th>dropoff_longitude</th>\n",
              "      <th>dropoff_latitude</th>\n",
              "      <th>passenger_count</th>\n",
              "    </tr>\n",
              "  </thead>\n",
              "  <tbody>\n",
              "    <tr>\n",
              "      <th>count</th>\n",
              "      <td>16067.000000</td>\n",
              "      <td>16067.000000</td>\n",
              "      <td>16067.000000</td>\n",
              "      <td>16067.000000</td>\n",
              "      <td>16012.000000</td>\n",
              "    </tr>\n",
              "    <tr>\n",
              "      <th>mean</th>\n",
              "      <td>-72.462787</td>\n",
              "      <td>39.914725</td>\n",
              "      <td>-72.462328</td>\n",
              "      <td>39.897906</td>\n",
              "      <td>2.625070</td>\n",
              "    </tr>\n",
              "    <tr>\n",
              "      <th>std</th>\n",
              "      <td>10.578384</td>\n",
              "      <td>6.826587</td>\n",
              "      <td>10.575062</td>\n",
              "      <td>6.187087</td>\n",
              "      <td>60.844122</td>\n",
              "    </tr>\n",
              "    <tr>\n",
              "      <th>min</th>\n",
              "      <td>-74.438233</td>\n",
              "      <td>-74.006893</td>\n",
              "      <td>-74.429332</td>\n",
              "      <td>-74.006377</td>\n",
              "      <td>0.000000</td>\n",
              "    </tr>\n",
              "    <tr>\n",
              "      <th>25%</th>\n",
              "      <td>-73.992156</td>\n",
              "      <td>40.734927</td>\n",
              "      <td>-73.991182</td>\n",
              "      <td>40.734651</td>\n",
              "      <td>1.000000</td>\n",
              "    </tr>\n",
              "    <tr>\n",
              "      <th>50%</th>\n",
              "      <td>-73.981698</td>\n",
              "      <td>40.752603</td>\n",
              "      <td>-73.980172</td>\n",
              "      <td>40.753567</td>\n",
              "      <td>1.000000</td>\n",
              "    </tr>\n",
              "    <tr>\n",
              "      <th>75%</th>\n",
              "      <td>-73.966838</td>\n",
              "      <td>40.767381</td>\n",
              "      <td>-73.963643</td>\n",
              "      <td>40.768013</td>\n",
              "      <td>2.000000</td>\n",
              "    </tr>\n",
              "    <tr>\n",
              "      <th>max</th>\n",
              "      <td>40.766125</td>\n",
              "      <td>401.083332</td>\n",
              "      <td>40.802437</td>\n",
              "      <td>41.366138</td>\n",
              "      <td>5345.000000</td>\n",
              "    </tr>\n",
              "  </tbody>\n",
              "</table>\n",
              "</div>"
            ],
            "text/plain": [
              "       pickup_longitude  pickup_latitude  ...  dropoff_latitude  passenger_count\n",
              "count      16067.000000     16067.000000  ...      16067.000000     16012.000000\n",
              "mean         -72.462787        39.914725  ...         39.897906         2.625070\n",
              "std           10.578384         6.826587  ...          6.187087        60.844122\n",
              "min          -74.438233       -74.006893  ...        -74.006377         0.000000\n",
              "25%          -73.992156        40.734927  ...         40.734651         1.000000\n",
              "50%          -73.981698        40.752603  ...         40.753567         1.000000\n",
              "75%          -73.966838        40.767381  ...         40.768013         2.000000\n",
              "max           40.766125       401.083332  ...         41.366138      5345.000000\n",
              "\n",
              "[8 rows x 5 columns]"
            ]
          },
          "metadata": {
            "tags": []
          },
          "execution_count": 14
        }
      ]
    },
    {
      "cell_type": "markdown",
      "metadata": {
        "id": "k7jcSNxXMRKx",
        "colab_type": "text"
      },
      "source": [
        "**Data Cleaning and missing value**"
      ]
    },
    {
      "cell_type": "markdown",
      "metadata": {
        "id": "jYpj4ylkNE11",
        "colab_type": "text"
      },
      "source": [
        "**On check of the types of data available in the data set we found that cab fare and pickup date time are of object data type.So it need to be converted to numeric**"
      ]
    },
    {
      "cell_type": "code",
      "metadata": {
        "id": "CYdK4gmNMiVe",
        "colab_type": "code",
        "colab": {}
      },
      "source": [
        "#Convert fare_amount from object to numeric\n",
        "train[\"fare_amount\"] = pd.to_numeric(train[\"fare_amount\"],errors = \"coerce\") \n",
        " #Using errors=’coerce’. It will replace all non-numeric values with NaN."
      ],
      "execution_count": 15,
      "outputs": []
    },
    {
      "cell_type": "markdown",
      "metadata": {
        "id": "veMnUYKtOIqN",
        "colab_type": "text"
      },
      "source": [
        "**Checking the train data type again(fare amount must be convverted to numeric data type)**"
      ]
    },
    {
      "cell_type": "code",
      "metadata": {
        "id": "zHeFeYBzOS82",
        "colab_type": "code",
        "colab": {
          "base_uri": "https://localhost:8080/",
          "height": 260
        },
        "outputId": "99d0efcf-63be-4a2f-cd6c-675ba486ebee"
      },
      "source": [
        "train.dtypes\n"
      ],
      "execution_count": 53,
      "outputs": [
        {
          "output_type": "execute_result",
          "data": {
            "text/plain": [
              "fare_amount                 float64\n",
              "pickup_datetime      datetime64[ns]\n",
              "pickup_longitude            float64\n",
              "pickup_latitude             float64\n",
              "dropoff_longitude           float64\n",
              "dropoff_latitude            float64\n",
              "passenger_count             float64\n",
              "year                        float64\n",
              "Month                       float64\n",
              "Date                        float64\n",
              "Day                         float64\n",
              "Hour                        float64\n",
              "Minute                      float64\n",
              "dtype: object"
            ]
          },
          "metadata": {
            "tags": []
          },
          "execution_count": 53
        }
      ]
    },
    {
      "cell_type": "code",
      "metadata": {
        "id": "PprKhT72O-nu",
        "colab_type": "code",
        "colab": {}
      },
      "source": [
        "#Converting date time to date_time format from object format\n",
        "train['pickup_datetime'] =  pd.to_datetime(train['pickup_datetime'], format='%Y-%m-%d %H:%M:%S UTC')"
      ],
      "execution_count": 52,
      "outputs": []
    },
    {
      "cell_type": "code",
      "metadata": {
        "id": "VfpafDmfPRbW",
        "colab_type": "code",
        "colab": {
          "base_uri": "https://localhost:8080/",
          "height": 156
        },
        "outputId": "78289d9b-dfe2-4e25-dc13-8b4a76a0e8c2"
      },
      "source": [
        "train.dtypes"
      ],
      "execution_count": 18,
      "outputs": [
        {
          "output_type": "execute_result",
          "data": {
            "text/plain": [
              "fare_amount                 float64\n",
              "pickup_datetime      datetime64[ns]\n",
              "pickup_longitude            float64\n",
              "pickup_latitude             float64\n",
              "dropoff_longitude           float64\n",
              "dropoff_latitude            float64\n",
              "passenger_count             float64\n",
              "dtype: object"
            ]
          },
          "metadata": {
            "tags": []
          },
          "execution_count": 18
        }
      ]
    },
    {
      "cell_type": "markdown",
      "metadata": {
        "id": "ljTHKIF3Pfvc",
        "colab_type": "text"
      },
      "source": [
        "*There are many rows which have values Na,So we will drop those rows*"
      ]
    },
    {
      "cell_type": "code",
      "metadata": {
        "id": "QQFvC-IiPdkS",
        "colab_type": "code",
        "colab": {
          "base_uri": "https://localhost:8080/",
          "height": 609
        },
        "outputId": "92cfcec3-ade9-44d1-99e6-da0658af830f"
      },
      "source": [
        "train.dropna(subset= [\"pickup_datetime\"])   #dropping NA values in datetime column"
      ],
      "execution_count": 19,
      "outputs": [
        {
          "output_type": "execute_result",
          "data": {
            "text/html": [
              "<div>\n",
              "<style scoped>\n",
              "    .dataframe tbody tr th:only-of-type {\n",
              "        vertical-align: middle;\n",
              "    }\n",
              "\n",
              "    .dataframe tbody tr th {\n",
              "        vertical-align: top;\n",
              "    }\n",
              "\n",
              "    .dataframe thead th {\n",
              "        text-align: right;\n",
              "    }\n",
              "</style>\n",
              "<table border=\"1\" class=\"dataframe\">\n",
              "  <thead>\n",
              "    <tr style=\"text-align: right;\">\n",
              "      <th></th>\n",
              "      <th>fare_amount</th>\n",
              "      <th>pickup_datetime</th>\n",
              "      <th>pickup_longitude</th>\n",
              "      <th>pickup_latitude</th>\n",
              "      <th>dropoff_longitude</th>\n",
              "      <th>dropoff_latitude</th>\n",
              "      <th>passenger_count</th>\n",
              "    </tr>\n",
              "  </thead>\n",
              "  <tbody>\n",
              "    <tr>\n",
              "      <th>0</th>\n",
              "      <td>4.5</td>\n",
              "      <td>2009-06-15 17:26:21</td>\n",
              "      <td>-73.844311</td>\n",
              "      <td>40.721319</td>\n",
              "      <td>-73.841610</td>\n",
              "      <td>40.712278</td>\n",
              "      <td>1.0</td>\n",
              "    </tr>\n",
              "    <tr>\n",
              "      <th>1</th>\n",
              "      <td>16.9</td>\n",
              "      <td>2010-01-05 16:52:16</td>\n",
              "      <td>-74.016048</td>\n",
              "      <td>40.711303</td>\n",
              "      <td>-73.979268</td>\n",
              "      <td>40.782004</td>\n",
              "      <td>1.0</td>\n",
              "    </tr>\n",
              "    <tr>\n",
              "      <th>2</th>\n",
              "      <td>5.7</td>\n",
              "      <td>2011-08-18 00:35:00</td>\n",
              "      <td>-73.982738</td>\n",
              "      <td>40.761270</td>\n",
              "      <td>-73.991242</td>\n",
              "      <td>40.750562</td>\n",
              "      <td>2.0</td>\n",
              "    </tr>\n",
              "    <tr>\n",
              "      <th>3</th>\n",
              "      <td>7.7</td>\n",
              "      <td>2012-04-21 04:30:42</td>\n",
              "      <td>-73.987130</td>\n",
              "      <td>40.733143</td>\n",
              "      <td>-73.991567</td>\n",
              "      <td>40.758092</td>\n",
              "      <td>1.0</td>\n",
              "    </tr>\n",
              "    <tr>\n",
              "      <th>4</th>\n",
              "      <td>5.3</td>\n",
              "      <td>2010-03-09 07:51:00</td>\n",
              "      <td>-73.968095</td>\n",
              "      <td>40.768008</td>\n",
              "      <td>-73.956655</td>\n",
              "      <td>40.783762</td>\n",
              "      <td>1.0</td>\n",
              "    </tr>\n",
              "    <tr>\n",
              "      <th>...</th>\n",
              "      <td>...</td>\n",
              "      <td>...</td>\n",
              "      <td>...</td>\n",
              "      <td>...</td>\n",
              "      <td>...</td>\n",
              "      <td>...</td>\n",
              "      <td>...</td>\n",
              "    </tr>\n",
              "    <tr>\n",
              "      <th>16062</th>\n",
              "      <td>6.5</td>\n",
              "      <td>2014-12-12 07:41:00</td>\n",
              "      <td>-74.008820</td>\n",
              "      <td>40.718757</td>\n",
              "      <td>-73.998865</td>\n",
              "      <td>40.719987</td>\n",
              "      <td>1.0</td>\n",
              "    </tr>\n",
              "    <tr>\n",
              "      <th>16063</th>\n",
              "      <td>16.1</td>\n",
              "      <td>2009-07-13 07:58:00</td>\n",
              "      <td>-73.981310</td>\n",
              "      <td>40.781695</td>\n",
              "      <td>-74.014392</td>\n",
              "      <td>40.715527</td>\n",
              "      <td>2.0</td>\n",
              "    </tr>\n",
              "    <tr>\n",
              "      <th>16064</th>\n",
              "      <td>8.5</td>\n",
              "      <td>2009-11-11 11:19:07</td>\n",
              "      <td>-73.972507</td>\n",
              "      <td>40.753417</td>\n",
              "      <td>-73.979577</td>\n",
              "      <td>40.765495</td>\n",
              "      <td>1.0</td>\n",
              "    </tr>\n",
              "    <tr>\n",
              "      <th>16065</th>\n",
              "      <td>8.1</td>\n",
              "      <td>2010-05-11 23:53:00</td>\n",
              "      <td>-73.957027</td>\n",
              "      <td>40.765945</td>\n",
              "      <td>-73.981983</td>\n",
              "      <td>40.779560</td>\n",
              "      <td>1.0</td>\n",
              "    </tr>\n",
              "    <tr>\n",
              "      <th>16066</th>\n",
              "      <td>8.5</td>\n",
              "      <td>2011-12-14 06:24:33</td>\n",
              "      <td>-74.002111</td>\n",
              "      <td>40.729755</td>\n",
              "      <td>-73.983877</td>\n",
              "      <td>40.761975</td>\n",
              "      <td>NaN</td>\n",
              "    </tr>\n",
              "  </tbody>\n",
              "</table>\n",
              "<p>16066 rows × 7 columns</p>\n",
              "</div>"
            ],
            "text/plain": [
              "       fare_amount     pickup_datetime  ...  dropoff_latitude  passenger_count\n",
              "0              4.5 2009-06-15 17:26:21  ...         40.712278              1.0\n",
              "1             16.9 2010-01-05 16:52:16  ...         40.782004              1.0\n",
              "2              5.7 2011-08-18 00:35:00  ...         40.750562              2.0\n",
              "3              7.7 2012-04-21 04:30:42  ...         40.758092              1.0\n",
              "4              5.3 2010-03-09 07:51:00  ...         40.783762              1.0\n",
              "...            ...                 ...  ...               ...              ...\n",
              "16062          6.5 2014-12-12 07:41:00  ...         40.719987              1.0\n",
              "16063         16.1 2009-07-13 07:58:00  ...         40.715527              2.0\n",
              "16064          8.5 2009-11-11 11:19:07  ...         40.765495              1.0\n",
              "16065          8.1 2010-05-11 23:53:00  ...         40.779560              1.0\n",
              "16066          8.5 2011-12-14 06:24:33  ...         40.761975              NaN\n",
              "\n",
              "[16066 rows x 7 columns]"
            ]
          },
          "metadata": {
            "tags": []
          },
          "execution_count": 19
        }
      ]
    },
    {
      "cell_type": "markdown",
      "metadata": {
        "id": "3oSZsvLQtIWO",
        "colab_type": "text"
      },
      "source": [
        " **we will saperate the Pickup_datetime column into separate field like year, month, day of the week, etc**\n",
        "\n"
      ]
    },
    {
      "cell_type": "code",
      "metadata": {
        "id": "ozc3hwUitOsX",
        "colab_type": "code",
        "colab": {}
      },
      "source": [
        "\n",
        "\n",
        "train['year'] = train['pickup_datetime'].dt.year\n",
        "train['Month'] = train['pickup_datetime'].dt.month\n",
        "train['Date'] = train['pickup_datetime'].dt.day\n",
        "train['Day'] = train['pickup_datetime'].dt.dayofweek\n",
        "train['Hour'] = train['pickup_datetime'].dt.hour\n",
        "train['Minute'] = train['pickup_datetime'].dt.minute"
      ],
      "execution_count": 20,
      "outputs": []
    },
    {
      "cell_type": "code",
      "metadata": {
        "id": "WyTvmc29tVde",
        "colab_type": "code",
        "colab": {
          "base_uri": "https://localhost:8080/",
          "height": 260
        },
        "outputId": "f6bdadb5-b1fe-4d94-ffc8-3e4ff41280c0"
      },
      "source": [
        "train.dtypes"
      ],
      "execution_count": 21,
      "outputs": [
        {
          "output_type": "execute_result",
          "data": {
            "text/plain": [
              "fare_amount                 float64\n",
              "pickup_datetime      datetime64[ns]\n",
              "pickup_longitude            float64\n",
              "pickup_latitude             float64\n",
              "dropoff_longitude           float64\n",
              "dropoff_latitude            float64\n",
              "passenger_count             float64\n",
              "year                        float64\n",
              "Month                       float64\n",
              "Date                        float64\n",
              "Day                         float64\n",
              "Hour                        float64\n",
              "Minute                      float64\n",
              "dtype: object"
            ]
          },
          "metadata": {
            "tags": []
          },
          "execution_count": 21
        }
      ]
    },
    {
      "cell_type": "code",
      "metadata": {
        "id": "J70Cr_twMp_B",
        "colab_type": "code",
        "colab": {}
      },
      "source": [
        "test_data['pickup_datetime']= pd.to_datetime(test_data['pickup_datetime'],format= \"%Y-%m-%d %H:%M:%S UTC\")"
      ],
      "execution_count": 22,
      "outputs": []
    },
    {
      "cell_type": "code",
      "metadata": {
        "id": "2e5OcRgfNGH5",
        "colab_type": "code",
        "colab": {
          "base_uri": "https://localhost:8080/",
          "height": 139
        },
        "outputId": "d6b8868d-537e-4b04-dbf5-f20b27f021df"
      },
      "source": [
        "test_data.dtypes"
      ],
      "execution_count": 23,
      "outputs": [
        {
          "output_type": "execute_result",
          "data": {
            "text/plain": [
              "pickup_datetime      datetime64[ns]\n",
              "pickup_longitude            float64\n",
              "pickup_latitude             float64\n",
              "dropoff_longitude           float64\n",
              "dropoff_latitude            float64\n",
              "passenger_count               int64\n",
              "dtype: object"
            ]
          },
          "metadata": {
            "tags": []
          },
          "execution_count": 23
        }
      ]
    },
    {
      "cell_type": "markdown",
      "metadata": {
        "id": "RRFO1uGSNNMA",
        "colab_type": "text"
      },
      "source": [
        "**We will seperate pickup date_time column into seperate areas like year,date**\n"
      ]
    },
    {
      "cell_type": "code",
      "metadata": {
        "id": "4z7_v75BNtNs",
        "colab_type": "code",
        "colab": {}
      },
      "source": [
        "test_data['year'] = test_data['pickup_datetime'].dt.year"
      ],
      "execution_count": 24,
      "outputs": []
    },
    {
      "cell_type": "code",
      "metadata": {
        "id": "sUAXF5aBNUw4",
        "colab_type": "code",
        "colab": {
          "base_uri": "https://localhost:8080/",
          "height": 156
        },
        "outputId": "ccda7d88-5fe8-4956-cbac-e18dbe02e9d7"
      },
      "source": [
        "test_data.dtypes"
      ],
      "execution_count": 25,
      "outputs": [
        {
          "output_type": "execute_result",
          "data": {
            "text/plain": [
              "pickup_datetime      datetime64[ns]\n",
              "pickup_longitude            float64\n",
              "pickup_latitude             float64\n",
              "dropoff_longitude           float64\n",
              "dropoff_latitude            float64\n",
              "passenger_count               int64\n",
              "year                          int64\n",
              "dtype: object"
            ]
          },
          "metadata": {
            "tags": []
          },
          "execution_count": 25
        }
      ]
    },
    {
      "cell_type": "code",
      "metadata": {
        "id": "nmu4UzBHOJpK",
        "colab_type": "code",
        "colab": {}
      },
      "source": [
        "test_data['date '] = test_data['pickup_datetime'].dt.date\n",
        "test_data['month']=test_data['pickup_datetime'].dt.month\n",
        "test_data['day'] = test_data['pickup_datetime'].dt.dayofweek\n",
        "test_data['hour'] = test_data['pickup_datetime'].dt.hour\n",
        "test_data['Minute'] = test_data['pickup_datetime'].dt.minute"
      ],
      "execution_count": 26,
      "outputs": []
    },
    {
      "cell_type": "code",
      "metadata": {
        "id": "FqB9i70fPR8G",
        "colab_type": "code",
        "colab": {
          "base_uri": "https://localhost:8080/",
          "height": 243
        },
        "outputId": "f475f77d-3f10-47c6-a55a-6501ba7ea692"
      },
      "source": [
        "test_data.dtypes"
      ],
      "execution_count": 27,
      "outputs": [
        {
          "output_type": "execute_result",
          "data": {
            "text/plain": [
              "pickup_datetime      datetime64[ns]\n",
              "pickup_longitude            float64\n",
              "pickup_latitude             float64\n",
              "dropoff_longitude           float64\n",
              "dropoff_latitude            float64\n",
              "passenger_count               int64\n",
              "year                          int64\n",
              "date                         object\n",
              "month                         int64\n",
              "day                           int64\n",
              "hour                          int64\n",
              "Minute                        int64\n",
              "dtype: object"
            ]
          },
          "metadata": {
            "tags": []
          },
          "execution_count": 27
        }
      ]
    },
    {
      "cell_type": "markdown",
      "metadata": {
        "id": "NGkpOMEtPxjk",
        "colab_type": "text"
      },
      "source": [
        "**Check for the un-necessary data in the train data set**\n",
        "\n",
        "1>Passenger count should be not more than 6.\n",
        "\n",
        "2>Longitude should be in the range of -90 to +90.\n",
        "\n",
        "3>Latitude should be in the range of -180 to +180.\n",
        "\n",
        "4>Some values which does not seem acceptable,we will remove them.\n"
      ]
    },
    {
      "cell_type": "code",
      "metadata": {
        "id": "P-ver5X2QfJh",
        "colab_type": "code",
        "colab": {
          "base_uri": "https://localhost:8080/",
          "height": 173
        },
        "outputId": "7b3b7a76-6ecd-43cc-c651-c3e49f0f3ad8"
      },
      "source": [
        "train['passenger_count'].describe()"
      ],
      "execution_count": 28,
      "outputs": [
        {
          "output_type": "execute_result",
          "data": {
            "text/plain": [
              "count    16012.000000\n",
              "mean         2.625070\n",
              "std         60.844122\n",
              "min          0.000000\n",
              "25%          1.000000\n",
              "50%          1.000000\n",
              "75%          2.000000\n",
              "max       5345.000000\n",
              "Name: passenger_count, dtype: float64"
            ]
          },
          "metadata": {
            "tags": []
          },
          "execution_count": 28
        }
      ]
    },
    {
      "cell_type": "markdown",
      "metadata": {
        "id": "BEdlNolnRSqk",
        "colab_type": "text"
      },
      "source": [
        "**In the above description of the passenger count we see that max number of passenger count is 5435 which is absurd.So we will remove all those row who have value more than 6.**"
      ]
    },
    {
      "cell_type": "code",
      "metadata": {
        "id": "Q2J9a06URTn8",
        "colab_type": "code",
        "colab": {}
      },
      "source": [
        "train = train.drop(train[train[\"passenger_count\"]> 6 ].index, axis=0)"
      ],
      "execution_count": 29,
      "outputs": []
    },
    {
      "cell_type": "code",
      "metadata": {
        "id": "oYKyTiZKR51D",
        "colab_type": "code",
        "colab": {
          "base_uri": "https://localhost:8080/",
          "height": 173
        },
        "outputId": "b8ea1fe9-1afb-4d5d-8446-eef9de5e0547"
      },
      "source": [
        "train['passenger_count'].describe()"
      ],
      "execution_count": 30,
      "outputs": [
        {
          "output_type": "execute_result",
          "data": {
            "text/plain": [
              "count    15992.000000\n",
              "mean         1.643661\n",
              "std          1.267474\n",
              "min          0.000000\n",
              "25%          1.000000\n",
              "50%          1.000000\n",
              "75%          2.000000\n",
              "max          6.000000\n",
              "Name: passenger_count, dtype: float64"
            ]
          },
          "metadata": {
            "tags": []
          },
          "execution_count": 30
        }
      ]
    },
    {
      "cell_type": "markdown",
      "metadata": {
        "id": "JuTl6SSiSNvU",
        "colab_type": "text"
      },
      "source": [
        "**removing datetime missing values rows.**"
      ]
    },
    {
      "cell_type": "code",
      "metadata": {
        "id": "aGuAkccOSPr5",
        "colab_type": "code",
        "colab": {
          "base_uri": "https://localhost:8080/",
          "height": 52
        },
        "outputId": "3f3f3dad-6078-4e35-e1ba-4065a43d5970"
      },
      "source": [
        "train = train.drop(train[train['pickup_datetime'].isnull()].index, axis=0)\n",
        "print(train.shape)\n",
        "print(train['pickup_datetime'].isnull().sum())"
      ],
      "execution_count": 31,
      "outputs": [
        {
          "output_type": "stream",
          "text": [
            "(16046, 13)\n",
            "0\n"
          ],
          "name": "stdout"
        }
      ]
    },
    {
      "cell_type": "markdown",
      "metadata": {
        "id": "FzxWSPdAScYT",
        "colab_type": "text"
      },
      "source": [
        "**Also removing the values which have the passenger count equal to 0.**"
      ]
    },
    {
      "cell_type": "code",
      "metadata": {
        "id": "Y7SxhpaWSlRK",
        "colab_type": "code",
        "colab": {}
      },
      "source": [
        "train = train.drop(train[train[\"passenger_count\"] == 0 ].index, axis=0)"
      ],
      "execution_count": 32,
      "outputs": []
    },
    {
      "cell_type": "code",
      "metadata": {
        "id": "NnDEqkDkSwRJ",
        "colab_type": "code",
        "colab": {
          "base_uri": "https://localhost:8080/",
          "height": 173
        },
        "outputId": "0c983ac0-36fc-4495-d9a6-69fee8df04bf"
      },
      "source": [
        "train[\"passenger_count\"].describe()"
      ],
      "execution_count": 33,
      "outputs": [
        {
          "output_type": "execute_result",
          "data": {
            "text/plain": [
              "count    15934.000000\n",
              "mean         1.649581\n",
              "std          1.265943\n",
              "min          0.120000\n",
              "25%          1.000000\n",
              "50%          1.000000\n",
              "75%          2.000000\n",
              "max          6.000000\n",
              "Name: passenger_count, dtype: float64"
            ]
          },
          "metadata": {
            "tags": []
          },
          "execution_count": 33
        }
      ]
    },
    {
      "cell_type": "code",
      "metadata": {
        "id": "lorlmzj2S6-h",
        "colab_type": "code",
        "colab": {
          "base_uri": "https://localhost:8080/",
          "height": 225
        },
        "outputId": "31e5679f-e1d0-41ff-d196-d5dbeb288d40"
      },
      "source": [
        "train['passenger_count'].sort_values(ascending = True)"
      ],
      "execution_count": 34,
      "outputs": [
        {
          "output_type": "execute_result",
          "data": {
            "text/plain": [
              "8862     0.12\n",
              "0        1.00\n",
              "9790     1.00\n",
              "9791     1.00\n",
              "9792     1.00\n",
              "         ... \n",
              "8076      NaN\n",
              "8139      NaN\n",
              "8259      NaN\n",
              "8306      NaN\n",
              "16066     NaN\n",
              "Name: passenger_count, Length: 15989, dtype: float64"
            ]
          },
          "metadata": {
            "tags": []
          },
          "execution_count": 34
        }
      ]
    },
    {
      "cell_type": "markdown",
      "metadata": {
        "id": "UiVqAGDcTTu1",
        "colab_type": "text"
      },
      "source": [
        "**We observe in sorted passenger count that many values are zero so we will remove them.**"
      ]
    },
    {
      "cell_type": "code",
      "metadata": {
        "id": "WcdeEHB_TeIw",
        "colab_type": "code",
        "colab": {
          "base_uri": "https://localhost:8080/",
          "height": 52
        },
        "outputId": "d2bb47df-86b4-4d17-cbd9-b3dbcbc8f832"
      },
      "source": [
        "train = train.drop(train[train['passenger_count'].isnull()].index, axis=0)\n",
        "print(train.shape)\n",
        "print(train['passenger_count'].isnull().sum())"
      ],
      "execution_count": 35,
      "outputs": [
        {
          "output_type": "stream",
          "text": [
            "(15934, 13)\n",
            "0\n"
          ],
          "name": "stdout"
        }
      ]
    },
    {
      "cell_type": "markdown",
      "metadata": {
        "id": "2X6ym-z9Tp9q",
        "colab_type": "text"
      },
      "source": [
        "One have passenger count 0.12,which is not possible,so we will remove them."
      ]
    },
    {
      "cell_type": "code",
      "metadata": {
        "id": "3jHjZo5ETyRT",
        "colab_type": "code",
        "colab": {
          "base_uri": "https://localhost:8080/",
          "height": 52
        },
        "outputId": "77cd0494-6106-44b3-dde5-91bfb9e7ccd5"
      },
      "source": [
        "\n",
        "train = train.drop(train[train[\"passenger_count\"] == 0.12 ].index, axis=0)\n",
        "print(train.shape)\n",
        "print(train['passenger_count'].isnull().sum())\n"
      ],
      "execution_count": 36,
      "outputs": [
        {
          "output_type": "stream",
          "text": [
            "(15933, 13)\n",
            "0\n"
          ],
          "name": "stdout"
        }
      ]
    },
    {
      "cell_type": "markdown",
      "metadata": {
        "id": "bdivduCVXBQA",
        "colab_type": "text"
      },
      "source": [
        "**Checking for the longitude and latitude.**\n",
        "\n",
        "\n"
      ]
    },
    {
      "cell_type": "markdown",
      "metadata": {
        "id": "XE49xA2lXIe7",
        "colab_type": "text"
      },
      "source": [
        "**We will drop all latitude who are not in the range of -90 to +90.**\n",
        "\n",
        "**We will also drop all longitude who are not in the range of +180 to -180.**\n"
      ]
    },
    {
      "cell_type": "code",
      "metadata": {
        "id": "3xNf2VGIXAV8",
        "colab_type": "code",
        "colab": {
          "base_uri": "https://localhost:8080/",
          "height": 117
        },
        "outputId": "79c16455-a97f-446a-da14-9a664d655137"
      },
      "source": [
        "train[train['pickup_latitude']<-90]\n",
        "train[train['pickup_latitude']>90]"
      ],
      "execution_count": 37,
      "outputs": [
        {
          "output_type": "execute_result",
          "data": {
            "text/html": [
              "<div>\n",
              "<style scoped>\n",
              "    .dataframe tbody tr th:only-of-type {\n",
              "        vertical-align: middle;\n",
              "    }\n",
              "\n",
              "    .dataframe tbody tr th {\n",
              "        vertical-align: top;\n",
              "    }\n",
              "\n",
              "    .dataframe thead th {\n",
              "        text-align: right;\n",
              "    }\n",
              "</style>\n",
              "<table border=\"1\" class=\"dataframe\">\n",
              "  <thead>\n",
              "    <tr style=\"text-align: right;\">\n",
              "      <th></th>\n",
              "      <th>fare_amount</th>\n",
              "      <th>pickup_datetime</th>\n",
              "      <th>pickup_longitude</th>\n",
              "      <th>pickup_latitude</th>\n",
              "      <th>dropoff_longitude</th>\n",
              "      <th>dropoff_latitude</th>\n",
              "      <th>passenger_count</th>\n",
              "      <th>year</th>\n",
              "      <th>Month</th>\n",
              "      <th>Date</th>\n",
              "      <th>Day</th>\n",
              "      <th>Hour</th>\n",
              "      <th>Minute</th>\n",
              "    </tr>\n",
              "  </thead>\n",
              "  <tbody>\n",
              "    <tr>\n",
              "      <th>5686</th>\n",
              "      <td>3.3</td>\n",
              "      <td>2011-07-30 11:15:00</td>\n",
              "      <td>-73.947235</td>\n",
              "      <td>401.083332</td>\n",
              "      <td>-73.951392</td>\n",
              "      <td>40.778927</td>\n",
              "      <td>1.0</td>\n",
              "      <td>2011.0</td>\n",
              "      <td>7.0</td>\n",
              "      <td>30.0</td>\n",
              "      <td>5.0</td>\n",
              "      <td>11.0</td>\n",
              "      <td>15.0</td>\n",
              "    </tr>\n",
              "  </tbody>\n",
              "</table>\n",
              "</div>"
            ],
            "text/plain": [
              "      fare_amount     pickup_datetime  pickup_longitude  ...  Day  Hour  Minute\n",
              "5686          3.3 2011-07-30 11:15:00        -73.947235  ...  5.0  11.0    15.0\n",
              "\n",
              "[1 rows x 13 columns]"
            ]
          },
          "metadata": {
            "tags": []
          },
          "execution_count": 37
        }
      ]
    },
    {
      "cell_type": "code",
      "metadata": {
        "id": "xLfVgb-DXtKO",
        "colab_type": "code",
        "colab": {}
      },
      "source": [
        "#dropping one value of >90\n",
        "train = train.drop((train[train['pickup_latitude']<-90]).index, axis=0)\n",
        "train = train.drop((train[train['pickup_latitude']>90]).index, axis=0)"
      ],
      "execution_count": 38,
      "outputs": []
    },
    {
      "cell_type": "code",
      "metadata": {
        "id": "Pdym_iOuYLk5",
        "colab_type": "code",
        "colab": {
          "base_uri": "https://localhost:8080/",
          "height": 69
        },
        "outputId": "81ac946c-7a89-4b6b-e3c5-2f7747462e9f"
      },
      "source": [
        "train[train['pickup_longitude']<-180]\n",
        "train[train['pickup_longitude']>180]"
      ],
      "execution_count": 39,
      "outputs": [
        {
          "output_type": "execute_result",
          "data": {
            "text/html": [
              "<div>\n",
              "<style scoped>\n",
              "    .dataframe tbody tr th:only-of-type {\n",
              "        vertical-align: middle;\n",
              "    }\n",
              "\n",
              "    .dataframe tbody tr th {\n",
              "        vertical-align: top;\n",
              "    }\n",
              "\n",
              "    .dataframe thead th {\n",
              "        text-align: right;\n",
              "    }\n",
              "</style>\n",
              "<table border=\"1\" class=\"dataframe\">\n",
              "  <thead>\n",
              "    <tr style=\"text-align: right;\">\n",
              "      <th></th>\n",
              "      <th>fare_amount</th>\n",
              "      <th>pickup_datetime</th>\n",
              "      <th>pickup_longitude</th>\n",
              "      <th>pickup_latitude</th>\n",
              "      <th>dropoff_longitude</th>\n",
              "      <th>dropoff_latitude</th>\n",
              "      <th>passenger_count</th>\n",
              "      <th>year</th>\n",
              "      <th>Month</th>\n",
              "      <th>Date</th>\n",
              "      <th>Day</th>\n",
              "      <th>Hour</th>\n",
              "      <th>Minute</th>\n",
              "    </tr>\n",
              "  </thead>\n",
              "  <tbody>\n",
              "  </tbody>\n",
              "</table>\n",
              "</div>"
            ],
            "text/plain": [
              "Empty DataFrame\n",
              "Columns: [fare_amount, pickup_datetime, pickup_longitude, pickup_latitude, dropoff_longitude, dropoff_latitude, passenger_count, year, Month, Date, Day, Hour, Minute]\n",
              "Index: []"
            ]
          },
          "metadata": {
            "tags": []
          },
          "execution_count": 39
        }
      ]
    },
    {
      "cell_type": "code",
      "metadata": {
        "id": "4Z13UtlsYtaT",
        "colab_type": "code",
        "colab": {
          "base_uri": "https://localhost:8080/",
          "height": 69
        },
        "outputId": "8dfadf57-dd68-4d71-ef49-f0465284d165"
      },
      "source": [
        "train[train['dropoff_latitude']<-90]\n",
        "train[train['dropoff_latitude']>90]\n"
      ],
      "execution_count": 40,
      "outputs": [
        {
          "output_type": "execute_result",
          "data": {
            "text/html": [
              "<div>\n",
              "<style scoped>\n",
              "    .dataframe tbody tr th:only-of-type {\n",
              "        vertical-align: middle;\n",
              "    }\n",
              "\n",
              "    .dataframe tbody tr th {\n",
              "        vertical-align: top;\n",
              "    }\n",
              "\n",
              "    .dataframe thead th {\n",
              "        text-align: right;\n",
              "    }\n",
              "</style>\n",
              "<table border=\"1\" class=\"dataframe\">\n",
              "  <thead>\n",
              "    <tr style=\"text-align: right;\">\n",
              "      <th></th>\n",
              "      <th>fare_amount</th>\n",
              "      <th>pickup_datetime</th>\n",
              "      <th>pickup_longitude</th>\n",
              "      <th>pickup_latitude</th>\n",
              "      <th>dropoff_longitude</th>\n",
              "      <th>dropoff_latitude</th>\n",
              "      <th>passenger_count</th>\n",
              "      <th>year</th>\n",
              "      <th>Month</th>\n",
              "      <th>Date</th>\n",
              "      <th>Day</th>\n",
              "      <th>Hour</th>\n",
              "      <th>Minute</th>\n",
              "    </tr>\n",
              "  </thead>\n",
              "  <tbody>\n",
              "  </tbody>\n",
              "</table>\n",
              "</div>"
            ],
            "text/plain": [
              "Empty DataFrame\n",
              "Columns: [fare_amount, pickup_datetime, pickup_longitude, pickup_latitude, dropoff_longitude, dropoff_latitude, passenger_count, year, Month, Date, Day, Hour, Minute]\n",
              "Index: []"
            ]
          },
          "metadata": {
            "tags": []
          },
          "execution_count": 40
        }
      ]
    },
    {
      "cell_type": "code",
      "metadata": {
        "id": "5t7PPXpKYxWV",
        "colab_type": "code",
        "colab": {
          "base_uri": "https://localhost:8080/",
          "height": 69
        },
        "outputId": "00811017-3ef2-418f-ace6-8043cbdefa8a"
      },
      "source": [
        "train[train['dropoff_longitude']<-180]\n",
        "train[train['dropoff_longitude']>180]\n"
      ],
      "execution_count": 41,
      "outputs": [
        {
          "output_type": "execute_result",
          "data": {
            "text/html": [
              "<div>\n",
              "<style scoped>\n",
              "    .dataframe tbody tr th:only-of-type {\n",
              "        vertical-align: middle;\n",
              "    }\n",
              "\n",
              "    .dataframe tbody tr th {\n",
              "        vertical-align: top;\n",
              "    }\n",
              "\n",
              "    .dataframe thead th {\n",
              "        text-align: right;\n",
              "    }\n",
              "</style>\n",
              "<table border=\"1\" class=\"dataframe\">\n",
              "  <thead>\n",
              "    <tr style=\"text-align: right;\">\n",
              "      <th></th>\n",
              "      <th>fare_amount</th>\n",
              "      <th>pickup_datetime</th>\n",
              "      <th>pickup_longitude</th>\n",
              "      <th>pickup_latitude</th>\n",
              "      <th>dropoff_longitude</th>\n",
              "      <th>dropoff_latitude</th>\n",
              "      <th>passenger_count</th>\n",
              "      <th>year</th>\n",
              "      <th>Month</th>\n",
              "      <th>Date</th>\n",
              "      <th>Day</th>\n",
              "      <th>Hour</th>\n",
              "      <th>Minute</th>\n",
              "    </tr>\n",
              "  </thead>\n",
              "  <tbody>\n",
              "  </tbody>\n",
              "</table>\n",
              "</div>"
            ],
            "text/plain": [
              "Empty DataFrame\n",
              "Columns: [fare_amount, pickup_datetime, pickup_longitude, pickup_latitude, dropoff_longitude, dropoff_latitude, passenger_count, year, Month, Date, Day, Hour, Minute]\n",
              "Index: []"
            ]
          },
          "metadata": {
            "tags": []
          },
          "execution_count": 41
        }
      ]
    },
    {
      "cell_type": "code",
      "metadata": {
        "id": "oMffQEGaZDrL",
        "colab_type": "code",
        "colab": {
          "base_uri": "https://localhost:8080/",
          "height": 173
        },
        "outputId": "1cf8e980-4bb4-4475-de61-73920d9a240b"
      },
      "source": [
        "train['dropoff_longitude'].describe()"
      ],
      "execution_count": 42,
      "outputs": [
        {
          "output_type": "execute_result",
          "data": {
            "text/plain": [
              "count    15932.000000\n",
              "mean       -72.458781\n",
              "std         10.587787\n",
              "min        -74.429332\n",
              "25%        -73.991182\n",
              "50%        -73.980156\n",
              "75%        -73.963607\n",
              "max         40.802437\n",
              "Name: dropoff_longitude, dtype: float64"
            ]
          },
          "metadata": {
            "tags": []
          },
          "execution_count": 42
        }
      ]
    },
    {
      "cell_type": "code",
      "metadata": {
        "id": "-d6P42GJZMLQ",
        "colab_type": "code",
        "colab": {
          "base_uri": "https://localhost:8080/",
          "height": 173
        },
        "outputId": "356476b1-b1c4-4efd-c9ea-ca32e1e8a7e3"
      },
      "source": [
        "train['dropoff_latitude'].describe()"
      ],
      "execution_count": 43,
      "outputs": [
        {
          "output_type": "execute_result",
          "data": {
            "text/plain": [
              "count    15932.000000\n",
              "mean        39.895797\n",
              "std          6.196653\n",
              "min        -74.006377\n",
              "25%         40.734655\n",
              "50%         40.753563\n",
              "75%         40.768018\n",
              "max         41.366138\n",
              "Name: dropoff_latitude, dtype: float64"
            ]
          },
          "metadata": {
            "tags": []
          },
          "execution_count": 43
        }
      ]
    },
    {
      "cell_type": "code",
      "metadata": {
        "id": "dWc0BHC6ZSxY",
        "colab_type": "code",
        "colab": {
          "base_uri": "https://localhost:8080/",
          "height": 173
        },
        "outputId": "07da8b1a-7939-4d07-870f-7b71da667068"
      },
      "source": [
        "train['pickup_latitude'].describe()"
      ],
      "execution_count": 44,
      "outputs": [
        {
          "output_type": "execute_result",
          "data": {
            "text/plain": [
              "count    15932.000000\n",
              "mean        39.895271\n",
              "std          6.197027\n",
              "min        -74.006893\n",
              "25%         40.734937\n",
              "50%         40.752633\n",
              "75%         40.767384\n",
              "max         41.366138\n",
              "Name: pickup_latitude, dtype: float64"
            ]
          },
          "metadata": {
            "tags": []
          },
          "execution_count": 44
        }
      ]
    },
    {
      "cell_type": "code",
      "metadata": {
        "id": "_g9ADK1rZX9k",
        "colab_type": "code",
        "colab": {
          "base_uri": "https://localhost:8080/",
          "height": 173
        },
        "outputId": "58cee418-ea93-41e9-a610-cea33988e7ac"
      },
      "source": [
        "train['dropoff_longitude'].describe()"
      ],
      "execution_count": 45,
      "outputs": [
        {
          "output_type": "execute_result",
          "data": {
            "text/plain": [
              "count    15932.000000\n",
              "mean       -72.458781\n",
              "std         10.587787\n",
              "min        -74.429332\n",
              "25%        -73.991182\n",
              "50%        -73.980156\n",
              "75%        -73.963607\n",
              "max         40.802437\n",
              "Name: dropoff_longitude, dtype: float64"
            ]
          },
          "metadata": {
            "tags": []
          },
          "execution_count": 45
        }
      ]
    },
    {
      "cell_type": "markdown",
      "metadata": {
        "id": "sAQXnFoRUW4I",
        "colab_type": "text"
      },
      "source": [
        "**Checking for the fare.**"
      ]
    },
    {
      "cell_type": "code",
      "metadata": {
        "id": "Bldc1KNDU2nm",
        "colab_type": "code",
        "colab": {
          "base_uri": "https://localhost:8080/",
          "height": 225
        },
        "outputId": "508de631-5146-41fb-a710-136e40ebfde7"
      },
      "source": [
        "train['fare_amount'].sort_values(ascending=True)"
      ],
      "execution_count": 46,
      "outputs": [
        {
          "output_type": "execute_result",
          "data": {
            "text/plain": [
              "13032   -3.00\n",
              "2039    -2.90\n",
              "2486    -2.50\n",
              "10002    0.00\n",
              "2780     0.01\n",
              "         ... \n",
              "1712      NaN\n",
              "2412      NaN\n",
              "2458      NaN\n",
              "8178      NaN\n",
              "8226      NaN\n",
              "Name: fare_amount, Length: 15932, dtype: float64"
            ]
          },
          "metadata": {
            "tags": []
          },
          "execution_count": 46
        }
      ]
    },
    {
      "cell_type": "markdown",
      "metadata": {
        "id": "vzU1eZ6hVJNi",
        "colab_type": "text"
      },
      "source": [
        "**A lot of fare amount are in negative and many are also null,so we will remove them.**"
      ]
    },
    {
      "cell_type": "code",
      "metadata": {
        "id": "0y67-XM9VRZg",
        "colab_type": "code",
        "colab": {}
      },
      "source": [
        "train = train.drop(train[train['fare_amount'].isnull()].index,axis=0)"
      ],
      "execution_count": 47,
      "outputs": []
    },
    {
      "cell_type": "code",
      "metadata": {
        "id": "eQ4xaO1tWQ72",
        "colab_type": "code",
        "colab": {}
      },
      "source": [
        "\n",
        "train = train.drop(train[train[\"fare_amount\"]<0].index, axis=0)\n"
      ],
      "execution_count": 48,
      "outputs": []
    },
    {
      "cell_type": "code",
      "metadata": {
        "id": "fc_XfiB5WeF6",
        "colab_type": "code",
        "colab": {}
      },
      "source": [
        "train = train.drop(train[train[\"fare_amount\"]<1].index, axis=0)\n",
        "train = train.drop(train[train[\"fare_amount\"]> 454 ].index, axis=0)"
      ],
      "execution_count": 49,
      "outputs": []
    },
    {
      "cell_type": "code",
      "metadata": {
        "id": "bTX1D-40Wq5s",
        "colab_type": "code",
        "colab": {
          "base_uri": "https://localhost:8080/",
          "height": 173
        },
        "outputId": "0b96140d-5eb5-4630-a291-35f7644defde"
      },
      "source": [
        "train['fare_amount'].describe()"
      ],
      "execution_count": 50,
      "outputs": [
        {
          "output_type": "execute_result",
          "data": {
            "text/plain": [
              "count    15901.000000\n",
              "mean        11.376864\n",
              "std         10.815059\n",
              "min          1.140000\n",
              "25%          6.000000\n",
              "50%          8.500000\n",
              "75%         12.500000\n",
              "max        453.000000\n",
              "Name: fare_amount, dtype: float64"
            ]
          },
          "metadata": {
            "tags": []
          },
          "execution_count": 50
        }
      ]
    },
    {
      "cell_type": "markdown",
      "metadata": {
        "id": "Pgi1bfcsD4Gy",
        "colab_type": "text"
      },
      "source": [
        "**Calculating distance between two points based on the given co-ordinates**"
      ]
    },
    {
      "cell_type": "code",
      "metadata": {
        "id": "KeSi82vHY7Db",
        "colab_type": "code",
        "colab": {}
      },
      "source": [
        "from math import radians, cos, sin, asin, sqrt\n",
        "def haversine(a):\n",
        "    longitude1=a[0]\n",
        "    latitude1=a[1]\n",
        "    longitude2=a[2]\n",
        "    latitude2=a[3]\n",
        "    \n",
        "    longitude1, latitude1, longitude2, latitude2 = map(radians, [longitude1, latitude1, longitude2, latitude2])\n",
        "    \n",
        "    # haversine formula \n",
        "    dlong = longitude2 - longitude1 \n",
        "    dlati = latitude2 - latitude1 \n",
        "    a = sin(dlati/2)**2 + cos(latitude1) * cos(latitude2) * sin(dlong/2)**2\n",
        "    c =  2 * asin(sqrt(a))\n",
        "    # Earth radius = 6,371\n",
        "    km = 6371* c\n",
        "    return km"
      ],
      "execution_count": 58,
      "outputs": []
    },
    {
      "cell_type": "code",
      "metadata": {
        "id": "0UuUh3bWkVjj",
        "colab_type": "code",
        "colab": {}
      },
      "source": [
        "train['distance'] = train[['pickup_longitude','pickup_latitude','dropoff_longitude','dropoff_latitude']].apply(haversine,axis=1)"
      ],
      "execution_count": 59,
      "outputs": []
    },
    {
      "cell_type": "code",
      "metadata": {
        "id": "L5V7Xe-Fklq5",
        "colab_type": "code",
        "colab": {}
      },
      "source": [
        "test_data['distance'] = test_data[['pickup_longitude','pickup_latitude','dropoff_longitude','dropoff_latitude']].apply(haversine,axis=1)"
      ],
      "execution_count": 62,
      "outputs": []
    },
    {
      "cell_type": "markdown",
      "metadata": {
        "id": "7NVG50QfkuVG",
        "colab_type": "text"
      },
      "source": [
        "**Checking the nature of the updated data**"
      ]
    },
    {
      "cell_type": "code",
      "metadata": {
        "id": "1JbZxLPNky-F",
        "colab_type": "code",
        "colab": {
          "base_uri": "https://localhost:8080/",
          "height": 309
        },
        "outputId": "f3b6dd42-edb6-4ba1-bcf2-f895c0c94ba2"
      },
      "source": [
        "train.head()"
      ],
      "execution_count": 64,
      "outputs": [
        {
          "output_type": "execute_result",
          "data": {
            "text/html": [
              "<div>\n",
              "<style scoped>\n",
              "    .dataframe tbody tr th:only-of-type {\n",
              "        vertical-align: middle;\n",
              "    }\n",
              "\n",
              "    .dataframe tbody tr th {\n",
              "        vertical-align: top;\n",
              "    }\n",
              "\n",
              "    .dataframe thead th {\n",
              "        text-align: right;\n",
              "    }\n",
              "</style>\n",
              "<table border=\"1\" class=\"dataframe\">\n",
              "  <thead>\n",
              "    <tr style=\"text-align: right;\">\n",
              "      <th></th>\n",
              "      <th>fare_amount</th>\n",
              "      <th>pickup_datetime</th>\n",
              "      <th>pickup_longitude</th>\n",
              "      <th>pickup_latitude</th>\n",
              "      <th>dropoff_longitude</th>\n",
              "      <th>dropoff_latitude</th>\n",
              "      <th>passenger_count</th>\n",
              "      <th>year</th>\n",
              "      <th>Month</th>\n",
              "      <th>Date</th>\n",
              "      <th>Day</th>\n",
              "      <th>Hour</th>\n",
              "      <th>Minute</th>\n",
              "      <th>distance</th>\n",
              "    </tr>\n",
              "  </thead>\n",
              "  <tbody>\n",
              "    <tr>\n",
              "      <th>0</th>\n",
              "      <td>4.5</td>\n",
              "      <td>2009-06-15 17:26:21</td>\n",
              "      <td>-73.844311</td>\n",
              "      <td>40.721319</td>\n",
              "      <td>-73.841610</td>\n",
              "      <td>40.712278</td>\n",
              "      <td>1.0</td>\n",
              "      <td>2009.0</td>\n",
              "      <td>6.0</td>\n",
              "      <td>15.0</td>\n",
              "      <td>0.0</td>\n",
              "      <td>17.0</td>\n",
              "      <td>26.0</td>\n",
              "      <td>1.030764</td>\n",
              "    </tr>\n",
              "    <tr>\n",
              "      <th>1</th>\n",
              "      <td>16.9</td>\n",
              "      <td>2010-01-05 16:52:16</td>\n",
              "      <td>-74.016048</td>\n",
              "      <td>40.711303</td>\n",
              "      <td>-73.979268</td>\n",
              "      <td>40.782004</td>\n",
              "      <td>1.0</td>\n",
              "      <td>2010.0</td>\n",
              "      <td>1.0</td>\n",
              "      <td>5.0</td>\n",
              "      <td>1.0</td>\n",
              "      <td>16.0</td>\n",
              "      <td>52.0</td>\n",
              "      <td>8.450134</td>\n",
              "    </tr>\n",
              "    <tr>\n",
              "      <th>2</th>\n",
              "      <td>5.7</td>\n",
              "      <td>2011-08-18 00:35:00</td>\n",
              "      <td>-73.982738</td>\n",
              "      <td>40.761270</td>\n",
              "      <td>-73.991242</td>\n",
              "      <td>40.750562</td>\n",
              "      <td>2.0</td>\n",
              "      <td>2011.0</td>\n",
              "      <td>8.0</td>\n",
              "      <td>18.0</td>\n",
              "      <td>3.0</td>\n",
              "      <td>0.0</td>\n",
              "      <td>35.0</td>\n",
              "      <td>1.389525</td>\n",
              "    </tr>\n",
              "    <tr>\n",
              "      <th>3</th>\n",
              "      <td>7.7</td>\n",
              "      <td>2012-04-21 04:30:42</td>\n",
              "      <td>-73.987130</td>\n",
              "      <td>40.733143</td>\n",
              "      <td>-73.991567</td>\n",
              "      <td>40.758092</td>\n",
              "      <td>1.0</td>\n",
              "      <td>2012.0</td>\n",
              "      <td>4.0</td>\n",
              "      <td>21.0</td>\n",
              "      <td>5.0</td>\n",
              "      <td>4.0</td>\n",
              "      <td>30.0</td>\n",
              "      <td>2.799270</td>\n",
              "    </tr>\n",
              "    <tr>\n",
              "      <th>4</th>\n",
              "      <td>5.3</td>\n",
              "      <td>2010-03-09 07:51:00</td>\n",
              "      <td>-73.968095</td>\n",
              "      <td>40.768008</td>\n",
              "      <td>-73.956655</td>\n",
              "      <td>40.783762</td>\n",
              "      <td>1.0</td>\n",
              "      <td>2010.0</td>\n",
              "      <td>3.0</td>\n",
              "      <td>9.0</td>\n",
              "      <td>1.0</td>\n",
              "      <td>7.0</td>\n",
              "      <td>51.0</td>\n",
              "      <td>1.999157</td>\n",
              "    </tr>\n",
              "  </tbody>\n",
              "</table>\n",
              "</div>"
            ],
            "text/plain": [
              "   fare_amount     pickup_datetime  pickup_longitude  ...  Hour  Minute  distance\n",
              "0          4.5 2009-06-15 17:26:21        -73.844311  ...  17.0    26.0  1.030764\n",
              "1         16.9 2010-01-05 16:52:16        -74.016048  ...  16.0    52.0  8.450134\n",
              "2          5.7 2011-08-18 00:35:00        -73.982738  ...   0.0    35.0  1.389525\n",
              "3          7.7 2012-04-21 04:30:42        -73.987130  ...   4.0    30.0  2.799270\n",
              "4          5.3 2010-03-09 07:51:00        -73.968095  ...   7.0    51.0  1.999157\n",
              "\n",
              "[5 rows x 14 columns]"
            ]
          },
          "metadata": {
            "tags": []
          },
          "execution_count": 64
        }
      ]
    },
    {
      "cell_type": "code",
      "metadata": {
        "id": "euaQ3jkzk5wU",
        "colab_type": "code",
        "colab": {
          "base_uri": "https://localhost:8080/",
          "height": 309
        },
        "outputId": "708d257c-b2a5-4ccb-8d95-688a7f7f29ff"
      },
      "source": [
        "test_data.head()"
      ],
      "execution_count": 65,
      "outputs": [
        {
          "output_type": "execute_result",
          "data": {
            "text/html": [
              "<div>\n",
              "<style scoped>\n",
              "    .dataframe tbody tr th:only-of-type {\n",
              "        vertical-align: middle;\n",
              "    }\n",
              "\n",
              "    .dataframe tbody tr th {\n",
              "        vertical-align: top;\n",
              "    }\n",
              "\n",
              "    .dataframe thead th {\n",
              "        text-align: right;\n",
              "    }\n",
              "</style>\n",
              "<table border=\"1\" class=\"dataframe\">\n",
              "  <thead>\n",
              "    <tr style=\"text-align: right;\">\n",
              "      <th></th>\n",
              "      <th>pickup_datetime</th>\n",
              "      <th>pickup_longitude</th>\n",
              "      <th>pickup_latitude</th>\n",
              "      <th>dropoff_longitude</th>\n",
              "      <th>dropoff_latitude</th>\n",
              "      <th>passenger_count</th>\n",
              "      <th>year</th>\n",
              "      <th>date</th>\n",
              "      <th>month</th>\n",
              "      <th>day</th>\n",
              "      <th>hour</th>\n",
              "      <th>Minute</th>\n",
              "      <th>distance</th>\n",
              "    </tr>\n",
              "  </thead>\n",
              "  <tbody>\n",
              "    <tr>\n",
              "      <th>0</th>\n",
              "      <td>2015-01-27 13:08:24</td>\n",
              "      <td>-73.973320</td>\n",
              "      <td>40.763805</td>\n",
              "      <td>-73.981430</td>\n",
              "      <td>40.743835</td>\n",
              "      <td>1</td>\n",
              "      <td>2015</td>\n",
              "      <td>2015-01-27</td>\n",
              "      <td>1</td>\n",
              "      <td>1</td>\n",
              "      <td>13</td>\n",
              "      <td>8</td>\n",
              "      <td>2.323259</td>\n",
              "    </tr>\n",
              "    <tr>\n",
              "      <th>1</th>\n",
              "      <td>2015-01-27 13:08:24</td>\n",
              "      <td>-73.986862</td>\n",
              "      <td>40.719383</td>\n",
              "      <td>-73.998886</td>\n",
              "      <td>40.739201</td>\n",
              "      <td>1</td>\n",
              "      <td>2015</td>\n",
              "      <td>2015-01-27</td>\n",
              "      <td>1</td>\n",
              "      <td>1</td>\n",
              "      <td>13</td>\n",
              "      <td>8</td>\n",
              "      <td>2.425353</td>\n",
              "    </tr>\n",
              "    <tr>\n",
              "      <th>2</th>\n",
              "      <td>2011-10-08 11:53:44</td>\n",
              "      <td>-73.982524</td>\n",
              "      <td>40.751260</td>\n",
              "      <td>-73.979654</td>\n",
              "      <td>40.746139</td>\n",
              "      <td>1</td>\n",
              "      <td>2011</td>\n",
              "      <td>2011-10-08</td>\n",
              "      <td>10</td>\n",
              "      <td>5</td>\n",
              "      <td>11</td>\n",
              "      <td>53</td>\n",
              "      <td>0.618628</td>\n",
              "    </tr>\n",
              "    <tr>\n",
              "      <th>3</th>\n",
              "      <td>2012-12-01 21:12:12</td>\n",
              "      <td>-73.981160</td>\n",
              "      <td>40.767807</td>\n",
              "      <td>-73.990448</td>\n",
              "      <td>40.751635</td>\n",
              "      <td>1</td>\n",
              "      <td>2012</td>\n",
              "      <td>2012-12-01</td>\n",
              "      <td>12</td>\n",
              "      <td>5</td>\n",
              "      <td>21</td>\n",
              "      <td>12</td>\n",
              "      <td>1.961033</td>\n",
              "    </tr>\n",
              "    <tr>\n",
              "      <th>4</th>\n",
              "      <td>2012-12-01 21:12:12</td>\n",
              "      <td>-73.966046</td>\n",
              "      <td>40.789775</td>\n",
              "      <td>-73.988565</td>\n",
              "      <td>40.744427</td>\n",
              "      <td>1</td>\n",
              "      <td>2012</td>\n",
              "      <td>2012-12-01</td>\n",
              "      <td>12</td>\n",
              "      <td>5</td>\n",
              "      <td>21</td>\n",
              "      <td>12</td>\n",
              "      <td>5.387301</td>\n",
              "    </tr>\n",
              "  </tbody>\n",
              "</table>\n",
              "</div>"
            ],
            "text/plain": [
              "      pickup_datetime  pickup_longitude  ...  Minute  distance\n",
              "0 2015-01-27 13:08:24        -73.973320  ...       8  2.323259\n",
              "1 2015-01-27 13:08:24        -73.986862  ...       8  2.425353\n",
              "2 2011-10-08 11:53:44        -73.982524  ...      53  0.618628\n",
              "3 2012-12-01 21:12:12        -73.981160  ...      12  1.961033\n",
              "4 2012-12-01 21:12:12        -73.966046  ...      12  5.387301\n",
              "\n",
              "[5 rows x 13 columns]"
            ]
          },
          "metadata": {
            "tags": []
          },
          "execution_count": 65
        }
      ]
    },
    {
      "cell_type": "code",
      "metadata": {
        "id": "icZ31J31lLh1",
        "colab_type": "code",
        "colab": {
          "base_uri": "https://localhost:8080/",
          "height": 260
        },
        "outputId": "77ce4d52-1b4e-4e12-b1f7-758012dca691"
      },
      "source": [
        "test_data.nunique()"
      ],
      "execution_count": 66,
      "outputs": [
        {
          "output_type": "execute_result",
          "data": {
            "text/plain": [
              "pickup_datetime      1753\n",
              "pickup_longitude     9124\n",
              "pickup_latitude      9246\n",
              "dropoff_longitude    9141\n",
              "dropoff_latitude     9360\n",
              "passenger_count         6\n",
              "year                    7\n",
              "date                 1211\n",
              "month                  12\n",
              "day                     7\n",
              "hour                   24\n",
              "Minute                 60\n",
              "distance             9830\n",
              "dtype: int64"
            ]
          },
          "metadata": {
            "tags": []
          },
          "execution_count": 66
        }
      ]
    },
    {
      "cell_type": "code",
      "metadata": {
        "id": "V2IMLH5clPVA",
        "colab_type": "code",
        "colab": {
          "base_uri": "https://localhost:8080/",
          "height": 277
        },
        "outputId": "960e8eb7-21e8-47b4-a39d-cddeb05a2f17"
      },
      "source": [
        "train.nunique()"
      ],
      "execution_count": 67,
      "outputs": [
        {
          "output_type": "execute_result",
          "data": {
            "text/plain": [
              "fare_amount            459\n",
              "pickup_datetime      15856\n",
              "pickup_longitude     13672\n",
              "pickup_latitude      14110\n",
              "dropoff_longitude    13763\n",
              "dropoff_latitude     14136\n",
              "passenger_count          7\n",
              "year                     7\n",
              "Month                   12\n",
              "Date                    31\n",
              "Day                      7\n",
              "Hour                    24\n",
              "Minute                  60\n",
              "distance             15448\n",
              "dtype: int64"
            ]
          },
          "metadata": {
            "tags": []
          },
          "execution_count": 67
        }
      ]
    },
    {
      "cell_type": "code",
      "metadata": {
        "id": "PbRPCtbblXbc",
        "colab_type": "code",
        "colab": {
          "base_uri": "https://localhost:8080/",
          "height": 225
        },
        "outputId": "104cc115-fa14-4163-da37-9b0cf8d66d8c"
      },
      "source": [
        "train['distance'].sort_values( ascending=False,kind = 'quicksort')"
      ],
      "execution_count": 71,
      "outputs": [
        {
          "output_type": "execute_result",
          "data": {
            "text/plain": [
              "9147     8667.542104\n",
              "8647     8667.497512\n",
              "2397     8667.454421\n",
              "472      8667.304968\n",
              "11653    8666.701504\n",
              "            ...     \n",
              "13050       0.000000\n",
              "11593       0.000000\n",
              "2346        0.000000\n",
              "8331        0.000000\n",
              "1637        0.000000\n",
              "Name: distance, Length: 15901, dtype: float64"
            ]
          },
          "metadata": {
            "tags": []
          },
          "execution_count": 71
        }
      ]
    },
    {
      "cell_type": "markdown",
      "metadata": {
        "id": "SP_xTcctmE7B",
        "colab_type": "text"
      },
      "source": [
        "**In the sorted distance table we see that there are a lot of distance which are zero and those data are not of any use for the prediction.**\n",
        "\n",
        "**Some values at the top of the table shows that distance travelled are more than 8k km and coming down to the table we get to see that the distance become ariound 127 km, so there is huge diff in the data available, so we will remove them.**"
      ]
    },
    {
      "cell_type": "markdown",
      "metadata": {
        "id": "UxihaM2OnJqM",
        "colab_type": "text"
      },
      "source": [
        "*Removing the zero distance.*"
      ]
    },
    {
      "cell_type": "code",
      "metadata": {
        "id": "MTf5QPMBnDw3",
        "colab_type": "code",
        "colab": {}
      },
      "source": [
        "train = train.drop(train[train['distance']==0].index,level = None,axis = 0)"
      ],
      "execution_count": 75,
      "outputs": []
    },
    {
      "cell_type": "markdown",
      "metadata": {
        "id": "1ozSC0VhnzQ7",
        "colab_type": "text"
      },
      "source": [
        "*Removing the distance which are more than 129 kms*\n"
      ]
    },
    {
      "cell_type": "code",
      "metadata": {
        "id": "gNqNkfImn4rk",
        "colab_type": "code",
        "colab": {}
      },
      "source": [
        "train = train.drop(train[train['distance']>129].index,axis = 0,level = None)"
      ],
      "execution_count": 76,
      "outputs": []
    },
    {
      "cell_type": "code",
      "metadata": {
        "id": "y_HV7ixEoJfX",
        "colab_type": "code",
        "colab": {
          "base_uri": "https://localhost:8080/",
          "height": 225
        },
        "outputId": "8ddbaf76-afb6-4159-d2af-a20b32fa9472"
      },
      "source": [
        "train['distance']"
      ],
      "execution_count": 77,
      "outputs": [
        {
          "output_type": "execute_result",
          "data": {
            "text/plain": [
              "0        1.030764\n",
              "1        8.450134\n",
              "2        1.389525\n",
              "3        2.799270\n",
              "4        1.999157\n",
              "           ...   \n",
              "16061    3.357490\n",
              "16062    0.850044\n",
              "16063    7.867638\n",
              "16064    1.469105\n",
              "16065    2.590036\n",
              "Name: distance, Length: 15422, dtype: float64"
            ]
          },
          "metadata": {
            "tags": []
          },
          "execution_count": 77
        }
      ]
    },
    {
      "cell_type": "code",
      "metadata": {
        "id": "7QzJO8wMoSh7",
        "colab_type": "code",
        "colab": {
          "base_uri": "https://localhost:8080/",
          "height": 314
        },
        "outputId": "0fe836d6-3ef5-4001-8fc2-135755d362c3"
      },
      "source": [
        "train.describe()"
      ],
      "execution_count": 78,
      "outputs": [
        {
          "output_type": "execute_result",
          "data": {
            "text/html": [
              "<div>\n",
              "<style scoped>\n",
              "    .dataframe tbody tr th:only-of-type {\n",
              "        vertical-align: middle;\n",
              "    }\n",
              "\n",
              "    .dataframe tbody tr th {\n",
              "        vertical-align: top;\n",
              "    }\n",
              "\n",
              "    .dataframe thead th {\n",
              "        text-align: right;\n",
              "    }\n",
              "</style>\n",
              "<table border=\"1\" class=\"dataframe\">\n",
              "  <thead>\n",
              "    <tr style=\"text-align: right;\">\n",
              "      <th></th>\n",
              "      <th>fare_amount</th>\n",
              "      <th>pickup_longitude</th>\n",
              "      <th>pickup_latitude</th>\n",
              "      <th>dropoff_longitude</th>\n",
              "      <th>dropoff_latitude</th>\n",
              "      <th>passenger_count</th>\n",
              "      <th>year</th>\n",
              "      <th>Month</th>\n",
              "      <th>Date</th>\n",
              "      <th>Day</th>\n",
              "      <th>Hour</th>\n",
              "      <th>Minute</th>\n",
              "      <th>distance</th>\n",
              "    </tr>\n",
              "  </thead>\n",
              "  <tbody>\n",
              "    <tr>\n",
              "      <th>count</th>\n",
              "      <td>15422.000000</td>\n",
              "      <td>15422.000000</td>\n",
              "      <td>15422.000000</td>\n",
              "      <td>15422.000000</td>\n",
              "      <td>15422.000000</td>\n",
              "      <td>15422.00000</td>\n",
              "      <td>15422.000000</td>\n",
              "      <td>15422.000000</td>\n",
              "      <td>15422.000000</td>\n",
              "      <td>15422.000000</td>\n",
              "      <td>15422.000000</td>\n",
              "      <td>15422.000000</td>\n",
              "      <td>15422.000000</td>\n",
              "    </tr>\n",
              "    <tr>\n",
              "      <th>mean</th>\n",
              "      <td>11.372172</td>\n",
              "      <td>-73.910871</td>\n",
              "      <td>40.688668</td>\n",
              "      <td>-73.909890</td>\n",
              "      <td>40.689171</td>\n",
              "      <td>1.65201</td>\n",
              "      <td>2011.737777</td>\n",
              "      <td>6.274348</td>\n",
              "      <td>15.672740</td>\n",
              "      <td>3.035534</td>\n",
              "      <td>13.499741</td>\n",
              "      <td>29.670600</td>\n",
              "      <td>3.426391</td>\n",
              "    </tr>\n",
              "    <tr>\n",
              "      <th>std</th>\n",
              "      <td>10.674735</td>\n",
              "      <td>2.679518</td>\n",
              "      <td>2.633422</td>\n",
              "      <td>2.679628</td>\n",
              "      <td>2.633073</td>\n",
              "      <td>1.26771</td>\n",
              "      <td>1.870622</td>\n",
              "      <td>3.447892</td>\n",
              "      <td>8.684236</td>\n",
              "      <td>1.969657</td>\n",
              "      <td>6.510149</td>\n",
              "      <td>17.302001</td>\n",
              "      <td>4.366674</td>\n",
              "    </tr>\n",
              "    <tr>\n",
              "      <th>min</th>\n",
              "      <td>1.140000</td>\n",
              "      <td>-74.438233</td>\n",
              "      <td>-74.006893</td>\n",
              "      <td>-74.227047</td>\n",
              "      <td>-74.006377</td>\n",
              "      <td>1.00000</td>\n",
              "      <td>2009.000000</td>\n",
              "      <td>1.000000</td>\n",
              "      <td>1.000000</td>\n",
              "      <td>0.000000</td>\n",
              "      <td>0.000000</td>\n",
              "      <td>0.000000</td>\n",
              "      <td>0.000111</td>\n",
              "    </tr>\n",
              "    <tr>\n",
              "      <th>25%</th>\n",
              "      <td>6.000000</td>\n",
              "      <td>-73.992382</td>\n",
              "      <td>40.736570</td>\n",
              "      <td>-73.991367</td>\n",
              "      <td>40.736307</td>\n",
              "      <td>1.00000</td>\n",
              "      <td>2010.000000</td>\n",
              "      <td>3.000000</td>\n",
              "      <td>8.000000</td>\n",
              "      <td>1.000000</td>\n",
              "      <td>9.000000</td>\n",
              "      <td>15.000000</td>\n",
              "      <td>1.277967</td>\n",
              "    </tr>\n",
              "    <tr>\n",
              "      <th>50%</th>\n",
              "      <td>8.500000</td>\n",
              "      <td>-73.982077</td>\n",
              "      <td>40.753357</td>\n",
              "      <td>-73.980568</td>\n",
              "      <td>40.754244</td>\n",
              "      <td>1.00000</td>\n",
              "      <td>2012.000000</td>\n",
              "      <td>6.000000</td>\n",
              "      <td>16.000000</td>\n",
              "      <td>3.000000</td>\n",
              "      <td>14.000000</td>\n",
              "      <td>30.000000</td>\n",
              "      <td>2.190922</td>\n",
              "    </tr>\n",
              "    <tr>\n",
              "      <th>75%</th>\n",
              "      <td>12.500000</td>\n",
              "      <td>-73.968158</td>\n",
              "      <td>40.767802</td>\n",
              "      <td>-73.965516</td>\n",
              "      <td>40.768311</td>\n",
              "      <td>2.00000</td>\n",
              "      <td>2013.000000</td>\n",
              "      <td>9.000000</td>\n",
              "      <td>23.000000</td>\n",
              "      <td>5.000000</td>\n",
              "      <td>19.000000</td>\n",
              "      <td>45.000000</td>\n",
              "      <td>3.934563</td>\n",
              "    </tr>\n",
              "    <tr>\n",
              "      <th>max</th>\n",
              "      <td>453.000000</td>\n",
              "      <td>40.766125</td>\n",
              "      <td>41.366138</td>\n",
              "      <td>40.802437</td>\n",
              "      <td>41.366138</td>\n",
              "      <td>6.00000</td>\n",
              "      <td>2015.000000</td>\n",
              "      <td>12.000000</td>\n",
              "      <td>31.000000</td>\n",
              "      <td>6.000000</td>\n",
              "      <td>23.000000</td>\n",
              "      <td>59.000000</td>\n",
              "      <td>127.509261</td>\n",
              "    </tr>\n",
              "  </tbody>\n",
              "</table>\n",
              "</div>"
            ],
            "text/plain": [
              "        fare_amount  pickup_longitude  ...        Minute      distance\n",
              "count  15422.000000      15422.000000  ...  15422.000000  15422.000000\n",
              "mean      11.372172        -73.910871  ...     29.670600      3.426391\n",
              "std       10.674735          2.679518  ...     17.302001      4.366674\n",
              "min        1.140000        -74.438233  ...      0.000000      0.000111\n",
              "25%        6.000000        -73.992382  ...     15.000000      1.277967\n",
              "50%        8.500000        -73.982077  ...     30.000000      2.190922\n",
              "75%       12.500000        -73.968158  ...     45.000000      3.934563\n",
              "max      453.000000         40.766125  ...     59.000000    127.509261\n",
              "\n",
              "[8 rows x 13 columns]"
            ]
          },
          "metadata": {
            "tags": []
          },
          "execution_count": 78
        }
      ]
    }
  ]
}