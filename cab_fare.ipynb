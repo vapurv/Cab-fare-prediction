{
  "nbformat": 4,
  "nbformat_minor": 0,
  "metadata": {
    "colab": {
      "name": "cab_fare",
      "provenance": [],
      "authorship_tag": "ABX9TyOG84z5JR94k/FabStHz4LL",
      "include_colab_link": true
    },
    "kernelspec": {
      "name": "python3",
      "display_name": "Python 3"
    }
  },
  "cells": [
    {
      "cell_type": "markdown",
      "metadata": {
        "id": "view-in-github",
        "colab_type": "text"
      },
      "source": [
        "<a href=\"https://colab.research.google.com/github/vapurv/Cab-fare-prediction/blob/master/cab_fare.ipynb\" target=\"_parent\"><img src=\"https://colab.research.google.com/assets/colab-badge.svg\" alt=\"Open In Colab\"/></a>"
      ]
    },
    {
      "cell_type": "code",
      "metadata": {
        "id": "uLsGIiqxCi2k",
        "colab_type": "code",
        "colab": {}
      },
      "source": [
        "#By Apurv verma\n",
        "import os \n",
        "import tensorflow as tf\n",
        "import tensorboardcolab as tbd\n",
        "import datetime\n",
        "import filecmp\n",
        "import pandas as pd \n",
        "import numpy as np  \n",
        "import matplotlib.pyplot as plt\n",
        "import seaborn as sns \n",
        "from collections import Counter \n",
        "from sklearn.tree import DecisionTreeRegressor\n",
        "from sklearn.ensemble import RandomForestRegressor\n",
        "from sklearn.ensemble import GradientBoostingRegressor\n",
        "from sklearn.linear_model import LinearRegression #ML algorithm\n",
        "from sklearn.model_selection import train_test_split #splitting dataset\n",
        "from sklearn.metrics import mean_squared_error\n",
        "from sklearn.metrics import r2_score\n",
        "from pprint import pprint\n",
        "from sklearn.model_selection import GridSearchCV    \n",
        "\n",
        "\n",
        "%matplotlib inline"
      ],
      "execution_count": 5,
      "outputs": []
    },
    {
      "cell_type": "code",
      "metadata": {
        "id": "YPI4JQD1F2TR",
        "colab_type": "code",
        "colab": {}
      },
      "source": [
        "train  = pd.read_csv(\"train_cab.csv\",na_values={\"pickup_datetime\":\"43\"})"
      ],
      "execution_count": 6,
      "outputs": []
    },
    {
      "cell_type": "code",
      "metadata": {
        "id": "TEWMulbTGBPL",
        "colab_type": "code",
        "colab": {
          "base_uri": "https://localhost:8080/",
          "height": 609
        },
        "outputId": "80a315b4-1e01-43a8-85fb-7954cec09df2"
      },
      "source": [
        "train"
      ],
      "execution_count": 7,
      "outputs": [
        {
          "output_type": "execute_result",
          "data": {
            "text/html": [
              "<div>\n",
              "<style scoped>\n",
              "    .dataframe tbody tr th:only-of-type {\n",
              "        vertical-align: middle;\n",
              "    }\n",
              "\n",
              "    .dataframe tbody tr th {\n",
              "        vertical-align: top;\n",
              "    }\n",
              "\n",
              "    .dataframe thead th {\n",
              "        text-align: right;\n",
              "    }\n",
              "</style>\n",
              "<table border=\"1\" class=\"dataframe\">\n",
              "  <thead>\n",
              "    <tr style=\"text-align: right;\">\n",
              "      <th></th>\n",
              "      <th>fare_amount</th>\n",
              "      <th>pickup_datetime</th>\n",
              "      <th>pickup_longitude</th>\n",
              "      <th>pickup_latitude</th>\n",
              "      <th>dropoff_longitude</th>\n",
              "      <th>dropoff_latitude</th>\n",
              "      <th>passenger_count</th>\n",
              "    </tr>\n",
              "  </thead>\n",
              "  <tbody>\n",
              "    <tr>\n",
              "      <th>0</th>\n",
              "      <td>4.5</td>\n",
              "      <td>2009-06-15 17:26:21 UTC</td>\n",
              "      <td>-73.844311</td>\n",
              "      <td>40.721319</td>\n",
              "      <td>-73.841610</td>\n",
              "      <td>40.712278</td>\n",
              "      <td>1.0</td>\n",
              "    </tr>\n",
              "    <tr>\n",
              "      <th>1</th>\n",
              "      <td>16.9</td>\n",
              "      <td>2010-01-05 16:52:16 UTC</td>\n",
              "      <td>-74.016048</td>\n",
              "      <td>40.711303</td>\n",
              "      <td>-73.979268</td>\n",
              "      <td>40.782004</td>\n",
              "      <td>1.0</td>\n",
              "    </tr>\n",
              "    <tr>\n",
              "      <th>2</th>\n",
              "      <td>5.7</td>\n",
              "      <td>2011-08-18 00:35:00 UTC</td>\n",
              "      <td>-73.982738</td>\n",
              "      <td>40.761270</td>\n",
              "      <td>-73.991242</td>\n",
              "      <td>40.750562</td>\n",
              "      <td>2.0</td>\n",
              "    </tr>\n",
              "    <tr>\n",
              "      <th>3</th>\n",
              "      <td>7.7</td>\n",
              "      <td>2012-04-21 04:30:42 UTC</td>\n",
              "      <td>-73.987130</td>\n",
              "      <td>40.733143</td>\n",
              "      <td>-73.991567</td>\n",
              "      <td>40.758092</td>\n",
              "      <td>1.0</td>\n",
              "    </tr>\n",
              "    <tr>\n",
              "      <th>4</th>\n",
              "      <td>5.3</td>\n",
              "      <td>2010-03-09 07:51:00 UTC</td>\n",
              "      <td>-73.968095</td>\n",
              "      <td>40.768008</td>\n",
              "      <td>-73.956655</td>\n",
              "      <td>40.783762</td>\n",
              "      <td>1.0</td>\n",
              "    </tr>\n",
              "    <tr>\n",
              "      <th>...</th>\n",
              "      <td>...</td>\n",
              "      <td>...</td>\n",
              "      <td>...</td>\n",
              "      <td>...</td>\n",
              "      <td>...</td>\n",
              "      <td>...</td>\n",
              "      <td>...</td>\n",
              "    </tr>\n",
              "    <tr>\n",
              "      <th>16062</th>\n",
              "      <td>6.5</td>\n",
              "      <td>2014-12-12 07:41:00 UTC</td>\n",
              "      <td>-74.008820</td>\n",
              "      <td>40.718757</td>\n",
              "      <td>-73.998865</td>\n",
              "      <td>40.719987</td>\n",
              "      <td>1.0</td>\n",
              "    </tr>\n",
              "    <tr>\n",
              "      <th>16063</th>\n",
              "      <td>16.1</td>\n",
              "      <td>2009-07-13 07:58:00 UTC</td>\n",
              "      <td>-73.981310</td>\n",
              "      <td>40.781695</td>\n",
              "      <td>-74.014392</td>\n",
              "      <td>40.715527</td>\n",
              "      <td>2.0</td>\n",
              "    </tr>\n",
              "    <tr>\n",
              "      <th>16064</th>\n",
              "      <td>8.5</td>\n",
              "      <td>2009-11-11 11:19:07 UTC</td>\n",
              "      <td>-73.972507</td>\n",
              "      <td>40.753417</td>\n",
              "      <td>-73.979577</td>\n",
              "      <td>40.765495</td>\n",
              "      <td>1.0</td>\n",
              "    </tr>\n",
              "    <tr>\n",
              "      <th>16065</th>\n",
              "      <td>8.1</td>\n",
              "      <td>2010-05-11 23:53:00 UTC</td>\n",
              "      <td>-73.957027</td>\n",
              "      <td>40.765945</td>\n",
              "      <td>-73.981983</td>\n",
              "      <td>40.779560</td>\n",
              "      <td>1.0</td>\n",
              "    </tr>\n",
              "    <tr>\n",
              "      <th>16066</th>\n",
              "      <td>8.5</td>\n",
              "      <td>2011-12-14 06:24:33 UTC</td>\n",
              "      <td>-74.002111</td>\n",
              "      <td>40.729755</td>\n",
              "      <td>-73.983877</td>\n",
              "      <td>40.761975</td>\n",
              "      <td>NaN</td>\n",
              "    </tr>\n",
              "  </tbody>\n",
              "</table>\n",
              "<p>16067 rows × 7 columns</p>\n",
              "</div>"
            ],
            "text/plain": [
              "      fare_amount          pickup_datetime  ...  dropoff_latitude  passenger_count\n",
              "0             4.5  2009-06-15 17:26:21 UTC  ...         40.712278              1.0\n",
              "1            16.9  2010-01-05 16:52:16 UTC  ...         40.782004              1.0\n",
              "2             5.7  2011-08-18 00:35:00 UTC  ...         40.750562              2.0\n",
              "3             7.7  2012-04-21 04:30:42 UTC  ...         40.758092              1.0\n",
              "4             5.3  2010-03-09 07:51:00 UTC  ...         40.783762              1.0\n",
              "...           ...                      ...  ...               ...              ...\n",
              "16062         6.5  2014-12-12 07:41:00 UTC  ...         40.719987              1.0\n",
              "16063        16.1  2009-07-13 07:58:00 UTC  ...         40.715527              2.0\n",
              "16064         8.5  2009-11-11 11:19:07 UTC  ...         40.765495              1.0\n",
              "16065         8.1  2010-05-11 23:53:00 UTC  ...         40.779560              1.0\n",
              "16066         8.5  2011-12-14 06:24:33 UTC  ...         40.761975              NaN\n",
              "\n",
              "[16067 rows x 7 columns]"
            ]
          },
          "metadata": {
            "tags": []
          },
          "execution_count": 7
        }
      ]
    },
    {
      "cell_type": "code",
      "metadata": {
        "id": "8pNte-26GHI5",
        "colab_type": "code",
        "colab": {}
      },
      "source": [
        "test_data = pd.read_csv('test.csv')"
      ],
      "execution_count": 8,
      "outputs": []
    },
    {
      "cell_type": "code",
      "metadata": {
        "id": "aEUneqq3GbRM",
        "colab_type": "code",
        "colab": {
          "base_uri": "https://localhost:8080/",
          "height": 589
        },
        "outputId": "1e3d40ee-e32c-4902-c786-685726b4f6e3"
      },
      "source": [
        "test_data\n"
      ],
      "execution_count": 9,
      "outputs": [
        {
          "output_type": "execute_result",
          "data": {
            "text/html": [
              "<div>\n",
              "<style scoped>\n",
              "    .dataframe tbody tr th:only-of-type {\n",
              "        vertical-align: middle;\n",
              "    }\n",
              "\n",
              "    .dataframe tbody tr th {\n",
              "        vertical-align: top;\n",
              "    }\n",
              "\n",
              "    .dataframe thead th {\n",
              "        text-align: right;\n",
              "    }\n",
              "</style>\n",
              "<table border=\"1\" class=\"dataframe\">\n",
              "  <thead>\n",
              "    <tr style=\"text-align: right;\">\n",
              "      <th></th>\n",
              "      <th>pickup_datetime</th>\n",
              "      <th>pickup_longitude</th>\n",
              "      <th>pickup_latitude</th>\n",
              "      <th>dropoff_longitude</th>\n",
              "      <th>dropoff_latitude</th>\n",
              "      <th>passenger_count</th>\n",
              "    </tr>\n",
              "  </thead>\n",
              "  <tbody>\n",
              "    <tr>\n",
              "      <th>0</th>\n",
              "      <td>2015-01-27 13:08:24 UTC</td>\n",
              "      <td>-73.973320</td>\n",
              "      <td>40.763805</td>\n",
              "      <td>-73.981430</td>\n",
              "      <td>40.743835</td>\n",
              "      <td>1</td>\n",
              "    </tr>\n",
              "    <tr>\n",
              "      <th>1</th>\n",
              "      <td>2015-01-27 13:08:24 UTC</td>\n",
              "      <td>-73.986862</td>\n",
              "      <td>40.719383</td>\n",
              "      <td>-73.998886</td>\n",
              "      <td>40.739201</td>\n",
              "      <td>1</td>\n",
              "    </tr>\n",
              "    <tr>\n",
              "      <th>2</th>\n",
              "      <td>2011-10-08 11:53:44 UTC</td>\n",
              "      <td>-73.982524</td>\n",
              "      <td>40.751260</td>\n",
              "      <td>-73.979654</td>\n",
              "      <td>40.746139</td>\n",
              "      <td>1</td>\n",
              "    </tr>\n",
              "    <tr>\n",
              "      <th>3</th>\n",
              "      <td>2012-12-01 21:12:12 UTC</td>\n",
              "      <td>-73.981160</td>\n",
              "      <td>40.767807</td>\n",
              "      <td>-73.990448</td>\n",
              "      <td>40.751635</td>\n",
              "      <td>1</td>\n",
              "    </tr>\n",
              "    <tr>\n",
              "      <th>4</th>\n",
              "      <td>2012-12-01 21:12:12 UTC</td>\n",
              "      <td>-73.966046</td>\n",
              "      <td>40.789775</td>\n",
              "      <td>-73.988565</td>\n",
              "      <td>40.744427</td>\n",
              "      <td>1</td>\n",
              "    </tr>\n",
              "    <tr>\n",
              "      <th>...</th>\n",
              "      <td>...</td>\n",
              "      <td>...</td>\n",
              "      <td>...</td>\n",
              "      <td>...</td>\n",
              "      <td>...</td>\n",
              "      <td>...</td>\n",
              "    </tr>\n",
              "    <tr>\n",
              "      <th>9909</th>\n",
              "      <td>2015-05-10 12:37:51 UTC</td>\n",
              "      <td>-73.968124</td>\n",
              "      <td>40.796997</td>\n",
              "      <td>-73.955643</td>\n",
              "      <td>40.780388</td>\n",
              "      <td>6</td>\n",
              "    </tr>\n",
              "    <tr>\n",
              "      <th>9910</th>\n",
              "      <td>2015-01-12 17:05:51 UTC</td>\n",
              "      <td>-73.945511</td>\n",
              "      <td>40.803600</td>\n",
              "      <td>-73.960213</td>\n",
              "      <td>40.776371</td>\n",
              "      <td>6</td>\n",
              "    </tr>\n",
              "    <tr>\n",
              "      <th>9911</th>\n",
              "      <td>2015-04-19 20:44:15 UTC</td>\n",
              "      <td>-73.991600</td>\n",
              "      <td>40.726608</td>\n",
              "      <td>-73.789742</td>\n",
              "      <td>40.647011</td>\n",
              "      <td>6</td>\n",
              "    </tr>\n",
              "    <tr>\n",
              "      <th>9912</th>\n",
              "      <td>2015-01-31 01:05:19 UTC</td>\n",
              "      <td>-73.985573</td>\n",
              "      <td>40.735432</td>\n",
              "      <td>-73.939178</td>\n",
              "      <td>40.801731</td>\n",
              "      <td>6</td>\n",
              "    </tr>\n",
              "    <tr>\n",
              "      <th>9913</th>\n",
              "      <td>2015-01-18 14:06:23 UTC</td>\n",
              "      <td>-73.988022</td>\n",
              "      <td>40.754070</td>\n",
              "      <td>-74.000282</td>\n",
              "      <td>40.759220</td>\n",
              "      <td>6</td>\n",
              "    </tr>\n",
              "  </tbody>\n",
              "</table>\n",
              "<p>9914 rows × 6 columns</p>\n",
              "</div>"
            ],
            "text/plain": [
              "              pickup_datetime  ...  passenger_count\n",
              "0     2015-01-27 13:08:24 UTC  ...                1\n",
              "1     2015-01-27 13:08:24 UTC  ...                1\n",
              "2     2011-10-08 11:53:44 UTC  ...                1\n",
              "3     2012-12-01 21:12:12 UTC  ...                1\n",
              "4     2012-12-01 21:12:12 UTC  ...                1\n",
              "...                       ...  ...              ...\n",
              "9909  2015-05-10 12:37:51 UTC  ...                6\n",
              "9910  2015-01-12 17:05:51 UTC  ...                6\n",
              "9911  2015-04-19 20:44:15 UTC  ...                6\n",
              "9912  2015-01-31 01:05:19 UTC  ...                6\n",
              "9913  2015-01-18 14:06:23 UTC  ...                6\n",
              "\n",
              "[9914 rows x 6 columns]"
            ]
          },
          "metadata": {
            "tags": []
          },
          "execution_count": 9
        }
      ]
    },
    {
      "cell_type": "markdown",
      "metadata": {
        "id": "uiBkAtDk2cGW",
        "colab_type": "text"
      },
      "source": [
        "*Head Returns the first n rows.*"
      ]
    },
    {
      "cell_type": "code",
      "metadata": {
        "id": "27lFfEfgGhSa",
        "colab_type": "code",
        "colab": {
          "base_uri": "https://localhost:8080/",
          "height": 202
        },
        "outputId": "60116b9d-d7a0-4ea1-c650-f64cf26e49f9"
      },
      "source": [
        "train.head(5) "
      ],
      "execution_count": 95,
      "outputs": [
        {
          "output_type": "execute_result",
          "data": {
            "text/html": [
              "<div>\n",
              "<style scoped>\n",
              "    .dataframe tbody tr th:only-of-type {\n",
              "        vertical-align: middle;\n",
              "    }\n",
              "\n",
              "    .dataframe tbody tr th {\n",
              "        vertical-align: top;\n",
              "    }\n",
              "\n",
              "    .dataframe thead th {\n",
              "        text-align: right;\n",
              "    }\n",
              "</style>\n",
              "<table border=\"1\" class=\"dataframe\">\n",
              "  <thead>\n",
              "    <tr style=\"text-align: right;\">\n",
              "      <th></th>\n",
              "      <th>fare_amount</th>\n",
              "      <th>passenger_count</th>\n",
              "      <th>year</th>\n",
              "      <th>Month</th>\n",
              "      <th>Date</th>\n",
              "      <th>Day</th>\n",
              "      <th>Hour</th>\n",
              "      <th>distance</th>\n",
              "    </tr>\n",
              "  </thead>\n",
              "  <tbody>\n",
              "    <tr>\n",
              "      <th>0</th>\n",
              "      <td>4.5</td>\n",
              "      <td>1</td>\n",
              "      <td>2009</td>\n",
              "      <td>6</td>\n",
              "      <td>15</td>\n",
              "      <td>0</td>\n",
              "      <td>17</td>\n",
              "      <td>1.030764</td>\n",
              "    </tr>\n",
              "    <tr>\n",
              "      <th>1</th>\n",
              "      <td>16.9</td>\n",
              "      <td>1</td>\n",
              "      <td>2010</td>\n",
              "      <td>1</td>\n",
              "      <td>5</td>\n",
              "      <td>1</td>\n",
              "      <td>16</td>\n",
              "      <td>8.450134</td>\n",
              "    </tr>\n",
              "    <tr>\n",
              "      <th>2</th>\n",
              "      <td>5.7</td>\n",
              "      <td>2</td>\n",
              "      <td>2011</td>\n",
              "      <td>8</td>\n",
              "      <td>18</td>\n",
              "      <td>3</td>\n",
              "      <td>0</td>\n",
              "      <td>1.389525</td>\n",
              "    </tr>\n",
              "    <tr>\n",
              "      <th>3</th>\n",
              "      <td>7.7</td>\n",
              "      <td>1</td>\n",
              "      <td>2012</td>\n",
              "      <td>4</td>\n",
              "      <td>21</td>\n",
              "      <td>5</td>\n",
              "      <td>4</td>\n",
              "      <td>2.799270</td>\n",
              "    </tr>\n",
              "    <tr>\n",
              "      <th>4</th>\n",
              "      <td>5.3</td>\n",
              "      <td>1</td>\n",
              "      <td>2010</td>\n",
              "      <td>3</td>\n",
              "      <td>9</td>\n",
              "      <td>1</td>\n",
              "      <td>7</td>\n",
              "      <td>1.999157</td>\n",
              "    </tr>\n",
              "  </tbody>\n",
              "</table>\n",
              "</div>"
            ],
            "text/plain": [
              "   fare_amount  passenger_count  year  Month  Date  Day  Hour  distance\n",
              "0          4.5                1  2009      6    15    0    17  1.030764\n",
              "1         16.9                1  2010      1     5    1    16  8.450134\n",
              "2          5.7                2  2011      8    18    3     0  1.389525\n",
              "3          7.7                1  2012      4    21    5     4  2.799270\n",
              "4          5.3                1  2010      3     9    1     7  1.999157"
            ]
          },
          "metadata": {
            "tags": []
          },
          "execution_count": 95
        }
      ]
    },
    {
      "cell_type": "markdown",
      "metadata": {
        "id": "Zy4PMzZ_2j6b",
        "colab_type": "text"
      },
      "source": [
        "This will return first five rows of the test data set."
      ]
    },
    {
      "cell_type": "code",
      "metadata": {
        "id": "GcS6IPZqG8I0",
        "colab_type": "code",
        "colab": {
          "base_uri": "https://localhost:8080/",
          "height": 202
        },
        "outputId": "b4607f8b-f89a-48ba-cae2-7cf4a774eb1c"
      },
      "source": [
        "test_data.head(5) "
      ],
      "execution_count": 94,
      "outputs": [
        {
          "output_type": "execute_result",
          "data": {
            "text/html": [
              "<div>\n",
              "<style scoped>\n",
              "    .dataframe tbody tr th:only-of-type {\n",
              "        vertical-align: middle;\n",
              "    }\n",
              "\n",
              "    .dataframe tbody tr th {\n",
              "        vertical-align: top;\n",
              "    }\n",
              "\n",
              "    .dataframe thead th {\n",
              "        text-align: right;\n",
              "    }\n",
              "</style>\n",
              "<table border=\"1\" class=\"dataframe\">\n",
              "  <thead>\n",
              "    <tr style=\"text-align: right;\">\n",
              "      <th></th>\n",
              "      <th>passenger_count</th>\n",
              "      <th>year</th>\n",
              "      <th>date</th>\n",
              "      <th>month</th>\n",
              "      <th>day</th>\n",
              "      <th>hour</th>\n",
              "      <th>distance</th>\n",
              "      <th>predicted fare</th>\n",
              "    </tr>\n",
              "  </thead>\n",
              "  <tbody>\n",
              "    <tr>\n",
              "      <th>0</th>\n",
              "      <td>1</td>\n",
              "      <td>2015</td>\n",
              "      <td>2015-01-27</td>\n",
              "      <td>1</td>\n",
              "      <td>1</td>\n",
              "      <td>13</td>\n",
              "      <td>2.323259</td>\n",
              "      <td>9.030922</td>\n",
              "    </tr>\n",
              "    <tr>\n",
              "      <th>1</th>\n",
              "      <td>1</td>\n",
              "      <td>2015</td>\n",
              "      <td>2015-01-27</td>\n",
              "      <td>1</td>\n",
              "      <td>1</td>\n",
              "      <td>13</td>\n",
              "      <td>2.425353</td>\n",
              "      <td>17.752611</td>\n",
              "    </tr>\n",
              "    <tr>\n",
              "      <th>2</th>\n",
              "      <td>1</td>\n",
              "      <td>2011</td>\n",
              "      <td>2011-10-08</td>\n",
              "      <td>10</td>\n",
              "      <td>5</td>\n",
              "      <td>11</td>\n",
              "      <td>0.618628</td>\n",
              "      <td>6.344608</td>\n",
              "    </tr>\n",
              "    <tr>\n",
              "      <th>3</th>\n",
              "      <td>1</td>\n",
              "      <td>2012</td>\n",
              "      <td>2012-12-01</td>\n",
              "      <td>12</td>\n",
              "      <td>5</td>\n",
              "      <td>21</td>\n",
              "      <td>1.961033</td>\n",
              "      <td>7.431251</td>\n",
              "    </tr>\n",
              "    <tr>\n",
              "      <th>4</th>\n",
              "      <td>1</td>\n",
              "      <td>2012</td>\n",
              "      <td>2012-12-01</td>\n",
              "      <td>12</td>\n",
              "      <td>5</td>\n",
              "      <td>21</td>\n",
              "      <td>5.387301</td>\n",
              "      <td>14.611386</td>\n",
              "    </tr>\n",
              "  </tbody>\n",
              "</table>\n",
              "</div>"
            ],
            "text/plain": [
              "   passenger_count  year       date   ...  hour  distance  predicted fare \n",
              "0                1  2015  2015-01-27  ...    13  2.323259         9.030922\n",
              "1                1  2015  2015-01-27  ...    13  2.425353        17.752611\n",
              "2                1  2011  2011-10-08  ...    11  0.618628         6.344608\n",
              "3                1  2012  2012-12-01  ...    21  1.961033         7.431251\n",
              "4                1  2012  2012-12-01  ...    21  5.387301        14.611386\n",
              "\n",
              "[5 rows x 8 columns]"
            ]
          },
          "metadata": {
            "tags": []
          },
          "execution_count": 94
        }
      ]
    },
    {
      "cell_type": "markdown",
      "metadata": {
        "id": "hE7i_noE2rrW",
        "colab_type": "text"
      },
      "source": [
        "For the better understanding of data,we will check which type of data are present in the training and test data set.\n"
      ]
    },
    {
      "cell_type": "code",
      "metadata": {
        "id": "YjqDoUvTHSIY",
        "colab_type": "code",
        "colab": {
          "base_uri": "https://localhost:8080/",
          "height": 156
        },
        "outputId": "432677ee-4c2a-41f8-8555-4a0ca4b31ec4"
      },
      "source": [
        "train.dtypes"
      ],
      "execution_count": 12,
      "outputs": [
        {
          "output_type": "execute_result",
          "data": {
            "text/plain": [
              "fare_amount           object\n",
              "pickup_datetime       object\n",
              "pickup_longitude     float64\n",
              "pickup_latitude      float64\n",
              "dropoff_longitude    float64\n",
              "dropoff_latitude     float64\n",
              "passenger_count      float64\n",
              "dtype: object"
            ]
          },
          "metadata": {
            "tags": []
          },
          "execution_count": 12
        }
      ]
    },
    {
      "cell_type": "markdown",
      "metadata": {
        "id": "2PO35MxT2ydL",
        "colab_type": "text"
      },
      "source": [
        "Checking the type of data in test set.\n"
      ]
    },
    {
      "cell_type": "code",
      "metadata": {
        "id": "k01Oqcg7HtTi",
        "colab_type": "code",
        "colab": {
          "base_uri": "https://localhost:8080/",
          "height": 139
        },
        "outputId": "a8734fbd-d675-46e4-90cd-a39bdd05e474"
      },
      "source": [
        "test_data.dtypes"
      ],
      "execution_count": 13,
      "outputs": [
        {
          "output_type": "execute_result",
          "data": {
            "text/plain": [
              "pickup_datetime       object\n",
              "pickup_longitude     float64\n",
              "pickup_latitude      float64\n",
              "dropoff_longitude    float64\n",
              "dropoff_latitude     float64\n",
              "passenger_count        int64\n",
              "dtype: object"
            ]
          },
          "metadata": {
            "tags": []
          },
          "execution_count": 13
        }
      ]
    },
    {
      "cell_type": "markdown",
      "metadata": {
        "id": "cN6-FPVk21-3",
        "colab_type": "text"
      },
      "source": [
        "*Checking the number of rows and column in the training data set.*"
      ]
    },
    {
      "cell_type": "code",
      "metadata": {
        "id": "bSEzNPVcH7h0",
        "colab_type": "code",
        "colab": {
          "base_uri": "https://localhost:8080/",
          "height": 52
        },
        "outputId": "d9ceb36f-0591-4b17-e56b-cb2a660766e1"
      },
      "source": [
        "\n",
        "print('\\t','Number of rows','','Number of colummns')\n",
        "x,y = train.shape\n",
        "print('\\t',x,'      \\t',y)"
      ],
      "execution_count": 14,
      "outputs": [
        {
          "output_type": "stream",
          "text": [
            "\t Number of rows  Number of colummns\n",
            "\t 16067       \t 7\n"
          ],
          "name": "stdout"
        }
      ]
    },
    {
      "cell_type": "markdown",
      "metadata": {
        "id": "4Oo2eYrfVxwx",
        "colab_type": "text"
      },
      "source": [
        "*Checking the number of rows and column in the test data set.*"
      ]
    },
    {
      "cell_type": "code",
      "metadata": {
        "id": "Sq7Je98-IyUW",
        "colab_type": "code",
        "colab": {
          "base_uri": "https://localhost:8080/",
          "height": 52
        },
        "outputId": "f8bfca98-2b2c-4701-f68e-801580d43077"
      },
      "source": [
        "\n",
        "print('\\t','Number of rows','','Number of colummns')\n",
        "x,y = test_data.shape\n",
        "print('\\t',x,'      \\t',y)"
      ],
      "execution_count": 15,
      "outputs": [
        {
          "output_type": "stream",
          "text": [
            "\t Number of rows  Number of colummns\n",
            "\t 9914       \t 6\n"
          ],
          "name": "stdout"
        }
      ]
    },
    {
      "cell_type": "markdown",
      "metadata": {
        "id": "Puv4XchGYn-c",
        "colab_type": "text"
      },
      "source": [
        "*Descrbing the data set:Describe(): The describe() method is used for calculating some statistical data like percentile, mean and std of the numerical values of the Series or DataFrame. It analyzes both numeric and object series and also the DataFrame column sets of mixed data types.*"
      ]
    },
    {
      "cell_type": "code",
      "metadata": {
        "id": "2vKe1R0zKhx4",
        "colab_type": "code",
        "colab": {
          "base_uri": "https://localhost:8080/",
          "height": 294
        },
        "outputId": "0446e425-edbc-4150-e668-cd197e4cfbab"
      },
      "source": [
        "\n",
        "test_data.describe()"
      ],
      "execution_count": 16,
      "outputs": [
        {
          "output_type": "execute_result",
          "data": {
            "text/html": [
              "<div>\n",
              "<style scoped>\n",
              "    .dataframe tbody tr th:only-of-type {\n",
              "        vertical-align: middle;\n",
              "    }\n",
              "\n",
              "    .dataframe tbody tr th {\n",
              "        vertical-align: top;\n",
              "    }\n",
              "\n",
              "    .dataframe thead th {\n",
              "        text-align: right;\n",
              "    }\n",
              "</style>\n",
              "<table border=\"1\" class=\"dataframe\">\n",
              "  <thead>\n",
              "    <tr style=\"text-align: right;\">\n",
              "      <th></th>\n",
              "      <th>pickup_longitude</th>\n",
              "      <th>pickup_latitude</th>\n",
              "      <th>dropoff_longitude</th>\n",
              "      <th>dropoff_latitude</th>\n",
              "      <th>passenger_count</th>\n",
              "    </tr>\n",
              "  </thead>\n",
              "  <tbody>\n",
              "    <tr>\n",
              "      <th>count</th>\n",
              "      <td>9914.000000</td>\n",
              "      <td>9914.000000</td>\n",
              "      <td>9914.000000</td>\n",
              "      <td>9914.000000</td>\n",
              "      <td>9914.000000</td>\n",
              "    </tr>\n",
              "    <tr>\n",
              "      <th>mean</th>\n",
              "      <td>-73.974722</td>\n",
              "      <td>40.751041</td>\n",
              "      <td>-73.973657</td>\n",
              "      <td>40.751743</td>\n",
              "      <td>1.671273</td>\n",
              "    </tr>\n",
              "    <tr>\n",
              "      <th>std</th>\n",
              "      <td>0.042774</td>\n",
              "      <td>0.033541</td>\n",
              "      <td>0.039072</td>\n",
              "      <td>0.035435</td>\n",
              "      <td>1.278747</td>\n",
              "    </tr>\n",
              "    <tr>\n",
              "      <th>min</th>\n",
              "      <td>-74.252193</td>\n",
              "      <td>40.573143</td>\n",
              "      <td>-74.263242</td>\n",
              "      <td>40.568973</td>\n",
              "      <td>1.000000</td>\n",
              "    </tr>\n",
              "    <tr>\n",
              "      <th>25%</th>\n",
              "      <td>-73.992501</td>\n",
              "      <td>40.736125</td>\n",
              "      <td>-73.991247</td>\n",
              "      <td>40.735254</td>\n",
              "      <td>1.000000</td>\n",
              "    </tr>\n",
              "    <tr>\n",
              "      <th>50%</th>\n",
              "      <td>-73.982326</td>\n",
              "      <td>40.753051</td>\n",
              "      <td>-73.980015</td>\n",
              "      <td>40.754065</td>\n",
              "      <td>1.000000</td>\n",
              "    </tr>\n",
              "    <tr>\n",
              "      <th>75%</th>\n",
              "      <td>-73.968013</td>\n",
              "      <td>40.767113</td>\n",
              "      <td>-73.964059</td>\n",
              "      <td>40.768757</td>\n",
              "      <td>2.000000</td>\n",
              "    </tr>\n",
              "    <tr>\n",
              "      <th>max</th>\n",
              "      <td>-72.986532</td>\n",
              "      <td>41.709555</td>\n",
              "      <td>-72.990963</td>\n",
              "      <td>41.696683</td>\n",
              "      <td>6.000000</td>\n",
              "    </tr>\n",
              "  </tbody>\n",
              "</table>\n",
              "</div>"
            ],
            "text/plain": [
              "       pickup_longitude  pickup_latitude  ...  dropoff_latitude  passenger_count\n",
              "count       9914.000000      9914.000000  ...       9914.000000      9914.000000\n",
              "mean         -73.974722        40.751041  ...         40.751743         1.671273\n",
              "std            0.042774         0.033541  ...          0.035435         1.278747\n",
              "min          -74.252193        40.573143  ...         40.568973         1.000000\n",
              "25%          -73.992501        40.736125  ...         40.735254         1.000000\n",
              "50%          -73.982326        40.753051  ...         40.754065         1.000000\n",
              "75%          -73.968013        40.767113  ...         40.768757         2.000000\n",
              "max          -72.986532        41.709555  ...         41.696683         6.000000\n",
              "\n",
              "[8 rows x 5 columns]"
            ]
          },
          "metadata": {
            "tags": []
          },
          "execution_count": 16
        }
      ]
    },
    {
      "cell_type": "markdown",
      "metadata": {
        "id": "5L9fL2beY3ZI",
        "colab_type": "text"
      },
      "source": [
        "*#From the description obatined -values are found are percentile at 25%,50% and 75%.Mean std and minimum are also obtained.*"
      ]
    },
    {
      "cell_type": "code",
      "metadata": {
        "id": "3JjDvt2jL6Ss",
        "colab_type": "code",
        "colab": {
          "base_uri": "https://localhost:8080/",
          "height": 294
        },
        "outputId": "c15cb2b2-6f12-4fec-a3a2-712fdf3020b5"
      },
      "source": [
        "#Descrbing the data set:Describe(): The describe() method is used for calculating some statistical data like percentile, mean and std of the numerical values of the Series or DataFrame. It analyzes both numeric and object series and also the DataFrame column sets of mixed data types.\n",
        "train.describe()"
      ],
      "execution_count": 17,
      "outputs": [
        {
          "output_type": "execute_result",
          "data": {
            "text/html": [
              "<div>\n",
              "<style scoped>\n",
              "    .dataframe tbody tr th:only-of-type {\n",
              "        vertical-align: middle;\n",
              "    }\n",
              "\n",
              "    .dataframe tbody tr th {\n",
              "        vertical-align: top;\n",
              "    }\n",
              "\n",
              "    .dataframe thead th {\n",
              "        text-align: right;\n",
              "    }\n",
              "</style>\n",
              "<table border=\"1\" class=\"dataframe\">\n",
              "  <thead>\n",
              "    <tr style=\"text-align: right;\">\n",
              "      <th></th>\n",
              "      <th>pickup_longitude</th>\n",
              "      <th>pickup_latitude</th>\n",
              "      <th>dropoff_longitude</th>\n",
              "      <th>dropoff_latitude</th>\n",
              "      <th>passenger_count</th>\n",
              "    </tr>\n",
              "  </thead>\n",
              "  <tbody>\n",
              "    <tr>\n",
              "      <th>count</th>\n",
              "      <td>16067.000000</td>\n",
              "      <td>16067.000000</td>\n",
              "      <td>16067.000000</td>\n",
              "      <td>16067.000000</td>\n",
              "      <td>16012.000000</td>\n",
              "    </tr>\n",
              "    <tr>\n",
              "      <th>mean</th>\n",
              "      <td>-72.462787</td>\n",
              "      <td>39.914725</td>\n",
              "      <td>-72.462328</td>\n",
              "      <td>39.897906</td>\n",
              "      <td>2.625070</td>\n",
              "    </tr>\n",
              "    <tr>\n",
              "      <th>std</th>\n",
              "      <td>10.578384</td>\n",
              "      <td>6.826587</td>\n",
              "      <td>10.575062</td>\n",
              "      <td>6.187087</td>\n",
              "      <td>60.844122</td>\n",
              "    </tr>\n",
              "    <tr>\n",
              "      <th>min</th>\n",
              "      <td>-74.438233</td>\n",
              "      <td>-74.006893</td>\n",
              "      <td>-74.429332</td>\n",
              "      <td>-74.006377</td>\n",
              "      <td>0.000000</td>\n",
              "    </tr>\n",
              "    <tr>\n",
              "      <th>25%</th>\n",
              "      <td>-73.992156</td>\n",
              "      <td>40.734927</td>\n",
              "      <td>-73.991182</td>\n",
              "      <td>40.734651</td>\n",
              "      <td>1.000000</td>\n",
              "    </tr>\n",
              "    <tr>\n",
              "      <th>50%</th>\n",
              "      <td>-73.981698</td>\n",
              "      <td>40.752603</td>\n",
              "      <td>-73.980172</td>\n",
              "      <td>40.753567</td>\n",
              "      <td>1.000000</td>\n",
              "    </tr>\n",
              "    <tr>\n",
              "      <th>75%</th>\n",
              "      <td>-73.966838</td>\n",
              "      <td>40.767381</td>\n",
              "      <td>-73.963643</td>\n",
              "      <td>40.768013</td>\n",
              "      <td>2.000000</td>\n",
              "    </tr>\n",
              "    <tr>\n",
              "      <th>max</th>\n",
              "      <td>40.766125</td>\n",
              "      <td>401.083332</td>\n",
              "      <td>40.802437</td>\n",
              "      <td>41.366138</td>\n",
              "      <td>5345.000000</td>\n",
              "    </tr>\n",
              "  </tbody>\n",
              "</table>\n",
              "</div>"
            ],
            "text/plain": [
              "       pickup_longitude  pickup_latitude  ...  dropoff_latitude  passenger_count\n",
              "count      16067.000000     16067.000000  ...      16067.000000     16012.000000\n",
              "mean         -72.462787        39.914725  ...         39.897906         2.625070\n",
              "std           10.578384         6.826587  ...          6.187087        60.844122\n",
              "min          -74.438233       -74.006893  ...        -74.006377         0.000000\n",
              "25%          -73.992156        40.734927  ...         40.734651         1.000000\n",
              "50%          -73.981698        40.752603  ...         40.753567         1.000000\n",
              "75%          -73.966838        40.767381  ...         40.768013         2.000000\n",
              "max           40.766125       401.083332  ...         41.366138      5345.000000\n",
              "\n",
              "[8 rows x 5 columns]"
            ]
          },
          "metadata": {
            "tags": []
          },
          "execution_count": 17
        }
      ]
    },
    {
      "cell_type": "markdown",
      "metadata": {
        "id": "k7jcSNxXMRKx",
        "colab_type": "text"
      },
      "source": [
        "**Data Cleaning and taking care of missing value**"
      ]
    },
    {
      "cell_type": "markdown",
      "metadata": {
        "id": "jYpj4ylkNE11",
        "colab_type": "text"
      },
      "source": [
        "**On check of the types of data available in the data set we found that cab fare and pickup date time are of object data type.So it need to be converted to numeric**"
      ]
    },
    {
      "cell_type": "code",
      "metadata": {
        "id": "CYdK4gmNMiVe",
        "colab_type": "code",
        "colab": {}
      },
      "source": [
        "#Convert fare_amount from object to numeric\n",
        "train[\"fare_amount\"] = pd.to_numeric(train[\"fare_amount\"],errors = \"coerce\") \n",
        " "
      ],
      "execution_count": 18,
      "outputs": []
    },
    {
      "cell_type": "markdown",
      "metadata": {
        "id": "veMnUYKtOIqN",
        "colab_type": "text"
      },
      "source": [
        "**Checking the train data type again(fare amount must be convverted to numeric data type)**"
      ]
    },
    {
      "cell_type": "code",
      "metadata": {
        "id": "zHeFeYBzOS82",
        "colab_type": "code",
        "colab": {
          "base_uri": "https://localhost:8080/",
          "height": 156
        },
        "outputId": "c6e52458-8556-4ead-c63e-92a5bfac8ac0"
      },
      "source": [
        "train.dtypes\n"
      ],
      "execution_count": 19,
      "outputs": [
        {
          "output_type": "execute_result",
          "data": {
            "text/plain": [
              "fare_amount          float64\n",
              "pickup_datetime       object\n",
              "pickup_longitude     float64\n",
              "pickup_latitude      float64\n",
              "dropoff_longitude    float64\n",
              "dropoff_latitude     float64\n",
              "passenger_count      float64\n",
              "dtype: object"
            ]
          },
          "metadata": {
            "tags": []
          },
          "execution_count": 19
        }
      ]
    },
    {
      "cell_type": "code",
      "metadata": {
        "id": "PprKhT72O-nu",
        "colab_type": "code",
        "colab": {}
      },
      "source": [
        "#Converting date time to date_time format from object format\n",
        "train['pickup_datetime'] =  pd.to_datetime(train['pickup_datetime'], format='%Y-%m-%d %H:%M:%S UTC')"
      ],
      "execution_count": 20,
      "outputs": []
    },
    {
      "cell_type": "code",
      "metadata": {
        "id": "VfpafDmfPRbW",
        "colab_type": "code",
        "colab": {
          "base_uri": "https://localhost:8080/",
          "height": 156
        },
        "outputId": "34c099e4-8e0c-43dc-f650-b9268327720e"
      },
      "source": [
        "train.dtypes"
      ],
      "execution_count": 21,
      "outputs": [
        {
          "output_type": "execute_result",
          "data": {
            "text/plain": [
              "fare_amount                 float64\n",
              "pickup_datetime      datetime64[ns]\n",
              "pickup_longitude            float64\n",
              "pickup_latitude             float64\n",
              "dropoff_longitude           float64\n",
              "dropoff_latitude            float64\n",
              "passenger_count             float64\n",
              "dtype: object"
            ]
          },
          "metadata": {
            "tags": []
          },
          "execution_count": 21
        }
      ]
    },
    {
      "cell_type": "markdown",
      "metadata": {
        "id": "ljTHKIF3Pfvc",
        "colab_type": "text"
      },
      "source": [
        "*There are many rows which have values Na,So we will drop those rows*"
      ]
    },
    {
      "cell_type": "code",
      "metadata": {
        "id": "QQFvC-IiPdkS",
        "colab_type": "code",
        "colab": {
          "base_uri": "https://localhost:8080/",
          "height": 609
        },
        "outputId": "50363fe8-184a-47a0-be55-277faab56043"
      },
      "source": [
        "train.dropna(subset= [\"pickup_datetime\"])   #dropping NA values in datetime column"
      ],
      "execution_count": 22,
      "outputs": [
        {
          "output_type": "execute_result",
          "data": {
            "text/html": [
              "<div>\n",
              "<style scoped>\n",
              "    .dataframe tbody tr th:only-of-type {\n",
              "        vertical-align: middle;\n",
              "    }\n",
              "\n",
              "    .dataframe tbody tr th {\n",
              "        vertical-align: top;\n",
              "    }\n",
              "\n",
              "    .dataframe thead th {\n",
              "        text-align: right;\n",
              "    }\n",
              "</style>\n",
              "<table border=\"1\" class=\"dataframe\">\n",
              "  <thead>\n",
              "    <tr style=\"text-align: right;\">\n",
              "      <th></th>\n",
              "      <th>fare_amount</th>\n",
              "      <th>pickup_datetime</th>\n",
              "      <th>pickup_longitude</th>\n",
              "      <th>pickup_latitude</th>\n",
              "      <th>dropoff_longitude</th>\n",
              "      <th>dropoff_latitude</th>\n",
              "      <th>passenger_count</th>\n",
              "    </tr>\n",
              "  </thead>\n",
              "  <tbody>\n",
              "    <tr>\n",
              "      <th>0</th>\n",
              "      <td>4.5</td>\n",
              "      <td>2009-06-15 17:26:21</td>\n",
              "      <td>-73.844311</td>\n",
              "      <td>40.721319</td>\n",
              "      <td>-73.841610</td>\n",
              "      <td>40.712278</td>\n",
              "      <td>1.0</td>\n",
              "    </tr>\n",
              "    <tr>\n",
              "      <th>1</th>\n",
              "      <td>16.9</td>\n",
              "      <td>2010-01-05 16:52:16</td>\n",
              "      <td>-74.016048</td>\n",
              "      <td>40.711303</td>\n",
              "      <td>-73.979268</td>\n",
              "      <td>40.782004</td>\n",
              "      <td>1.0</td>\n",
              "    </tr>\n",
              "    <tr>\n",
              "      <th>2</th>\n",
              "      <td>5.7</td>\n",
              "      <td>2011-08-18 00:35:00</td>\n",
              "      <td>-73.982738</td>\n",
              "      <td>40.761270</td>\n",
              "      <td>-73.991242</td>\n",
              "      <td>40.750562</td>\n",
              "      <td>2.0</td>\n",
              "    </tr>\n",
              "    <tr>\n",
              "      <th>3</th>\n",
              "      <td>7.7</td>\n",
              "      <td>2012-04-21 04:30:42</td>\n",
              "      <td>-73.987130</td>\n",
              "      <td>40.733143</td>\n",
              "      <td>-73.991567</td>\n",
              "      <td>40.758092</td>\n",
              "      <td>1.0</td>\n",
              "    </tr>\n",
              "    <tr>\n",
              "      <th>4</th>\n",
              "      <td>5.3</td>\n",
              "      <td>2010-03-09 07:51:00</td>\n",
              "      <td>-73.968095</td>\n",
              "      <td>40.768008</td>\n",
              "      <td>-73.956655</td>\n",
              "      <td>40.783762</td>\n",
              "      <td>1.0</td>\n",
              "    </tr>\n",
              "    <tr>\n",
              "      <th>...</th>\n",
              "      <td>...</td>\n",
              "      <td>...</td>\n",
              "      <td>...</td>\n",
              "      <td>...</td>\n",
              "      <td>...</td>\n",
              "      <td>...</td>\n",
              "      <td>...</td>\n",
              "    </tr>\n",
              "    <tr>\n",
              "      <th>16062</th>\n",
              "      <td>6.5</td>\n",
              "      <td>2014-12-12 07:41:00</td>\n",
              "      <td>-74.008820</td>\n",
              "      <td>40.718757</td>\n",
              "      <td>-73.998865</td>\n",
              "      <td>40.719987</td>\n",
              "      <td>1.0</td>\n",
              "    </tr>\n",
              "    <tr>\n",
              "      <th>16063</th>\n",
              "      <td>16.1</td>\n",
              "      <td>2009-07-13 07:58:00</td>\n",
              "      <td>-73.981310</td>\n",
              "      <td>40.781695</td>\n",
              "      <td>-74.014392</td>\n",
              "      <td>40.715527</td>\n",
              "      <td>2.0</td>\n",
              "    </tr>\n",
              "    <tr>\n",
              "      <th>16064</th>\n",
              "      <td>8.5</td>\n",
              "      <td>2009-11-11 11:19:07</td>\n",
              "      <td>-73.972507</td>\n",
              "      <td>40.753417</td>\n",
              "      <td>-73.979577</td>\n",
              "      <td>40.765495</td>\n",
              "      <td>1.0</td>\n",
              "    </tr>\n",
              "    <tr>\n",
              "      <th>16065</th>\n",
              "      <td>8.1</td>\n",
              "      <td>2010-05-11 23:53:00</td>\n",
              "      <td>-73.957027</td>\n",
              "      <td>40.765945</td>\n",
              "      <td>-73.981983</td>\n",
              "      <td>40.779560</td>\n",
              "      <td>1.0</td>\n",
              "    </tr>\n",
              "    <tr>\n",
              "      <th>16066</th>\n",
              "      <td>8.5</td>\n",
              "      <td>2011-12-14 06:24:33</td>\n",
              "      <td>-74.002111</td>\n",
              "      <td>40.729755</td>\n",
              "      <td>-73.983877</td>\n",
              "      <td>40.761975</td>\n",
              "      <td>NaN</td>\n",
              "    </tr>\n",
              "  </tbody>\n",
              "</table>\n",
              "<p>16066 rows × 7 columns</p>\n",
              "</div>"
            ],
            "text/plain": [
              "       fare_amount     pickup_datetime  ...  dropoff_latitude  passenger_count\n",
              "0              4.5 2009-06-15 17:26:21  ...         40.712278              1.0\n",
              "1             16.9 2010-01-05 16:52:16  ...         40.782004              1.0\n",
              "2              5.7 2011-08-18 00:35:00  ...         40.750562              2.0\n",
              "3              7.7 2012-04-21 04:30:42  ...         40.758092              1.0\n",
              "4              5.3 2010-03-09 07:51:00  ...         40.783762              1.0\n",
              "...            ...                 ...  ...               ...              ...\n",
              "16062          6.5 2014-12-12 07:41:00  ...         40.719987              1.0\n",
              "16063         16.1 2009-07-13 07:58:00  ...         40.715527              2.0\n",
              "16064          8.5 2009-11-11 11:19:07  ...         40.765495              1.0\n",
              "16065          8.1 2010-05-11 23:53:00  ...         40.779560              1.0\n",
              "16066          8.5 2011-12-14 06:24:33  ...         40.761975              NaN\n",
              "\n",
              "[16066 rows x 7 columns]"
            ]
          },
          "metadata": {
            "tags": []
          },
          "execution_count": 22
        }
      ]
    },
    {
      "cell_type": "markdown",
      "metadata": {
        "id": "3oSZsvLQtIWO",
        "colab_type": "text"
      },
      "source": [
        " **we will saperate the Pickup_datetime column into separate field like year, month, day of the week, etc**\n",
        "\n"
      ]
    },
    {
      "cell_type": "code",
      "metadata": {
        "id": "ozc3hwUitOsX",
        "colab_type": "code",
        "colab": {}
      },
      "source": [
        "\n",
        "\n",
        "train['year'] = train['pickup_datetime'].dt.year\n",
        "train['Month'] = train['pickup_datetime'].dt.month\n",
        "train['Date'] = train['pickup_datetime'].dt.day\n",
        "train['Day'] = train['pickup_datetime'].dt.dayofweek\n",
        "train['Hour'] = train['pickup_datetime'].dt.hour\n",
        "train['Minute'] = train['pickup_datetime'].dt.minute"
      ],
      "execution_count": 23,
      "outputs": []
    },
    {
      "cell_type": "code",
      "metadata": {
        "id": "WyTvmc29tVde",
        "colab_type": "code",
        "colab": {
          "base_uri": "https://localhost:8080/",
          "height": 260
        },
        "outputId": "bdd25732-f2b9-4581-a53a-6506d1206e86"
      },
      "source": [
        "train.dtypes"
      ],
      "execution_count": 24,
      "outputs": [
        {
          "output_type": "execute_result",
          "data": {
            "text/plain": [
              "fare_amount                 float64\n",
              "pickup_datetime      datetime64[ns]\n",
              "pickup_longitude            float64\n",
              "pickup_latitude             float64\n",
              "dropoff_longitude           float64\n",
              "dropoff_latitude            float64\n",
              "passenger_count             float64\n",
              "year                        float64\n",
              "Month                       float64\n",
              "Date                        float64\n",
              "Day                         float64\n",
              "Hour                        float64\n",
              "Minute                      float64\n",
              "dtype: object"
            ]
          },
          "metadata": {
            "tags": []
          },
          "execution_count": 24
        }
      ]
    },
    {
      "cell_type": "code",
      "metadata": {
        "id": "J70Cr_twMp_B",
        "colab_type": "code",
        "colab": {}
      },
      "source": [
        "test_data['pickup_datetime']= pd.to_datetime(test_data['pickup_datetime'],format= \"%Y-%m-%d %H:%M:%S UTC\")"
      ],
      "execution_count": 25,
      "outputs": []
    },
    {
      "cell_type": "code",
      "metadata": {
        "id": "2e5OcRgfNGH5",
        "colab_type": "code",
        "colab": {
          "base_uri": "https://localhost:8080/",
          "height": 139
        },
        "outputId": "821ad0df-e4ff-497b-ac96-631a416212ce"
      },
      "source": [
        "test_data.dtypes"
      ],
      "execution_count": 26,
      "outputs": [
        {
          "output_type": "execute_result",
          "data": {
            "text/plain": [
              "pickup_datetime      datetime64[ns]\n",
              "pickup_longitude            float64\n",
              "pickup_latitude             float64\n",
              "dropoff_longitude           float64\n",
              "dropoff_latitude            float64\n",
              "passenger_count               int64\n",
              "dtype: object"
            ]
          },
          "metadata": {
            "tags": []
          },
          "execution_count": 26
        }
      ]
    },
    {
      "cell_type": "markdown",
      "metadata": {
        "id": "RRFO1uGSNNMA",
        "colab_type": "text"
      },
      "source": [
        "**We will seperate pickup date_time column into seperate areas like year,date**\n"
      ]
    },
    {
      "cell_type": "code",
      "metadata": {
        "id": "4z7_v75BNtNs",
        "colab_type": "code",
        "colab": {}
      },
      "source": [
        "test_data['year'] = test_data['pickup_datetime'].dt.year"
      ],
      "execution_count": 27,
      "outputs": []
    },
    {
      "cell_type": "code",
      "metadata": {
        "id": "sUAXF5aBNUw4",
        "colab_type": "code",
        "colab": {
          "base_uri": "https://localhost:8080/",
          "height": 156
        },
        "outputId": "6e5bb512-cb4b-4082-c03c-2281a32f73bd"
      },
      "source": [
        "test_data.dtypes"
      ],
      "execution_count": 28,
      "outputs": [
        {
          "output_type": "execute_result",
          "data": {
            "text/plain": [
              "pickup_datetime      datetime64[ns]\n",
              "pickup_longitude            float64\n",
              "pickup_latitude             float64\n",
              "dropoff_longitude           float64\n",
              "dropoff_latitude            float64\n",
              "passenger_count               int64\n",
              "year                          int64\n",
              "dtype: object"
            ]
          },
          "metadata": {
            "tags": []
          },
          "execution_count": 28
        }
      ]
    },
    {
      "cell_type": "code",
      "metadata": {
        "id": "nmu4UzBHOJpK",
        "colab_type": "code",
        "colab": {}
      },
      "source": [
        "test_data['date '] = test_data['pickup_datetime'].dt.date\n",
        "test_data['month']=test_data['pickup_datetime'].dt.month\n",
        "test_data['day'] = test_data['pickup_datetime'].dt.dayofweek\n",
        "test_data['hour'] = test_data['pickup_datetime'].dt.hour\n",
        "test_data['Minute'] = test_data['pickup_datetime'].dt.minute\n",
        " \n",
        "\n",
        "\n"
      ],
      "execution_count": 29,
      "outputs": []
    },
    {
      "cell_type": "code",
      "metadata": {
        "id": "FqB9i70fPR8G",
        "colab_type": "code",
        "colab": {
          "base_uri": "https://localhost:8080/",
          "height": 243
        },
        "outputId": "f44214eb-0c6e-487c-bbb5-d9884b271504"
      },
      "source": [
        "test_data.dtypes"
      ],
      "execution_count": 30,
      "outputs": [
        {
          "output_type": "execute_result",
          "data": {
            "text/plain": [
              "pickup_datetime      datetime64[ns]\n",
              "pickup_longitude            float64\n",
              "pickup_latitude             float64\n",
              "dropoff_longitude           float64\n",
              "dropoff_latitude            float64\n",
              "passenger_count               int64\n",
              "year                          int64\n",
              "date                         object\n",
              "month                         int64\n",
              "day                           int64\n",
              "hour                          int64\n",
              "Minute                        int64\n",
              "dtype: object"
            ]
          },
          "metadata": {
            "tags": []
          },
          "execution_count": 30
        }
      ]
    },
    {
      "cell_type": "markdown",
      "metadata": {
        "id": "9cVjLwNQqqBW",
        "colab_type": "text"
      },
      "source": [
        "**Now we have splitted the pickup date time variable into different varaibles like month, year, day etc so now we dont need to have that pickup_Date variable now.**\n",
        "\n",
        "**"
      ]
    },
    {
      "cell_type": "code",
      "metadata": {
        "id": "rBskWQQBqsE5",
        "colab_type": "code",
        "colab": {}
      },
      "source": [
        "drop = ['pickup_datetime',  'Minute']\n",
        "train = train.drop(drop, axis = 1)\n",
        "\n"
      ],
      "execution_count": 31,
      "outputs": []
    },
    {
      "cell_type": "code",
      "metadata": {
        "id": "nqQMaeuqt8og",
        "colab_type": "code",
        "colab": {}
      },
      "source": [
        "drop1=['pickup_datetime',  'Minute']\n",
        "test_data = test_data.drop(drop, axis = 1)"
      ],
      "execution_count": 32,
      "outputs": []
    },
    {
      "cell_type": "markdown",
      "metadata": {
        "id": "NGkpOMEtPxjk",
        "colab_type": "text"
      },
      "source": [
        "**Check for the un-necessary data in the train data set**\n",
        "\n",
        "1>Passenger count should be not more than 6.\n",
        "\n",
        "2>Longitude should be in the range of -90 to +90.\n",
        "\n",
        "3>Latitude should be in the range of -180 to +180.\n",
        "\n",
        "4>Some values which does not seem acceptable,we will remove them.\n"
      ]
    },
    {
      "cell_type": "code",
      "metadata": {
        "id": "P-ver5X2QfJh",
        "colab_type": "code",
        "colab": {
          "base_uri": "https://localhost:8080/",
          "height": 173
        },
        "outputId": "e4e67d6b-98bf-475a-a215-0d04a23b7c97"
      },
      "source": [
        "train['passenger_count'].describe()"
      ],
      "execution_count": 33,
      "outputs": [
        {
          "output_type": "execute_result",
          "data": {
            "text/plain": [
              "count    16012.000000\n",
              "mean         2.625070\n",
              "std         60.844122\n",
              "min          0.000000\n",
              "25%          1.000000\n",
              "50%          1.000000\n",
              "75%          2.000000\n",
              "max       5345.000000\n",
              "Name: passenger_count, dtype: float64"
            ]
          },
          "metadata": {
            "tags": []
          },
          "execution_count": 33
        }
      ]
    },
    {
      "cell_type": "markdown",
      "metadata": {
        "id": "BEdlNolnRSqk",
        "colab_type": "text"
      },
      "source": [
        "**In the above description of the passenger count we see that max number of passenger count is 5435 which is absurd.So we will remove all those row who have value more than 6.**"
      ]
    },
    {
      "cell_type": "code",
      "metadata": {
        "id": "Q2J9a06URTn8",
        "colab_type": "code",
        "colab": {}
      },
      "source": [
        "train = train.drop(train[train[\"passenger_count\"]> 6 ].index, axis=0)"
      ],
      "execution_count": 34,
      "outputs": []
    },
    {
      "cell_type": "code",
      "metadata": {
        "id": "oYKyTiZKR51D",
        "colab_type": "code",
        "colab": {
          "base_uri": "https://localhost:8080/",
          "height": 173
        },
        "outputId": "fe32bf0b-6965-4261-9450-41c255e6b5ad"
      },
      "source": [
        "train['passenger_count'].describe()"
      ],
      "execution_count": 35,
      "outputs": [
        {
          "output_type": "execute_result",
          "data": {
            "text/plain": [
              "count    15992.000000\n",
              "mean         1.643661\n",
              "std          1.267474\n",
              "min          0.000000\n",
              "25%          1.000000\n",
              "50%          1.000000\n",
              "75%          2.000000\n",
              "max          6.000000\n",
              "Name: passenger_count, dtype: float64"
            ]
          },
          "metadata": {
            "tags": []
          },
          "execution_count": 35
        }
      ]
    },
    {
      "cell_type": "markdown",
      "metadata": {
        "id": "JuTl6SSiSNvU",
        "colab_type": "text"
      },
      "source": [
        "**removing datetime missing values rows.**"
      ]
    },
    {
      "cell_type": "code",
      "metadata": {
        "id": "aGuAkccOSPr5",
        "colab_type": "code",
        "colab": {}
      },
      "source": [
        "#train = train.drop(train[train['pickup_datetime'].isnull()].index, axis=0)\n",
        "##print(train.shape)\n",
        "#print(train['pickup_datetime'].isnull().sum())"
      ],
      "execution_count": 36,
      "outputs": []
    },
    {
      "cell_type": "markdown",
      "metadata": {
        "id": "FzxWSPdAScYT",
        "colab_type": "text"
      },
      "source": [
        "**Also removing the values which have the passenger count equal to 0.**"
      ]
    },
    {
      "cell_type": "code",
      "metadata": {
        "id": "Y7SxhpaWSlRK",
        "colab_type": "code",
        "colab": {}
      },
      "source": [
        "train = train.drop(train[train[\"passenger_count\"] == 0 ].index, axis=0)"
      ],
      "execution_count": 37,
      "outputs": []
    },
    {
      "cell_type": "code",
      "metadata": {
        "id": "NnDEqkDkSwRJ",
        "colab_type": "code",
        "colab": {
          "base_uri": "https://localhost:8080/",
          "height": 173
        },
        "outputId": "85a1a7e8-3ae1-49b1-94c2-a73f1e0b6156"
      },
      "source": [
        "train[\"passenger_count\"].describe()"
      ],
      "execution_count": 38,
      "outputs": [
        {
          "output_type": "execute_result",
          "data": {
            "text/plain": [
              "count    15935.000000\n",
              "mean         1.649540\n",
              "std          1.265914\n",
              "min          0.120000\n",
              "25%          1.000000\n",
              "50%          1.000000\n",
              "75%          2.000000\n",
              "max          6.000000\n",
              "Name: passenger_count, dtype: float64"
            ]
          },
          "metadata": {
            "tags": []
          },
          "execution_count": 38
        }
      ]
    },
    {
      "cell_type": "code",
      "metadata": {
        "id": "lorlmzj2S6-h",
        "colab_type": "code",
        "colab": {
          "base_uri": "https://localhost:8080/",
          "height": 225
        },
        "outputId": "57bc53b4-698a-47d6-8644-3b4fe8d511b0"
      },
      "source": [
        "train['passenger_count'].sort_values(ascending = True)"
      ],
      "execution_count": 39,
      "outputs": [
        {
          "output_type": "execute_result",
          "data": {
            "text/plain": [
              "8862     0.12\n",
              "0        1.00\n",
              "9790     1.00\n",
              "9791     1.00\n",
              "9792     1.00\n",
              "         ... \n",
              "8076      NaN\n",
              "8139      NaN\n",
              "8259      NaN\n",
              "8306      NaN\n",
              "16066     NaN\n",
              "Name: passenger_count, Length: 15990, dtype: float64"
            ]
          },
          "metadata": {
            "tags": []
          },
          "execution_count": 39
        }
      ]
    },
    {
      "cell_type": "markdown",
      "metadata": {
        "id": "UiVqAGDcTTu1",
        "colab_type": "text"
      },
      "source": [
        "**We observe in sorted passenger count that many values are zero so we will remove them.**"
      ]
    },
    {
      "cell_type": "code",
      "metadata": {
        "id": "WcdeEHB_TeIw",
        "colab_type": "code",
        "colab": {
          "base_uri": "https://localhost:8080/",
          "height": 52
        },
        "outputId": "434a4ede-51c4-4d89-a5e9-26480fce1947"
      },
      "source": [
        "train = train.drop(train[train['passenger_count'].isnull()].index, axis=0)\n",
        "print(train.shape)\n",
        "print(train['passenger_count'].isnull().sum())"
      ],
      "execution_count": 40,
      "outputs": [
        {
          "output_type": "stream",
          "text": [
            "(15935, 11)\n",
            "0\n"
          ],
          "name": "stdout"
        }
      ]
    },
    {
      "cell_type": "markdown",
      "metadata": {
        "id": "2X6ym-z9Tp9q",
        "colab_type": "text"
      },
      "source": [
        "One have passenger count 0.12,which is not possible,so we will remove them."
      ]
    },
    {
      "cell_type": "code",
      "metadata": {
        "id": "3jHjZo5ETyRT",
        "colab_type": "code",
        "colab": {
          "base_uri": "https://localhost:8080/",
          "height": 52
        },
        "outputId": "53eaa110-4189-471a-a82f-4db1d79321c7"
      },
      "source": [
        "\n",
        "train = train.drop(train[train[\"passenger_count\"] == 0.12 ].index, axis=0)\n",
        "print(train.shape)\n",
        "print(train['passenger_count'].isnull().sum())\n"
      ],
      "execution_count": 41,
      "outputs": [
        {
          "output_type": "stream",
          "text": [
            "(15934, 11)\n",
            "0\n"
          ],
          "name": "stdout"
        }
      ]
    },
    {
      "cell_type": "markdown",
      "metadata": {
        "id": "bdivduCVXBQA",
        "colab_type": "text"
      },
      "source": [
        "**Checking for the longitude and latitude.**\n",
        "\n",
        "\n"
      ]
    },
    {
      "cell_type": "markdown",
      "metadata": {
        "id": "XE49xA2lXIe7",
        "colab_type": "text"
      },
      "source": [
        "**We will drop all latitude who are not in the range of -90 to +90.**\n",
        "\n",
        "**We will also drop all longitude who are not in the range of +180 to -180.**\n"
      ]
    },
    {
      "cell_type": "code",
      "metadata": {
        "id": "3xNf2VGIXAV8",
        "colab_type": "code",
        "colab": {
          "base_uri": "https://localhost:8080/",
          "height": 99
        },
        "outputId": "962a6fd1-0550-4866-9de8-c042dc517ee0"
      },
      "source": [
        "train[train['pickup_latitude']<-90]\n",
        "train[train['pickup_latitude']>90]"
      ],
      "execution_count": 42,
      "outputs": [
        {
          "output_type": "execute_result",
          "data": {
            "text/html": [
              "<div>\n",
              "<style scoped>\n",
              "    .dataframe tbody tr th:only-of-type {\n",
              "        vertical-align: middle;\n",
              "    }\n",
              "\n",
              "    .dataframe tbody tr th {\n",
              "        vertical-align: top;\n",
              "    }\n",
              "\n",
              "    .dataframe thead th {\n",
              "        text-align: right;\n",
              "    }\n",
              "</style>\n",
              "<table border=\"1\" class=\"dataframe\">\n",
              "  <thead>\n",
              "    <tr style=\"text-align: right;\">\n",
              "      <th></th>\n",
              "      <th>fare_amount</th>\n",
              "      <th>pickup_longitude</th>\n",
              "      <th>pickup_latitude</th>\n",
              "      <th>dropoff_longitude</th>\n",
              "      <th>dropoff_latitude</th>\n",
              "      <th>passenger_count</th>\n",
              "      <th>year</th>\n",
              "      <th>Month</th>\n",
              "      <th>Date</th>\n",
              "      <th>Day</th>\n",
              "      <th>Hour</th>\n",
              "    </tr>\n",
              "  </thead>\n",
              "  <tbody>\n",
              "    <tr>\n",
              "      <th>5686</th>\n",
              "      <td>3.3</td>\n",
              "      <td>-73.947235</td>\n",
              "      <td>401.083332</td>\n",
              "      <td>-73.951392</td>\n",
              "      <td>40.778927</td>\n",
              "      <td>1.0</td>\n",
              "      <td>2011.0</td>\n",
              "      <td>7.0</td>\n",
              "      <td>30.0</td>\n",
              "      <td>5.0</td>\n",
              "      <td>11.0</td>\n",
              "    </tr>\n",
              "  </tbody>\n",
              "</table>\n",
              "</div>"
            ],
            "text/plain": [
              "      fare_amount  pickup_longitude  pickup_latitude  ...  Date  Day  Hour\n",
              "5686          3.3        -73.947235       401.083332  ...  30.0  5.0  11.0\n",
              "\n",
              "[1 rows x 11 columns]"
            ]
          },
          "metadata": {
            "tags": []
          },
          "execution_count": 42
        }
      ]
    },
    {
      "cell_type": "code",
      "metadata": {
        "id": "xLfVgb-DXtKO",
        "colab_type": "code",
        "colab": {}
      },
      "source": [
        "#dropping one value of >90\n",
        "train = train.drop((train[train['pickup_latitude']<-90]).index, axis=0)\n",
        "train = train.drop((train[train['pickup_latitude']>90]).index, axis=0)"
      ],
      "execution_count": 43,
      "outputs": []
    },
    {
      "cell_type": "code",
      "metadata": {
        "id": "Pdym_iOuYLk5",
        "colab_type": "code",
        "colab": {
          "base_uri": "https://localhost:8080/",
          "height": 69
        },
        "outputId": "b633b3d1-416c-403c-b257-c8a487a22cd1"
      },
      "source": [
        "train[train['pickup_longitude']<-180]\n",
        "train[train['pickup_longitude']>180]"
      ],
      "execution_count": 44,
      "outputs": [
        {
          "output_type": "execute_result",
          "data": {
            "text/html": [
              "<div>\n",
              "<style scoped>\n",
              "    .dataframe tbody tr th:only-of-type {\n",
              "        vertical-align: middle;\n",
              "    }\n",
              "\n",
              "    .dataframe tbody tr th {\n",
              "        vertical-align: top;\n",
              "    }\n",
              "\n",
              "    .dataframe thead th {\n",
              "        text-align: right;\n",
              "    }\n",
              "</style>\n",
              "<table border=\"1\" class=\"dataframe\">\n",
              "  <thead>\n",
              "    <tr style=\"text-align: right;\">\n",
              "      <th></th>\n",
              "      <th>fare_amount</th>\n",
              "      <th>pickup_longitude</th>\n",
              "      <th>pickup_latitude</th>\n",
              "      <th>dropoff_longitude</th>\n",
              "      <th>dropoff_latitude</th>\n",
              "      <th>passenger_count</th>\n",
              "      <th>year</th>\n",
              "      <th>Month</th>\n",
              "      <th>Date</th>\n",
              "      <th>Day</th>\n",
              "      <th>Hour</th>\n",
              "    </tr>\n",
              "  </thead>\n",
              "  <tbody>\n",
              "  </tbody>\n",
              "</table>\n",
              "</div>"
            ],
            "text/plain": [
              "Empty DataFrame\n",
              "Columns: [fare_amount, pickup_longitude, pickup_latitude, dropoff_longitude, dropoff_latitude, passenger_count, year, Month, Date, Day, Hour]\n",
              "Index: []"
            ]
          },
          "metadata": {
            "tags": []
          },
          "execution_count": 44
        }
      ]
    },
    {
      "cell_type": "code",
      "metadata": {
        "id": "4Z13UtlsYtaT",
        "colab_type": "code",
        "colab": {
          "base_uri": "https://localhost:8080/",
          "height": 69
        },
        "outputId": "323c65cb-5b8c-4cc4-c3fa-5a219c06a6fd"
      },
      "source": [
        "train[train['dropoff_latitude']<-90]\n",
        "train[train['dropoff_latitude']>90]\n"
      ],
      "execution_count": 45,
      "outputs": [
        {
          "output_type": "execute_result",
          "data": {
            "text/html": [
              "<div>\n",
              "<style scoped>\n",
              "    .dataframe tbody tr th:only-of-type {\n",
              "        vertical-align: middle;\n",
              "    }\n",
              "\n",
              "    .dataframe tbody tr th {\n",
              "        vertical-align: top;\n",
              "    }\n",
              "\n",
              "    .dataframe thead th {\n",
              "        text-align: right;\n",
              "    }\n",
              "</style>\n",
              "<table border=\"1\" class=\"dataframe\">\n",
              "  <thead>\n",
              "    <tr style=\"text-align: right;\">\n",
              "      <th></th>\n",
              "      <th>fare_amount</th>\n",
              "      <th>pickup_longitude</th>\n",
              "      <th>pickup_latitude</th>\n",
              "      <th>dropoff_longitude</th>\n",
              "      <th>dropoff_latitude</th>\n",
              "      <th>passenger_count</th>\n",
              "      <th>year</th>\n",
              "      <th>Month</th>\n",
              "      <th>Date</th>\n",
              "      <th>Day</th>\n",
              "      <th>Hour</th>\n",
              "    </tr>\n",
              "  </thead>\n",
              "  <tbody>\n",
              "  </tbody>\n",
              "</table>\n",
              "</div>"
            ],
            "text/plain": [
              "Empty DataFrame\n",
              "Columns: [fare_amount, pickup_longitude, pickup_latitude, dropoff_longitude, dropoff_latitude, passenger_count, year, Month, Date, Day, Hour]\n",
              "Index: []"
            ]
          },
          "metadata": {
            "tags": []
          },
          "execution_count": 45
        }
      ]
    },
    {
      "cell_type": "code",
      "metadata": {
        "id": "5t7PPXpKYxWV",
        "colab_type": "code",
        "colab": {
          "base_uri": "https://localhost:8080/",
          "height": 69
        },
        "outputId": "22641ec2-6b30-49c7-c4a1-091e963075c6"
      },
      "source": [
        "train[train['dropoff_longitude']<-180]\n",
        "train[train['dropoff_longitude']>180]\n"
      ],
      "execution_count": 46,
      "outputs": [
        {
          "output_type": "execute_result",
          "data": {
            "text/html": [
              "<div>\n",
              "<style scoped>\n",
              "    .dataframe tbody tr th:only-of-type {\n",
              "        vertical-align: middle;\n",
              "    }\n",
              "\n",
              "    .dataframe tbody tr th {\n",
              "        vertical-align: top;\n",
              "    }\n",
              "\n",
              "    .dataframe thead th {\n",
              "        text-align: right;\n",
              "    }\n",
              "</style>\n",
              "<table border=\"1\" class=\"dataframe\">\n",
              "  <thead>\n",
              "    <tr style=\"text-align: right;\">\n",
              "      <th></th>\n",
              "      <th>fare_amount</th>\n",
              "      <th>pickup_longitude</th>\n",
              "      <th>pickup_latitude</th>\n",
              "      <th>dropoff_longitude</th>\n",
              "      <th>dropoff_latitude</th>\n",
              "      <th>passenger_count</th>\n",
              "      <th>year</th>\n",
              "      <th>Month</th>\n",
              "      <th>Date</th>\n",
              "      <th>Day</th>\n",
              "      <th>Hour</th>\n",
              "    </tr>\n",
              "  </thead>\n",
              "  <tbody>\n",
              "  </tbody>\n",
              "</table>\n",
              "</div>"
            ],
            "text/plain": [
              "Empty DataFrame\n",
              "Columns: [fare_amount, pickup_longitude, pickup_latitude, dropoff_longitude, dropoff_latitude, passenger_count, year, Month, Date, Day, Hour]\n",
              "Index: []"
            ]
          },
          "metadata": {
            "tags": []
          },
          "execution_count": 46
        }
      ]
    },
    {
      "cell_type": "code",
      "metadata": {
        "id": "oMffQEGaZDrL",
        "colab_type": "code",
        "colab": {
          "base_uri": "https://localhost:8080/",
          "height": 173
        },
        "outputId": "c071dfc9-111d-470b-9c15-67edcdeca583"
      },
      "source": [
        "train['dropoff_longitude'].describe()"
      ],
      "execution_count": 47,
      "outputs": [
        {
          "output_type": "execute_result",
          "data": {
            "text/plain": [
              "count    15933.000000\n",
              "mean       -72.458877\n",
              "std         10.587462\n",
              "min        -74.429332\n",
              "25%        -73.991182\n",
              "50%        -73.980156\n",
              "75%        -73.963610\n",
              "max         40.802437\n",
              "Name: dropoff_longitude, dtype: float64"
            ]
          },
          "metadata": {
            "tags": []
          },
          "execution_count": 47
        }
      ]
    },
    {
      "cell_type": "code",
      "metadata": {
        "id": "-d6P42GJZMLQ",
        "colab_type": "code",
        "colab": {
          "base_uri": "https://localhost:8080/",
          "height": 173
        },
        "outputId": "fce1b570-a42d-4dff-b9ee-348087a27651"
      },
      "source": [
        "train['dropoff_latitude'].describe()"
      ],
      "execution_count": 48,
      "outputs": [
        {
          "output_type": "execute_result",
          "data": {
            "text/plain": [
              "count    15933.000000\n",
              "mean        39.895851\n",
              "std          6.196462\n",
              "min        -74.006377\n",
              "25%         40.734659\n",
              "50%         40.753564\n",
              "75%         40.768016\n",
              "max         41.366138\n",
              "Name: dropoff_latitude, dtype: float64"
            ]
          },
          "metadata": {
            "tags": []
          },
          "execution_count": 48
        }
      ]
    },
    {
      "cell_type": "code",
      "metadata": {
        "id": "dWc0BHC6ZSxY",
        "colab_type": "code",
        "colab": {
          "base_uri": "https://localhost:8080/",
          "height": 173
        },
        "outputId": "28255266-5ec0-44c8-d766-8ca1edd9bb38"
      },
      "source": [
        "train['pickup_latitude'].describe()"
      ],
      "execution_count": 49,
      "outputs": [
        {
          "output_type": "execute_result",
          "data": {
            "text/plain": [
              "count    15933.000000\n",
              "mean        39.895323\n",
              "std          6.196836\n",
              "min        -74.006893\n",
              "25%         40.734935\n",
              "50%         40.752632\n",
              "75%         40.767382\n",
              "max         41.366138\n",
              "Name: pickup_latitude, dtype: float64"
            ]
          },
          "metadata": {
            "tags": []
          },
          "execution_count": 49
        }
      ]
    },
    {
      "cell_type": "code",
      "metadata": {
        "id": "_g9ADK1rZX9k",
        "colab_type": "code",
        "colab": {
          "base_uri": "https://localhost:8080/",
          "height": 173
        },
        "outputId": "250d1d6f-f14a-4680-91d1-8574f0ca5206"
      },
      "source": [
        "train['dropoff_longitude'].describe()"
      ],
      "execution_count": 50,
      "outputs": [
        {
          "output_type": "execute_result",
          "data": {
            "text/plain": [
              "count    15933.000000\n",
              "mean       -72.458877\n",
              "std         10.587462\n",
              "min        -74.429332\n",
              "25%        -73.991182\n",
              "50%        -73.980156\n",
              "75%        -73.963610\n",
              "max         40.802437\n",
              "Name: dropoff_longitude, dtype: float64"
            ]
          },
          "metadata": {
            "tags": []
          },
          "execution_count": 50
        }
      ]
    },
    {
      "cell_type": "markdown",
      "metadata": {
        "id": "sAQXnFoRUW4I",
        "colab_type": "text"
      },
      "source": [
        "**Checking for the fare.**"
      ]
    },
    {
      "cell_type": "code",
      "metadata": {
        "id": "Bldc1KNDU2nm",
        "colab_type": "code",
        "colab": {
          "base_uri": "https://localhost:8080/",
          "height": 225
        },
        "outputId": "6d0746a1-e1f2-4620-f3c0-4a1ddc16dc98"
      },
      "source": [
        "train['fare_amount'].sort_values(ascending=True)"
      ],
      "execution_count": 51,
      "outputs": [
        {
          "output_type": "execute_result",
          "data": {
            "text/plain": [
              "13032   -3.00\n",
              "2039    -2.90\n",
              "2486    -2.50\n",
              "10002    0.00\n",
              "2780     0.01\n",
              "         ... \n",
              "1712      NaN\n",
              "2412      NaN\n",
              "2458      NaN\n",
              "8178      NaN\n",
              "8226      NaN\n",
              "Name: fare_amount, Length: 15933, dtype: float64"
            ]
          },
          "metadata": {
            "tags": []
          },
          "execution_count": 51
        }
      ]
    },
    {
      "cell_type": "markdown",
      "metadata": {
        "id": "vzU1eZ6hVJNi",
        "colab_type": "text"
      },
      "source": [
        "**A lot of fare amount are in negative and many are also null,so we will remove them.**"
      ]
    },
    {
      "cell_type": "code",
      "metadata": {
        "id": "0y67-XM9VRZg",
        "colab_type": "code",
        "colab": {}
      },
      "source": [
        "train = train.drop(train[train['fare_amount'].isnull()].index,axis=0)"
      ],
      "execution_count": 52,
      "outputs": []
    },
    {
      "cell_type": "code",
      "metadata": {
        "id": "eQ4xaO1tWQ72",
        "colab_type": "code",
        "colab": {}
      },
      "source": [
        "\n",
        "train = train.drop(train[train[\"fare_amount\"]<0].index, axis=0)\n"
      ],
      "execution_count": 53,
      "outputs": []
    },
    {
      "cell_type": "code",
      "metadata": {
        "id": "fc_XfiB5WeF6",
        "colab_type": "code",
        "colab": {}
      },
      "source": [
        "train = train.drop(train[train[\"fare_amount\"]<1].index, axis=0)\n",
        "train = train.drop(train[train[\"fare_amount\"]> 454 ].index, axis=0)"
      ],
      "execution_count": 54,
      "outputs": []
    },
    {
      "cell_type": "code",
      "metadata": {
        "id": "bTX1D-40Wq5s",
        "colab_type": "code",
        "colab": {
          "base_uri": "https://localhost:8080/",
          "height": 173
        },
        "outputId": "bbd9e434-9e13-46be-979a-f7aefc658d4c"
      },
      "source": [
        "train['fare_amount'].describe()"
      ],
      "execution_count": 55,
      "outputs": [
        {
          "output_type": "execute_result",
          "data": {
            "text/plain": [
              "count    15902.000000\n",
              "mean        11.376871\n",
              "std         10.814719\n",
              "min          1.140000\n",
              "25%          6.000000\n",
              "50%          8.500000\n",
              "75%         12.500000\n",
              "max        453.000000\n",
              "Name: fare_amount, dtype: float64"
            ]
          },
          "metadata": {
            "tags": []
          },
          "execution_count": 55
        }
      ]
    },
    {
      "cell_type": "markdown",
      "metadata": {
        "id": "Pgi1bfcsD4Gy",
        "colab_type": "text"
      },
      "source": [
        "**Calculating distance between two points based on the given co-ordinates**"
      ]
    },
    {
      "cell_type": "code",
      "metadata": {
        "id": "KeSi82vHY7Db",
        "colab_type": "code",
        "colab": {}
      },
      "source": [
        "from math import radians, cos, sin, asin, sqrt\n",
        "def haversine(a):\n",
        "    longitude1=a[0]\n",
        "    latitude1=a[1]\n",
        "    longitude2=a[2]\n",
        "    latitude2=a[3]\n",
        "    \n",
        "    longitude1, latitude1, longitude2, latitude2 = map(radians, [longitude1, latitude1, longitude2, latitude2])\n",
        "    \n",
        "    # haversine formula \n",
        "    dlong = longitude2 - longitude1 \n",
        "    dlati = latitude2 - latitude1 \n",
        "    a = sin(dlati/2)**2 + cos(latitude1) * cos(latitude2) * sin(dlong/2)**2\n",
        "    c =  2 * asin(sqrt(a))\n",
        "    # Earth radius = 6,371\n",
        "    km = 6371* c\n",
        "    return km"
      ],
      "execution_count": 56,
      "outputs": []
    },
    {
      "cell_type": "code",
      "metadata": {
        "id": "0UuUh3bWkVjj",
        "colab_type": "code",
        "colab": {}
      },
      "source": [
        "train['distance'] = train[['pickup_longitude','pickup_latitude','dropoff_longitude','dropoff_latitude']].apply(haversine,axis=1)"
      ],
      "execution_count": 57,
      "outputs": []
    },
    {
      "cell_type": "code",
      "metadata": {
        "id": "L5V7Xe-Fklq5",
        "colab_type": "code",
        "colab": {}
      },
      "source": [
        "test_data['distance'] = test_data[['pickup_longitude','pickup_latitude','dropoff_longitude','dropoff_latitude']].apply(haversine,axis=1)"
      ],
      "execution_count": 58,
      "outputs": []
    },
    {
      "cell_type": "markdown",
      "metadata": {
        "id": "LPzVROR9r55w",
        "colab_type": "text"
      },
      "source": [
        "**we have created distance using pickup and drop longitudes and latitudes so we will also drop pickup and drop longitudes and latitudes variables.**"
      ]
    },
    {
      "cell_type": "code",
      "metadata": {
        "id": "LnlfZP-tsBkn",
        "colab_type": "code",
        "colab": {}
      },
      "source": [
        "drop = [ 'pickup_longitude', 'pickup_latitude','dropoff_longitude', 'dropoff_latitude']\n",
        "train = train.drop(drop, axis = 1)"
      ],
      "execution_count": 59,
      "outputs": []
    },
    {
      "cell_type": "code",
      "metadata": {
        "id": "kFdCc0VRuFlf",
        "colab_type": "code",
        "colab": {}
      },
      "source": [
        "drop1=['pickup_longitude', 'pickup_latitude','dropoff_longitude', 'dropoff_latitude']\n",
        "test_data = test_data.drop(drop, axis = 1)"
      ],
      "execution_count": 60,
      "outputs": []
    },
    {
      "cell_type": "markdown",
      "metadata": {
        "id": "7NVG50QfkuVG",
        "colab_type": "text"
      },
      "source": [
        "**Checking the nature of the updated data**"
      ]
    },
    {
      "cell_type": "code",
      "metadata": {
        "id": "1JbZxLPNky-F",
        "colab_type": "code",
        "colab": {
          "base_uri": "https://localhost:8080/",
          "height": 202
        },
        "outputId": "a1b7c78e-76a5-4195-ad1f-7c1b71174719"
      },
      "source": [
        "train.head()"
      ],
      "execution_count": 61,
      "outputs": [
        {
          "output_type": "execute_result",
          "data": {
            "text/html": [
              "<div>\n",
              "<style scoped>\n",
              "    .dataframe tbody tr th:only-of-type {\n",
              "        vertical-align: middle;\n",
              "    }\n",
              "\n",
              "    .dataframe tbody tr th {\n",
              "        vertical-align: top;\n",
              "    }\n",
              "\n",
              "    .dataframe thead th {\n",
              "        text-align: right;\n",
              "    }\n",
              "</style>\n",
              "<table border=\"1\" class=\"dataframe\">\n",
              "  <thead>\n",
              "    <tr style=\"text-align: right;\">\n",
              "      <th></th>\n",
              "      <th>fare_amount</th>\n",
              "      <th>passenger_count</th>\n",
              "      <th>year</th>\n",
              "      <th>Month</th>\n",
              "      <th>Date</th>\n",
              "      <th>Day</th>\n",
              "      <th>Hour</th>\n",
              "      <th>distance</th>\n",
              "    </tr>\n",
              "  </thead>\n",
              "  <tbody>\n",
              "    <tr>\n",
              "      <th>0</th>\n",
              "      <td>4.5</td>\n",
              "      <td>1.0</td>\n",
              "      <td>2009.0</td>\n",
              "      <td>6.0</td>\n",
              "      <td>15.0</td>\n",
              "      <td>0.0</td>\n",
              "      <td>17.0</td>\n",
              "      <td>1.030764</td>\n",
              "    </tr>\n",
              "    <tr>\n",
              "      <th>1</th>\n",
              "      <td>16.9</td>\n",
              "      <td>1.0</td>\n",
              "      <td>2010.0</td>\n",
              "      <td>1.0</td>\n",
              "      <td>5.0</td>\n",
              "      <td>1.0</td>\n",
              "      <td>16.0</td>\n",
              "      <td>8.450134</td>\n",
              "    </tr>\n",
              "    <tr>\n",
              "      <th>2</th>\n",
              "      <td>5.7</td>\n",
              "      <td>2.0</td>\n",
              "      <td>2011.0</td>\n",
              "      <td>8.0</td>\n",
              "      <td>18.0</td>\n",
              "      <td>3.0</td>\n",
              "      <td>0.0</td>\n",
              "      <td>1.389525</td>\n",
              "    </tr>\n",
              "    <tr>\n",
              "      <th>3</th>\n",
              "      <td>7.7</td>\n",
              "      <td>1.0</td>\n",
              "      <td>2012.0</td>\n",
              "      <td>4.0</td>\n",
              "      <td>21.0</td>\n",
              "      <td>5.0</td>\n",
              "      <td>4.0</td>\n",
              "      <td>2.799270</td>\n",
              "    </tr>\n",
              "    <tr>\n",
              "      <th>4</th>\n",
              "      <td>5.3</td>\n",
              "      <td>1.0</td>\n",
              "      <td>2010.0</td>\n",
              "      <td>3.0</td>\n",
              "      <td>9.0</td>\n",
              "      <td>1.0</td>\n",
              "      <td>7.0</td>\n",
              "      <td>1.999157</td>\n",
              "    </tr>\n",
              "  </tbody>\n",
              "</table>\n",
              "</div>"
            ],
            "text/plain": [
              "   fare_amount  passenger_count    year  Month  Date  Day  Hour  distance\n",
              "0          4.5              1.0  2009.0    6.0  15.0  0.0  17.0  1.030764\n",
              "1         16.9              1.0  2010.0    1.0   5.0  1.0  16.0  8.450134\n",
              "2          5.7              2.0  2011.0    8.0  18.0  3.0   0.0  1.389525\n",
              "3          7.7              1.0  2012.0    4.0  21.0  5.0   4.0  2.799270\n",
              "4          5.3              1.0  2010.0    3.0   9.0  1.0   7.0  1.999157"
            ]
          },
          "metadata": {
            "tags": []
          },
          "execution_count": 61
        }
      ]
    },
    {
      "cell_type": "code",
      "metadata": {
        "id": "euaQ3jkzk5wU",
        "colab_type": "code",
        "colab": {
          "base_uri": "https://localhost:8080/",
          "height": 202
        },
        "outputId": "7e510ffb-6ac1-43b4-f091-da1a358d1ec1"
      },
      "source": [
        "test_data.head()"
      ],
      "execution_count": 62,
      "outputs": [
        {
          "output_type": "execute_result",
          "data": {
            "text/html": [
              "<div>\n",
              "<style scoped>\n",
              "    .dataframe tbody tr th:only-of-type {\n",
              "        vertical-align: middle;\n",
              "    }\n",
              "\n",
              "    .dataframe tbody tr th {\n",
              "        vertical-align: top;\n",
              "    }\n",
              "\n",
              "    .dataframe thead th {\n",
              "        text-align: right;\n",
              "    }\n",
              "</style>\n",
              "<table border=\"1\" class=\"dataframe\">\n",
              "  <thead>\n",
              "    <tr style=\"text-align: right;\">\n",
              "      <th></th>\n",
              "      <th>passenger_count</th>\n",
              "      <th>year</th>\n",
              "      <th>date</th>\n",
              "      <th>month</th>\n",
              "      <th>day</th>\n",
              "      <th>hour</th>\n",
              "      <th>distance</th>\n",
              "    </tr>\n",
              "  </thead>\n",
              "  <tbody>\n",
              "    <tr>\n",
              "      <th>0</th>\n",
              "      <td>1</td>\n",
              "      <td>2015</td>\n",
              "      <td>2015-01-27</td>\n",
              "      <td>1</td>\n",
              "      <td>1</td>\n",
              "      <td>13</td>\n",
              "      <td>2.323259</td>\n",
              "    </tr>\n",
              "    <tr>\n",
              "      <th>1</th>\n",
              "      <td>1</td>\n",
              "      <td>2015</td>\n",
              "      <td>2015-01-27</td>\n",
              "      <td>1</td>\n",
              "      <td>1</td>\n",
              "      <td>13</td>\n",
              "      <td>2.425353</td>\n",
              "    </tr>\n",
              "    <tr>\n",
              "      <th>2</th>\n",
              "      <td>1</td>\n",
              "      <td>2011</td>\n",
              "      <td>2011-10-08</td>\n",
              "      <td>10</td>\n",
              "      <td>5</td>\n",
              "      <td>11</td>\n",
              "      <td>0.618628</td>\n",
              "    </tr>\n",
              "    <tr>\n",
              "      <th>3</th>\n",
              "      <td>1</td>\n",
              "      <td>2012</td>\n",
              "      <td>2012-12-01</td>\n",
              "      <td>12</td>\n",
              "      <td>5</td>\n",
              "      <td>21</td>\n",
              "      <td>1.961033</td>\n",
              "    </tr>\n",
              "    <tr>\n",
              "      <th>4</th>\n",
              "      <td>1</td>\n",
              "      <td>2012</td>\n",
              "      <td>2012-12-01</td>\n",
              "      <td>12</td>\n",
              "      <td>5</td>\n",
              "      <td>21</td>\n",
              "      <td>5.387301</td>\n",
              "    </tr>\n",
              "  </tbody>\n",
              "</table>\n",
              "</div>"
            ],
            "text/plain": [
              "   passenger_count  year       date   month  day  hour  distance\n",
              "0                1  2015  2015-01-27      1    1    13  2.323259\n",
              "1                1  2015  2015-01-27      1    1    13  2.425353\n",
              "2                1  2011  2011-10-08     10    5    11  0.618628\n",
              "3                1  2012  2012-12-01     12    5    21  1.961033\n",
              "4                1  2012  2012-12-01     12    5    21  5.387301"
            ]
          },
          "metadata": {
            "tags": []
          },
          "execution_count": 62
        }
      ]
    },
    {
      "cell_type": "code",
      "metadata": {
        "id": "icZ31J31lLh1",
        "colab_type": "code",
        "colab": {
          "base_uri": "https://localhost:8080/",
          "height": 156
        },
        "outputId": "59faf0d0-1ebd-4e8b-dadf-8aa83895ec75"
      },
      "source": [
        "test_data.nunique()"
      ],
      "execution_count": 63,
      "outputs": [
        {
          "output_type": "execute_result",
          "data": {
            "text/plain": [
              "passenger_count       6\n",
              "year                  7\n",
              "date               1211\n",
              "month                12\n",
              "day                   7\n",
              "hour                 24\n",
              "distance           9830\n",
              "dtype: int64"
            ]
          },
          "metadata": {
            "tags": []
          },
          "execution_count": 63
        }
      ]
    },
    {
      "cell_type": "code",
      "metadata": {
        "id": "V2IMLH5clPVA",
        "colab_type": "code",
        "colab": {
          "base_uri": "https://localhost:8080/",
          "height": 173
        },
        "outputId": "159c4ad2-63b2-43f0-dec1-dae3f1497d44"
      },
      "source": [
        "train.nunique()"
      ],
      "execution_count": 64,
      "outputs": [
        {
          "output_type": "execute_result",
          "data": {
            "text/plain": [
              "fare_amount          459\n",
              "passenger_count        7\n",
              "year                   7\n",
              "Month                 12\n",
              "Date                  31\n",
              "Day                    7\n",
              "Hour                  24\n",
              "distance           15449\n",
              "dtype: int64"
            ]
          },
          "metadata": {
            "tags": []
          },
          "execution_count": 64
        }
      ]
    },
    {
      "cell_type": "code",
      "metadata": {
        "id": "PbRPCtbblXbc",
        "colab_type": "code",
        "colab": {
          "base_uri": "https://localhost:8080/",
          "height": 225
        },
        "outputId": "54e97124-058a-4ac4-e9da-d87a07cada21"
      },
      "source": [
        "train['distance'].sort_values( ascending=False,kind = 'quicksort')"
      ],
      "execution_count": 65,
      "outputs": [
        {
          "output_type": "execute_result",
          "data": {
            "text/plain": [
              "9147     8667.542104\n",
              "8647     8667.497512\n",
              "2397     8667.454421\n",
              "472      8667.304968\n",
              "11653    8666.701504\n",
              "            ...     \n",
              "12914       0.000000\n",
              "6193        0.000000\n",
              "9773        0.000000\n",
              "15769       0.000000\n",
              "8068        0.000000\n",
              "Name: distance, Length: 15902, dtype: float64"
            ]
          },
          "metadata": {
            "tags": []
          },
          "execution_count": 65
        }
      ]
    },
    {
      "cell_type": "markdown",
      "metadata": {
        "id": "SP_xTcctmE7B",
        "colab_type": "text"
      },
      "source": [
        "**In the sorted distance table we see that there are a lot of distance which are zero and those data are not of any use for the prediction.**\n",
        "\n",
        "**Some values at the top of the table shows that distance travelled are more than 8k km and coming down to the table we get to see that the distance become ariound 127 km, so there is huge diff in the data available, so we will remove them.**"
      ]
    },
    {
      "cell_type": "markdown",
      "metadata": {
        "id": "UxihaM2OnJqM",
        "colab_type": "text"
      },
      "source": [
        "*Removing the zero distance.*"
      ]
    },
    {
      "cell_type": "code",
      "metadata": {
        "id": "MTf5QPMBnDw3",
        "colab_type": "code",
        "colab": {}
      },
      "source": [
        "train = train.drop(train[train['distance']==0].index,level = None,axis = 0)"
      ],
      "execution_count": 66,
      "outputs": []
    },
    {
      "cell_type": "markdown",
      "metadata": {
        "id": "1ozSC0VhnzQ7",
        "colab_type": "text"
      },
      "source": [
        "*Removing the distance which are more than 129 kms*\n"
      ]
    },
    {
      "cell_type": "code",
      "metadata": {
        "id": "gNqNkfImn4rk",
        "colab_type": "code",
        "colab": {}
      },
      "source": [
        "train = train.drop(train[train['distance']>129].index,axis = 0,level = None)"
      ],
      "execution_count": 67,
      "outputs": []
    },
    {
      "cell_type": "code",
      "metadata": {
        "id": "y_HV7ixEoJfX",
        "colab_type": "code",
        "colab": {
          "base_uri": "https://localhost:8080/",
          "height": 225
        },
        "outputId": "6a49c36c-7259-42e5-8c09-61bb75a081f1"
      },
      "source": [
        "train['distance']"
      ],
      "execution_count": 68,
      "outputs": [
        {
          "output_type": "execute_result",
          "data": {
            "text/plain": [
              "0        1.030764\n",
              "1        8.450134\n",
              "2        1.389525\n",
              "3        2.799270\n",
              "4        1.999157\n",
              "           ...   \n",
              "16061    3.357490\n",
              "16062    0.850044\n",
              "16063    7.867638\n",
              "16064    1.469105\n",
              "16065    2.590036\n",
              "Name: distance, Length: 15423, dtype: float64"
            ]
          },
          "metadata": {
            "tags": []
          },
          "execution_count": 68
        }
      ]
    },
    {
      "cell_type": "code",
      "metadata": {
        "id": "7QzJO8wMoSh7",
        "colab_type": "code",
        "colab": {
          "base_uri": "https://localhost:8080/",
          "height": 314
        },
        "outputId": "8563b6f7-535f-4bed-c547-3aed71c78870"
      },
      "source": [
        "train.describe()"
      ],
      "execution_count": 69,
      "outputs": [
        {
          "output_type": "execute_result",
          "data": {
            "text/html": [
              "<div>\n",
              "<style scoped>\n",
              "    .dataframe tbody tr th:only-of-type {\n",
              "        vertical-align: middle;\n",
              "    }\n",
              "\n",
              "    .dataframe tbody tr th {\n",
              "        vertical-align: top;\n",
              "    }\n",
              "\n",
              "    .dataframe thead th {\n",
              "        text-align: right;\n",
              "    }\n",
              "</style>\n",
              "<table border=\"1\" class=\"dataframe\">\n",
              "  <thead>\n",
              "    <tr style=\"text-align: right;\">\n",
              "      <th></th>\n",
              "      <th>fare_amount</th>\n",
              "      <th>passenger_count</th>\n",
              "      <th>year</th>\n",
              "      <th>Month</th>\n",
              "      <th>Date</th>\n",
              "      <th>Day</th>\n",
              "      <th>Hour</th>\n",
              "      <th>distance</th>\n",
              "    </tr>\n",
              "  </thead>\n",
              "  <tbody>\n",
              "    <tr>\n",
              "      <th>count</th>\n",
              "      <td>15423.000000</td>\n",
              "      <td>15423.000000</td>\n",
              "      <td>15422.000000</td>\n",
              "      <td>15422.000000</td>\n",
              "      <td>15422.000000</td>\n",
              "      <td>15422.000000</td>\n",
              "      <td>15422.000000</td>\n",
              "      <td>15423.000000</td>\n",
              "    </tr>\n",
              "    <tr>\n",
              "      <th>mean</th>\n",
              "      <td>11.372181</td>\n",
              "      <td>1.651968</td>\n",
              "      <td>2011.737777</td>\n",
              "      <td>6.274348</td>\n",
              "      <td>15.672740</td>\n",
              "      <td>3.035534</td>\n",
              "      <td>13.499741</td>\n",
              "      <td>3.426395</td>\n",
              "    </tr>\n",
              "    <tr>\n",
              "      <th>std</th>\n",
              "      <td>10.674389</td>\n",
              "      <td>1.267680</td>\n",
              "      <td>1.870622</td>\n",
              "      <td>3.447892</td>\n",
              "      <td>8.684236</td>\n",
              "      <td>1.969657</td>\n",
              "      <td>6.510149</td>\n",
              "      <td>4.366532</td>\n",
              "    </tr>\n",
              "    <tr>\n",
              "      <th>min</th>\n",
              "      <td>1.140000</td>\n",
              "      <td>1.000000</td>\n",
              "      <td>2009.000000</td>\n",
              "      <td>1.000000</td>\n",
              "      <td>1.000000</td>\n",
              "      <td>0.000000</td>\n",
              "      <td>0.000000</td>\n",
              "      <td>0.000111</td>\n",
              "    </tr>\n",
              "    <tr>\n",
              "      <th>25%</th>\n",
              "      <td>6.000000</td>\n",
              "      <td>1.000000</td>\n",
              "      <td>2010.000000</td>\n",
              "      <td>3.000000</td>\n",
              "      <td>8.000000</td>\n",
              "      <td>1.000000</td>\n",
              "      <td>9.000000</td>\n",
              "      <td>1.277973</td>\n",
              "    </tr>\n",
              "    <tr>\n",
              "      <th>50%</th>\n",
              "      <td>8.500000</td>\n",
              "      <td>1.000000</td>\n",
              "      <td>2012.000000</td>\n",
              "      <td>6.000000</td>\n",
              "      <td>16.000000</td>\n",
              "      <td>3.000000</td>\n",
              "      <td>14.000000</td>\n",
              "      <td>2.191048</td>\n",
              "    </tr>\n",
              "    <tr>\n",
              "      <th>75%</th>\n",
              "      <td>12.500000</td>\n",
              "      <td>2.000000</td>\n",
              "      <td>2013.000000</td>\n",
              "      <td>9.000000</td>\n",
              "      <td>23.000000</td>\n",
              "      <td>5.000000</td>\n",
              "      <td>19.000000</td>\n",
              "      <td>3.934514</td>\n",
              "    </tr>\n",
              "    <tr>\n",
              "      <th>max</th>\n",
              "      <td>453.000000</td>\n",
              "      <td>6.000000</td>\n",
              "      <td>2015.000000</td>\n",
              "      <td>12.000000</td>\n",
              "      <td>31.000000</td>\n",
              "      <td>6.000000</td>\n",
              "      <td>23.000000</td>\n",
              "      <td>127.509261</td>\n",
              "    </tr>\n",
              "  </tbody>\n",
              "</table>\n",
              "</div>"
            ],
            "text/plain": [
              "        fare_amount  passenger_count  ...          Hour      distance\n",
              "count  15423.000000     15423.000000  ...  15422.000000  15423.000000\n",
              "mean      11.372181         1.651968  ...     13.499741      3.426395\n",
              "std       10.674389         1.267680  ...      6.510149      4.366532\n",
              "min        1.140000         1.000000  ...      0.000000      0.000111\n",
              "25%        6.000000         1.000000  ...      9.000000      1.277973\n",
              "50%        8.500000         1.000000  ...     14.000000      2.191048\n",
              "75%       12.500000         2.000000  ...     19.000000      3.934514\n",
              "max      453.000000         6.000000  ...     23.000000    127.509261\n",
              "\n",
              "[8 rows x 8 columns]"
            ]
          },
          "metadata": {
            "tags": []
          },
          "execution_count": 69
        }
      ]
    },
    {
      "cell_type": "code",
      "metadata": {
        "id": "Kdxt8QnYsYLM",
        "colab_type": "code",
        "colab": {
          "base_uri": "https://localhost:8080/",
          "height": 173
        },
        "outputId": "a3483cf0-70f9-4972-bdfe-a19a0b7d5bce"
      },
      "source": [
        "train.dtypes"
      ],
      "execution_count": 70,
      "outputs": [
        {
          "output_type": "execute_result",
          "data": {
            "text/plain": [
              "fare_amount        float64\n",
              "passenger_count    float64\n",
              "year               float64\n",
              "Month              float64\n",
              "Date               float64\n",
              "Day                float64\n",
              "Hour               float64\n",
              "distance           float64\n",
              "dtype: object"
            ]
          },
          "metadata": {
            "tags": []
          },
          "execution_count": 70
        }
      ]
    },
    {
      "cell_type": "markdown",
      "metadata": {
        "id": "ci08h5KbukWJ",
        "colab_type": "text"
      },
      "source": [
        "**From the above data description we found that passenger count,year,month,date,day are in float datatype which is irrelevent.So we will convert all those in int data type.**"
      ]
    },
    {
      "cell_type": "code",
      "metadata": {
        "id": "YcQ6AHgJv31R",
        "colab_type": "code",
        "colab": {
          "base_uri": "https://localhost:8080/",
          "height": 225
        },
        "outputId": "fa36738d-5785-41e9-9c1f-c486b14869df"
      },
      "source": [
        "train['passenger_count']"
      ],
      "execution_count": 71,
      "outputs": [
        {
          "output_type": "execute_result",
          "data": {
            "text/plain": [
              "0        1.0\n",
              "1        1.0\n",
              "2        2.0\n",
              "3        1.0\n",
              "4        1.0\n",
              "        ... \n",
              "16061    1.0\n",
              "16062    1.0\n",
              "16063    2.0\n",
              "16064    1.0\n",
              "16065    1.0\n",
              "Name: passenger_count, Length: 15423, dtype: float64"
            ]
          },
          "metadata": {
            "tags": []
          },
          "execution_count": 71
        }
      ]
    },
    {
      "cell_type": "code",
      "metadata": {
        "id": "kixK8bYrvPgj",
        "colab_type": "code",
        "colab": {}
      },
      "source": [
        "train['passenger_count'] = train['passenger_count'].astype('int64')\n"
      ],
      "execution_count": 72,
      "outputs": []
    },
    {
      "cell_type": "code",
      "metadata": {
        "id": "jewlkD91wJqA",
        "colab_type": "code",
        "colab": {
          "base_uri": "https://localhost:8080/",
          "height": 173
        },
        "outputId": "0aecfa59-b200-496f-802f-9c36728d3bf5"
      },
      "source": [
        "train['year'].describe()"
      ],
      "execution_count": 73,
      "outputs": [
        {
          "output_type": "execute_result",
          "data": {
            "text/plain": [
              "count    15422.000000\n",
              "mean      2011.737777\n",
              "std          1.870622\n",
              "min       2009.000000\n",
              "25%       2010.000000\n",
              "50%       2012.000000\n",
              "75%       2013.000000\n",
              "max       2015.000000\n",
              "Name: year, dtype: float64"
            ]
          },
          "metadata": {
            "tags": []
          },
          "execution_count": 73
        }
      ]
    },
    {
      "cell_type": "code",
      "metadata": {
        "id": "q_yznxfDwDOS",
        "colab_type": "code",
        "colab": {}
      },
      "source": [
        "train = train.drop(train[train['year'].isnull()].index, axis=0)\n"
      ],
      "execution_count": 74,
      "outputs": []
    },
    {
      "cell_type": "code",
      "metadata": {
        "id": "OPpOCDPbwxuI",
        "colab_type": "code",
        "colab": {}
      },
      "source": [
        "train['Month'] = train['Month'].astype('int64')\n",
        "train['Date'] = train['Date'].astype('int64')\n",
        "train['Day'] = train['Day'].astype('int64')\n",
        "train['Hour'] = train['Hour'].astype('int64')"
      ],
      "execution_count": 75,
      "outputs": []
    },
    {
      "cell_type": "code",
      "metadata": {
        "id": "HHEDTfIxwzYz",
        "colab_type": "code",
        "colab": {}
      },
      "source": [
        "train['year'] = train['year'].astype('int64')"
      ],
      "execution_count": 76,
      "outputs": []
    },
    {
      "cell_type": "code",
      "metadata": {
        "id": "YqSjZpOwxSSl",
        "colab_type": "code",
        "colab": {
          "base_uri": "https://localhost:8080/",
          "height": 173
        },
        "outputId": "eaeffade-a4f8-4d45-beeb-77a7b29f52d2"
      },
      "source": [
        "train.dtypes"
      ],
      "execution_count": 77,
      "outputs": [
        {
          "output_type": "execute_result",
          "data": {
            "text/plain": [
              "fare_amount        float64\n",
              "passenger_count      int64\n",
              "year                 int64\n",
              "Month                int64\n",
              "Date                 int64\n",
              "Day                  int64\n",
              "Hour                 int64\n",
              "distance           float64\n",
              "dtype: object"
            ]
          },
          "metadata": {
            "tags": []
          },
          "execution_count": 77
        }
      ]
    },
    {
      "cell_type": "code",
      "metadata": {
        "id": "IpLqOAdIxhk7",
        "colab_type": "code",
        "colab": {
          "base_uri": "https://localhost:8080/",
          "height": 225
        },
        "outputId": "ad50111d-5a09-4077-d937-7afd967b4801"
      },
      "source": [
        "train['year']"
      ],
      "execution_count": 78,
      "outputs": [
        {
          "output_type": "execute_result",
          "data": {
            "text/plain": [
              "0        2009\n",
              "1        2010\n",
              "2        2011\n",
              "3        2012\n",
              "4        2010\n",
              "         ... \n",
              "16061    2009\n",
              "16062    2014\n",
              "16063    2009\n",
              "16064    2009\n",
              "16065    2010\n",
              "Name: year, Length: 15422, dtype: int64"
            ]
          },
          "metadata": {
            "tags": []
          },
          "execution_count": 78
        }
      ]
    },
    {
      "cell_type": "code",
      "metadata": {
        "id": "Trmg7mzaxotj",
        "colab_type": "code",
        "colab": {
          "base_uri": "https://localhost:8080/",
          "height": 202
        },
        "outputId": "8da6a0c5-16bc-41ef-bc0f-0fa673e47f0e"
      },
      "source": [
        "train.head(5)"
      ],
      "execution_count": 96,
      "outputs": [
        {
          "output_type": "execute_result",
          "data": {
            "text/html": [
              "<div>\n",
              "<style scoped>\n",
              "    .dataframe tbody tr th:only-of-type {\n",
              "        vertical-align: middle;\n",
              "    }\n",
              "\n",
              "    .dataframe tbody tr th {\n",
              "        vertical-align: top;\n",
              "    }\n",
              "\n",
              "    .dataframe thead th {\n",
              "        text-align: right;\n",
              "    }\n",
              "</style>\n",
              "<table border=\"1\" class=\"dataframe\">\n",
              "  <thead>\n",
              "    <tr style=\"text-align: right;\">\n",
              "      <th></th>\n",
              "      <th>fare_amount</th>\n",
              "      <th>passenger_count</th>\n",
              "      <th>year</th>\n",
              "      <th>Month</th>\n",
              "      <th>Date</th>\n",
              "      <th>Day</th>\n",
              "      <th>Hour</th>\n",
              "      <th>distance</th>\n",
              "    </tr>\n",
              "  </thead>\n",
              "  <tbody>\n",
              "    <tr>\n",
              "      <th>0</th>\n",
              "      <td>4.5</td>\n",
              "      <td>1</td>\n",
              "      <td>2009</td>\n",
              "      <td>6</td>\n",
              "      <td>15</td>\n",
              "      <td>0</td>\n",
              "      <td>17</td>\n",
              "      <td>1.030764</td>\n",
              "    </tr>\n",
              "    <tr>\n",
              "      <th>1</th>\n",
              "      <td>16.9</td>\n",
              "      <td>1</td>\n",
              "      <td>2010</td>\n",
              "      <td>1</td>\n",
              "      <td>5</td>\n",
              "      <td>1</td>\n",
              "      <td>16</td>\n",
              "      <td>8.450134</td>\n",
              "    </tr>\n",
              "    <tr>\n",
              "      <th>2</th>\n",
              "      <td>5.7</td>\n",
              "      <td>2</td>\n",
              "      <td>2011</td>\n",
              "      <td>8</td>\n",
              "      <td>18</td>\n",
              "      <td>3</td>\n",
              "      <td>0</td>\n",
              "      <td>1.389525</td>\n",
              "    </tr>\n",
              "    <tr>\n",
              "      <th>3</th>\n",
              "      <td>7.7</td>\n",
              "      <td>1</td>\n",
              "      <td>2012</td>\n",
              "      <td>4</td>\n",
              "      <td>21</td>\n",
              "      <td>5</td>\n",
              "      <td>4</td>\n",
              "      <td>2.799270</td>\n",
              "    </tr>\n",
              "    <tr>\n",
              "      <th>4</th>\n",
              "      <td>5.3</td>\n",
              "      <td>1</td>\n",
              "      <td>2010</td>\n",
              "      <td>3</td>\n",
              "      <td>9</td>\n",
              "      <td>1</td>\n",
              "      <td>7</td>\n",
              "      <td>1.999157</td>\n",
              "    </tr>\n",
              "  </tbody>\n",
              "</table>\n",
              "</div>"
            ],
            "text/plain": [
              "   fare_amount  passenger_count  year  Month  Date  Day  Hour  distance\n",
              "0          4.5                1  2009      6    15    0    17  1.030764\n",
              "1         16.9                1  2010      1     5    1    16  8.450134\n",
              "2          5.7                2  2011      8    18    3     0  1.389525\n",
              "3          7.7                1  2012      4    21    5     4  2.799270\n",
              "4          5.3                1  2010      3     9    1     7  1.999157"
            ]
          },
          "metadata": {
            "tags": []
          },
          "execution_count": 96
        }
      ]
    },
    {
      "cell_type": "code",
      "metadata": {
        "id": "GkHL_QgqxyHR",
        "colab_type": "code",
        "colab": {
          "base_uri": "https://localhost:8080/",
          "height": 156
        },
        "outputId": "04e60004-c3ed-4b2f-8a63-db057b4d3668"
      },
      "source": [
        "test_data.dtypes"
      ],
      "execution_count": 80,
      "outputs": [
        {
          "output_type": "execute_result",
          "data": {
            "text/plain": [
              "passenger_count      int64\n",
              "year                 int64\n",
              "date                object\n",
              "month                int64\n",
              "day                  int64\n",
              "hour                 int64\n",
              "distance           float64\n",
              "dtype: object"
            ]
          },
          "metadata": {
            "tags": []
          },
          "execution_count": 80
        }
      ]
    },
    {
      "cell_type": "code",
      "metadata": {
        "id": "zDteSu0AyFHp",
        "colab_type": "code",
        "colab": {
          "base_uri": "https://localhost:8080/",
          "height": 202
        },
        "outputId": "be362035-0f01-405a-d513-366c4c791355"
      },
      "source": [
        "test_data.head()"
      ],
      "execution_count": 81,
      "outputs": [
        {
          "output_type": "execute_result",
          "data": {
            "text/html": [
              "<div>\n",
              "<style scoped>\n",
              "    .dataframe tbody tr th:only-of-type {\n",
              "        vertical-align: middle;\n",
              "    }\n",
              "\n",
              "    .dataframe tbody tr th {\n",
              "        vertical-align: top;\n",
              "    }\n",
              "\n",
              "    .dataframe thead th {\n",
              "        text-align: right;\n",
              "    }\n",
              "</style>\n",
              "<table border=\"1\" class=\"dataframe\">\n",
              "  <thead>\n",
              "    <tr style=\"text-align: right;\">\n",
              "      <th></th>\n",
              "      <th>passenger_count</th>\n",
              "      <th>year</th>\n",
              "      <th>date</th>\n",
              "      <th>month</th>\n",
              "      <th>day</th>\n",
              "      <th>hour</th>\n",
              "      <th>distance</th>\n",
              "    </tr>\n",
              "  </thead>\n",
              "  <tbody>\n",
              "    <tr>\n",
              "      <th>0</th>\n",
              "      <td>1</td>\n",
              "      <td>2015</td>\n",
              "      <td>2015-01-27</td>\n",
              "      <td>1</td>\n",
              "      <td>1</td>\n",
              "      <td>13</td>\n",
              "      <td>2.323259</td>\n",
              "    </tr>\n",
              "    <tr>\n",
              "      <th>1</th>\n",
              "      <td>1</td>\n",
              "      <td>2015</td>\n",
              "      <td>2015-01-27</td>\n",
              "      <td>1</td>\n",
              "      <td>1</td>\n",
              "      <td>13</td>\n",
              "      <td>2.425353</td>\n",
              "    </tr>\n",
              "    <tr>\n",
              "      <th>2</th>\n",
              "      <td>1</td>\n",
              "      <td>2011</td>\n",
              "      <td>2011-10-08</td>\n",
              "      <td>10</td>\n",
              "      <td>5</td>\n",
              "      <td>11</td>\n",
              "      <td>0.618628</td>\n",
              "    </tr>\n",
              "    <tr>\n",
              "      <th>3</th>\n",
              "      <td>1</td>\n",
              "      <td>2012</td>\n",
              "      <td>2012-12-01</td>\n",
              "      <td>12</td>\n",
              "      <td>5</td>\n",
              "      <td>21</td>\n",
              "      <td>1.961033</td>\n",
              "    </tr>\n",
              "    <tr>\n",
              "      <th>4</th>\n",
              "      <td>1</td>\n",
              "      <td>2012</td>\n",
              "      <td>2012-12-01</td>\n",
              "      <td>12</td>\n",
              "      <td>5</td>\n",
              "      <td>21</td>\n",
              "      <td>5.387301</td>\n",
              "    </tr>\n",
              "  </tbody>\n",
              "</table>\n",
              "</div>"
            ],
            "text/plain": [
              "   passenger_count  year       date   month  day  hour  distance\n",
              "0                1  2015  2015-01-27      1    1    13  2.323259\n",
              "1                1  2015  2015-01-27      1    1    13  2.425353\n",
              "2                1  2011  2011-10-08     10    5    11  0.618628\n",
              "3                1  2012  2012-12-01     12    5    21  1.961033\n",
              "4                1  2012  2012-12-01     12    5    21  5.387301"
            ]
          },
          "metadata": {
            "tags": []
          },
          "execution_count": 81
        }
      ]
    },
    {
      "cell_type": "markdown",
      "metadata": {
        "id": "iJFWHhrtz_Wr",
        "colab_type": "text"
      },
      "source": [
        "**We are done with data cleaning part**\n",
        "\n",
        "**Applying Machine Learning Algorithms**"
      ]
    },
    {
      "cell_type": "code",
      "metadata": {
        "id": "g9VkwWWX0KAW",
        "colab_type": "code",
        "colab": {}
      },
      "source": [
        "from sklearn.model_selection import train_test_split\n",
        "X_train, X_test, y_train, y_test = train_test_split( train.iloc[:, train.columns != 'fare_amount'], \n",
        "                         train.iloc[:, 0], test_size = 0.20, random_state = 1)"
      ],
      "execution_count": 82,
      "outputs": []
    },
    {
      "cell_type": "code",
      "metadata": {
        "id": "AKQpo_ls1Xi6",
        "colab_type": "code",
        "colab": {
          "base_uri": "https://localhost:8080/",
          "height": 415
        },
        "outputId": "b13a98f9-6ae7-4ad6-f2e2-7b91bb6853eb"
      },
      "source": [
        "X_train"
      ],
      "execution_count": 83,
      "outputs": [
        {
          "output_type": "execute_result",
          "data": {
            "text/html": [
              "<div>\n",
              "<style scoped>\n",
              "    .dataframe tbody tr th:only-of-type {\n",
              "        vertical-align: middle;\n",
              "    }\n",
              "\n",
              "    .dataframe tbody tr th {\n",
              "        vertical-align: top;\n",
              "    }\n",
              "\n",
              "    .dataframe thead th {\n",
              "        text-align: right;\n",
              "    }\n",
              "</style>\n",
              "<table border=\"1\" class=\"dataframe\">\n",
              "  <thead>\n",
              "    <tr style=\"text-align: right;\">\n",
              "      <th></th>\n",
              "      <th>passenger_count</th>\n",
              "      <th>year</th>\n",
              "      <th>Month</th>\n",
              "      <th>Date</th>\n",
              "      <th>Day</th>\n",
              "      <th>Hour</th>\n",
              "      <th>distance</th>\n",
              "    </tr>\n",
              "  </thead>\n",
              "  <tbody>\n",
              "    <tr>\n",
              "      <th>13017</th>\n",
              "      <td>1</td>\n",
              "      <td>2010</td>\n",
              "      <td>11</td>\n",
              "      <td>14</td>\n",
              "      <td>6</td>\n",
              "      <td>4</td>\n",
              "      <td>20.177463</td>\n",
              "    </tr>\n",
              "    <tr>\n",
              "      <th>15152</th>\n",
              "      <td>1</td>\n",
              "      <td>2013</td>\n",
              "      <td>1</td>\n",
              "      <td>13</td>\n",
              "      <td>6</td>\n",
              "      <td>4</td>\n",
              "      <td>1.828584</td>\n",
              "    </tr>\n",
              "    <tr>\n",
              "      <th>3280</th>\n",
              "      <td>1</td>\n",
              "      <td>2013</td>\n",
              "      <td>6</td>\n",
              "      <td>27</td>\n",
              "      <td>3</td>\n",
              "      <td>19</td>\n",
              "      <td>0.515101</td>\n",
              "    </tr>\n",
              "    <tr>\n",
              "      <th>2816</th>\n",
              "      <td>5</td>\n",
              "      <td>2013</td>\n",
              "      <td>5</td>\n",
              "      <td>18</td>\n",
              "      <td>5</td>\n",
              "      <td>20</td>\n",
              "      <td>2.130835</td>\n",
              "    </tr>\n",
              "    <tr>\n",
              "      <th>402</th>\n",
              "      <td>1</td>\n",
              "      <td>2012</td>\n",
              "      <td>3</td>\n",
              "      <td>7</td>\n",
              "      <td>2</td>\n",
              "      <td>11</td>\n",
              "      <td>1.183890</td>\n",
              "    </tr>\n",
              "    <tr>\n",
              "      <th>...</th>\n",
              "      <td>...</td>\n",
              "      <td>...</td>\n",
              "      <td>...</td>\n",
              "      <td>...</td>\n",
              "      <td>...</td>\n",
              "      <td>...</td>\n",
              "      <td>...</td>\n",
              "    </tr>\n",
              "    <tr>\n",
              "      <th>994</th>\n",
              "      <td>1</td>\n",
              "      <td>2009</td>\n",
              "      <td>3</td>\n",
              "      <td>24</td>\n",
              "      <td>1</td>\n",
              "      <td>11</td>\n",
              "      <td>3.328670</td>\n",
              "    </tr>\n",
              "    <tr>\n",
              "      <th>5454</th>\n",
              "      <td>1</td>\n",
              "      <td>2014</td>\n",
              "      <td>1</td>\n",
              "      <td>11</td>\n",
              "      <td>5</td>\n",
              "      <td>18</td>\n",
              "      <td>0.948140</td>\n",
              "    </tr>\n",
              "    <tr>\n",
              "      <th>12683</th>\n",
              "      <td>1</td>\n",
              "      <td>2014</td>\n",
              "      <td>3</td>\n",
              "      <td>10</td>\n",
              "      <td>0</td>\n",
              "      <td>19</td>\n",
              "      <td>2.146383</td>\n",
              "    </tr>\n",
              "    <tr>\n",
              "      <th>259</th>\n",
              "      <td>1</td>\n",
              "      <td>2013</td>\n",
              "      <td>5</td>\n",
              "      <td>2</td>\n",
              "      <td>3</td>\n",
              "      <td>3</td>\n",
              "      <td>1.234325</td>\n",
              "    </tr>\n",
              "    <tr>\n",
              "      <th>13920</th>\n",
              "      <td>1</td>\n",
              "      <td>2012</td>\n",
              "      <td>11</td>\n",
              "      <td>24</td>\n",
              "      <td>5</td>\n",
              "      <td>22</td>\n",
              "      <td>12.035260</td>\n",
              "    </tr>\n",
              "  </tbody>\n",
              "</table>\n",
              "<p>12337 rows × 7 columns</p>\n",
              "</div>"
            ],
            "text/plain": [
              "       passenger_count  year  Month  Date  Day  Hour   distance\n",
              "13017                1  2010     11    14    6     4  20.177463\n",
              "15152                1  2013      1    13    6     4   1.828584\n",
              "3280                 1  2013      6    27    3    19   0.515101\n",
              "2816                 5  2013      5    18    5    20   2.130835\n",
              "402                  1  2012      3     7    2    11   1.183890\n",
              "...                ...   ...    ...   ...  ...   ...        ...\n",
              "994                  1  2009      3    24    1    11   3.328670\n",
              "5454                 1  2014      1    11    5    18   0.948140\n",
              "12683                1  2014      3    10    0    19   2.146383\n",
              "259                  1  2013      5     2    3     3   1.234325\n",
              "13920                1  2012     11    24    5    22  12.035260\n",
              "\n",
              "[12337 rows x 7 columns]"
            ]
          },
          "metadata": {
            "tags": []
          },
          "execution_count": 83
        }
      ]
    },
    {
      "cell_type": "code",
      "metadata": {
        "id": "DBst7r8pVX6m",
        "colab_type": "code",
        "colab": {
          "base_uri": "https://localhost:8080/",
          "height": 225
        },
        "outputId": "ced2730d-6ce9-4725-8778-d7c217a2fa18"
      },
      "source": [
        "y_test"
      ],
      "execution_count": 84,
      "outputs": [
        {
          "output_type": "execute_result",
          "data": {
            "text/plain": [
              "3129      9.7\n",
              "12170    19.0\n",
              "7977      6.1\n",
              "6734      4.1\n",
              "2292     16.0\n",
              "         ... \n",
              "89        5.0\n",
              "1520     14.9\n",
              "14835     9.0\n",
              "2672      7.3\n",
              "7687      9.0\n",
              "Name: fare_amount, Length: 3085, dtype: float64"
            ]
          },
          "metadata": {
            "tags": []
          },
          "execution_count": 84
        }
      ]
    },
    {
      "cell_type": "code",
      "metadata": {
        "id": "UocHSos30eYp",
        "colab_type": "code",
        "colab": {
          "base_uri": "https://localhost:8080/",
          "height": 35
        },
        "outputId": "cbab6ae4-a3b2-42c9-af0b-1aec0684f577"
      },
      "source": [
        "X_train.shape"
      ],
      "execution_count": 85,
      "outputs": [
        {
          "output_type": "execute_result",
          "data": {
            "text/plain": [
              "(12337, 7)"
            ]
          },
          "metadata": {
            "tags": []
          },
          "execution_count": 85
        }
      ]
    },
    {
      "cell_type": "code",
      "metadata": {
        "id": "NDBtNy6A1IKA",
        "colab_type": "code",
        "colab": {
          "base_uri": "https://localhost:8080/",
          "height": 294
        },
        "outputId": "63db3d92-c59f-43a0-ca7f-a0ff545e0324"
      },
      "source": [
        "X_train.describe()"
      ],
      "execution_count": 86,
      "outputs": [
        {
          "output_type": "execute_result",
          "data": {
            "text/html": [
              "<div>\n",
              "<style scoped>\n",
              "    .dataframe tbody tr th:only-of-type {\n",
              "        vertical-align: middle;\n",
              "    }\n",
              "\n",
              "    .dataframe tbody tr th {\n",
              "        vertical-align: top;\n",
              "    }\n",
              "\n",
              "    .dataframe thead th {\n",
              "        text-align: right;\n",
              "    }\n",
              "</style>\n",
              "<table border=\"1\" class=\"dataframe\">\n",
              "  <thead>\n",
              "    <tr style=\"text-align: right;\">\n",
              "      <th></th>\n",
              "      <th>passenger_count</th>\n",
              "      <th>year</th>\n",
              "      <th>Month</th>\n",
              "      <th>Date</th>\n",
              "      <th>Day</th>\n",
              "      <th>Hour</th>\n",
              "      <th>distance</th>\n",
              "    </tr>\n",
              "  </thead>\n",
              "  <tbody>\n",
              "    <tr>\n",
              "      <th>count</th>\n",
              "      <td>12337.000000</td>\n",
              "      <td>12337.000000</td>\n",
              "      <td>12337.000000</td>\n",
              "      <td>12337.000000</td>\n",
              "      <td>12337.000000</td>\n",
              "      <td>12337.000000</td>\n",
              "      <td>12337.000000</td>\n",
              "    </tr>\n",
              "    <tr>\n",
              "      <th>mean</th>\n",
              "      <td>1.646673</td>\n",
              "      <td>2011.750020</td>\n",
              "      <td>6.287428</td>\n",
              "      <td>15.686877</td>\n",
              "      <td>3.035989</td>\n",
              "      <td>13.410797</td>\n",
              "      <td>3.452204</td>\n",
              "    </tr>\n",
              "    <tr>\n",
              "      <th>std</th>\n",
              "      <td>1.263604</td>\n",
              "      <td>1.868337</td>\n",
              "      <td>3.448984</td>\n",
              "      <td>8.661683</td>\n",
              "      <td>1.968173</td>\n",
              "      <td>6.549721</td>\n",
              "      <td>4.456351</td>\n",
              "    </tr>\n",
              "    <tr>\n",
              "      <th>min</th>\n",
              "      <td>1.000000</td>\n",
              "      <td>2009.000000</td>\n",
              "      <td>1.000000</td>\n",
              "      <td>1.000000</td>\n",
              "      <td>0.000000</td>\n",
              "      <td>0.000000</td>\n",
              "      <td>0.000279</td>\n",
              "    </tr>\n",
              "    <tr>\n",
              "      <th>25%</th>\n",
              "      <td>1.000000</td>\n",
              "      <td>2010.000000</td>\n",
              "      <td>3.000000</td>\n",
              "      <td>8.000000</td>\n",
              "      <td>1.000000</td>\n",
              "      <td>9.000000</td>\n",
              "      <td>1.285604</td>\n",
              "    </tr>\n",
              "    <tr>\n",
              "      <th>50%</th>\n",
              "      <td>1.000000</td>\n",
              "      <td>2012.000000</td>\n",
              "      <td>6.000000</td>\n",
              "      <td>16.000000</td>\n",
              "      <td>3.000000</td>\n",
              "      <td>14.000000</td>\n",
              "      <td>2.205146</td>\n",
              "    </tr>\n",
              "    <tr>\n",
              "      <th>75%</th>\n",
              "      <td>2.000000</td>\n",
              "      <td>2013.000000</td>\n",
              "      <td>9.000000</td>\n",
              "      <td>23.000000</td>\n",
              "      <td>5.000000</td>\n",
              "      <td>19.000000</td>\n",
              "      <td>3.965242</td>\n",
              "    </tr>\n",
              "    <tr>\n",
              "      <th>max</th>\n",
              "      <td>6.000000</td>\n",
              "      <td>2015.000000</td>\n",
              "      <td>12.000000</td>\n",
              "      <td>31.000000</td>\n",
              "      <td>6.000000</td>\n",
              "      <td>23.000000</td>\n",
              "      <td>127.509261</td>\n",
              "    </tr>\n",
              "  </tbody>\n",
              "</table>\n",
              "</div>"
            ],
            "text/plain": [
              "       passenger_count          year  ...          Hour      distance\n",
              "count     12337.000000  12337.000000  ...  12337.000000  12337.000000\n",
              "mean          1.646673   2011.750020  ...     13.410797      3.452204\n",
              "std           1.263604      1.868337  ...      6.549721      4.456351\n",
              "min           1.000000   2009.000000  ...      0.000000      0.000279\n",
              "25%           1.000000   2010.000000  ...      9.000000      1.285604\n",
              "50%           1.000000   2012.000000  ...     14.000000      2.205146\n",
              "75%           2.000000   2013.000000  ...     19.000000      3.965242\n",
              "max           6.000000   2015.000000  ...     23.000000    127.509261\n",
              "\n",
              "[8 rows x 7 columns]"
            ]
          },
          "metadata": {
            "tags": []
          },
          "execution_count": 86
        }
      ]
    },
    {
      "cell_type": "code",
      "metadata": {
        "id": "_H_mGARI0sMR",
        "colab_type": "code",
        "colab": {
          "base_uri": "https://localhost:8080/",
          "height": 294
        },
        "outputId": "592320df-e7d2-480e-b32e-010c98298293"
      },
      "source": [
        "X_test.describe()"
      ],
      "execution_count": 87,
      "outputs": [
        {
          "output_type": "execute_result",
          "data": {
            "text/html": [
              "<div>\n",
              "<style scoped>\n",
              "    .dataframe tbody tr th:only-of-type {\n",
              "        vertical-align: middle;\n",
              "    }\n",
              "\n",
              "    .dataframe tbody tr th {\n",
              "        vertical-align: top;\n",
              "    }\n",
              "\n",
              "    .dataframe thead th {\n",
              "        text-align: right;\n",
              "    }\n",
              "</style>\n",
              "<table border=\"1\" class=\"dataframe\">\n",
              "  <thead>\n",
              "    <tr style=\"text-align: right;\">\n",
              "      <th></th>\n",
              "      <th>passenger_count</th>\n",
              "      <th>year</th>\n",
              "      <th>Month</th>\n",
              "      <th>Date</th>\n",
              "      <th>Day</th>\n",
              "      <th>Hour</th>\n",
              "      <th>distance</th>\n",
              "    </tr>\n",
              "  </thead>\n",
              "  <tbody>\n",
              "    <tr>\n",
              "      <th>count</th>\n",
              "      <td>3085.000000</td>\n",
              "      <td>3085.000000</td>\n",
              "      <td>3085.000000</td>\n",
              "      <td>3085.000000</td>\n",
              "      <td>3085.000000</td>\n",
              "      <td>3085.000000</td>\n",
              "      <td>3085.000000</td>\n",
              "    </tr>\n",
              "    <tr>\n",
              "      <th>mean</th>\n",
              "      <td>1.673258</td>\n",
              "      <td>2011.688817</td>\n",
              "      <td>6.222042</td>\n",
              "      <td>15.616207</td>\n",
              "      <td>3.033712</td>\n",
              "      <td>13.855429</td>\n",
              "      <td>3.323162</td>\n",
              "    </tr>\n",
              "    <tr>\n",
              "      <th>std</th>\n",
              "      <td>1.284024</td>\n",
              "      <td>1.879239</td>\n",
              "      <td>3.443584</td>\n",
              "      <td>8.775031</td>\n",
              "      <td>1.975900</td>\n",
              "      <td>6.338013</td>\n",
              "      <td>3.986956</td>\n",
              "    </tr>\n",
              "    <tr>\n",
              "      <th>min</th>\n",
              "      <td>1.000000</td>\n",
              "      <td>2009.000000</td>\n",
              "      <td>1.000000</td>\n",
              "      <td>1.000000</td>\n",
              "      <td>0.000000</td>\n",
              "      <td>0.000000</td>\n",
              "      <td>0.000111</td>\n",
              "    </tr>\n",
              "    <tr>\n",
              "      <th>25%</th>\n",
              "      <td>1.000000</td>\n",
              "      <td>2010.000000</td>\n",
              "      <td>3.000000</td>\n",
              "      <td>8.000000</td>\n",
              "      <td>1.000000</td>\n",
              "      <td>9.000000</td>\n",
              "      <td>1.252551</td>\n",
              "    </tr>\n",
              "    <tr>\n",
              "      <th>50%</th>\n",
              "      <td>1.000000</td>\n",
              "      <td>2012.000000</td>\n",
              "      <td>6.000000</td>\n",
              "      <td>16.000000</td>\n",
              "      <td>3.000000</td>\n",
              "      <td>15.000000</td>\n",
              "      <td>2.153072</td>\n",
              "    </tr>\n",
              "    <tr>\n",
              "      <th>75%</th>\n",
              "      <td>2.000000</td>\n",
              "      <td>2013.000000</td>\n",
              "      <td>9.000000</td>\n",
              "      <td>23.000000</td>\n",
              "      <td>5.000000</td>\n",
              "      <td>19.000000</td>\n",
              "      <td>3.843018</td>\n",
              "    </tr>\n",
              "    <tr>\n",
              "      <th>max</th>\n",
              "      <td>6.000000</td>\n",
              "      <td>2015.000000</td>\n",
              "      <td>12.000000</td>\n",
              "      <td>31.000000</td>\n",
              "      <td>6.000000</td>\n",
              "      <td>23.000000</td>\n",
              "      <td>97.670590</td>\n",
              "    </tr>\n",
              "  </tbody>\n",
              "</table>\n",
              "</div>"
            ],
            "text/plain": [
              "       passenger_count         year  ...         Hour     distance\n",
              "count      3085.000000  3085.000000  ...  3085.000000  3085.000000\n",
              "mean          1.673258  2011.688817  ...    13.855429     3.323162\n",
              "std           1.284024     1.879239  ...     6.338013     3.986956\n",
              "min           1.000000  2009.000000  ...     0.000000     0.000111\n",
              "25%           1.000000  2010.000000  ...     9.000000     1.252551\n",
              "50%           1.000000  2012.000000  ...    15.000000     2.153072\n",
              "75%           2.000000  2013.000000  ...    19.000000     3.843018\n",
              "max           6.000000  2015.000000  ...    23.000000    97.670590\n",
              "\n",
              "[8 rows x 7 columns]"
            ]
          },
          "metadata": {
            "tags": []
          },
          "execution_count": 87
        }
      ]
    },
    {
      "cell_type": "code",
      "metadata": {
        "id": "q64-KWa40veK",
        "colab_type": "code",
        "colab": {
          "base_uri": "https://localhost:8080/",
          "height": 35
        },
        "outputId": "0c1baf11-73ba-4593-ba7e-aa97c48f0de8"
      },
      "source": [
        "X_test.shape"
      ],
      "execution_count": 88,
      "outputs": [
        {
          "output_type": "execute_result",
          "data": {
            "text/plain": [
              "(3085, 7)"
            ]
          },
          "metadata": {
            "tags": []
          },
          "execution_count": 88
        }
      ]
    },
    {
      "cell_type": "code",
      "metadata": {
        "id": "vM2VKqpm1PDG",
        "colab_type": "code",
        "colab": {
          "base_uri": "https://localhost:8080/",
          "height": 225
        },
        "outputId": "2ae71a26-e9b4-479a-cbfa-fcc6477eb0c1"
      },
      "source": [
        "y_train"
      ],
      "execution_count": 89,
      "outputs": [
        {
          "output_type": "execute_result",
          "data": {
            "text/plain": [
              "13017    49.57\n",
              "15152     7.50\n",
              "3280      6.00\n",
              "2816     17.00\n",
              "402       5.70\n",
              "         ...  \n",
              "994      13.70\n",
              "5454      4.50\n",
              "12683     9.00\n",
              "259       6.00\n",
              "13920    33.00\n",
              "Name: fare_amount, Length: 12337, dtype: float64"
            ]
          },
          "metadata": {
            "tags": []
          },
          "execution_count": 89
        }
      ]
    },
    {
      "cell_type": "markdown",
      "metadata": {
        "id": "_YE8isZW1khO",
        "colab_type": "text"
      },
      "source": [
        "**Applying linear model**"
      ]
    },
    {
      "cell_type": "code",
      "metadata": {
        "id": "n1aNxHr51n-T",
        "colab_type": "code",
        "colab": {}
      },
      "source": [
        "regressor = LinearRegression().fit(X_train,y_train)"
      ],
      "execution_count": 90,
      "outputs": []
    },
    {
      "cell_type": "code",
      "metadata": {
        "id": "mRYVn2yxUoeL",
        "colab_type": "code",
        "colab": {
          "base_uri": "https://localhost:8080/",
          "height": 52
        },
        "outputId": "8a9a6f5a-6a5c-4f17-bc0b-825e2530abbb"
      },
      "source": [
        "y_pred= regressor.predict(X_test)\n",
        "print(y_pred)"
      ],
      "execution_count": 98,
      "outputs": [
        {
          "output_type": "stream",
          "text": [
            "[ 9.03092216 17.75261122  6.34460849 ... 10.5865315   9.70641998\n",
            "  9.53601507]\n"
          ],
          "name": "stdout"
        }
      ]
    },
    {
      "cell_type": "code",
      "metadata": {
        "id": "mRNbQDtBXb2x",
        "colab_type": "code",
        "colab": {}
      },
      "source": [
        "test_data['predicted fare ']= pd.Series(y_pred)"
      ],
      "execution_count": 92,
      "outputs": []
    },
    {
      "cell_type": "code",
      "metadata": {
        "id": "NkX-NkfOdLVX",
        "colab_type": "code",
        "colab": {
          "base_uri": "https://localhost:8080/",
          "height": 415
        },
        "outputId": "29124328-122a-4729-a5f6-9e65dfb43506"
      },
      "source": [
        "test_data.head(1000)"
      ],
      "execution_count": 100,
      "outputs": [
        {
          "output_type": "execute_result",
          "data": {
            "text/html": [
              "<div>\n",
              "<style scoped>\n",
              "    .dataframe tbody tr th:only-of-type {\n",
              "        vertical-align: middle;\n",
              "    }\n",
              "\n",
              "    .dataframe tbody tr th {\n",
              "        vertical-align: top;\n",
              "    }\n",
              "\n",
              "    .dataframe thead th {\n",
              "        text-align: right;\n",
              "    }\n",
              "</style>\n",
              "<table border=\"1\" class=\"dataframe\">\n",
              "  <thead>\n",
              "    <tr style=\"text-align: right;\">\n",
              "      <th></th>\n",
              "      <th>passenger_count</th>\n",
              "      <th>year</th>\n",
              "      <th>date</th>\n",
              "      <th>month</th>\n",
              "      <th>day</th>\n",
              "      <th>hour</th>\n",
              "      <th>distance</th>\n",
              "      <th>predicted fare</th>\n",
              "    </tr>\n",
              "  </thead>\n",
              "  <tbody>\n",
              "    <tr>\n",
              "      <th>0</th>\n",
              "      <td>1</td>\n",
              "      <td>2015</td>\n",
              "      <td>2015-01-27</td>\n",
              "      <td>1</td>\n",
              "      <td>1</td>\n",
              "      <td>13</td>\n",
              "      <td>2.323259</td>\n",
              "      <td>9.030922</td>\n",
              "    </tr>\n",
              "    <tr>\n",
              "      <th>1</th>\n",
              "      <td>1</td>\n",
              "      <td>2015</td>\n",
              "      <td>2015-01-27</td>\n",
              "      <td>1</td>\n",
              "      <td>1</td>\n",
              "      <td>13</td>\n",
              "      <td>2.425353</td>\n",
              "      <td>17.752611</td>\n",
              "    </tr>\n",
              "    <tr>\n",
              "      <th>2</th>\n",
              "      <td>1</td>\n",
              "      <td>2011</td>\n",
              "      <td>2011-10-08</td>\n",
              "      <td>10</td>\n",
              "      <td>5</td>\n",
              "      <td>11</td>\n",
              "      <td>0.618628</td>\n",
              "      <td>6.344608</td>\n",
              "    </tr>\n",
              "    <tr>\n",
              "      <th>3</th>\n",
              "      <td>1</td>\n",
              "      <td>2012</td>\n",
              "      <td>2012-12-01</td>\n",
              "      <td>12</td>\n",
              "      <td>5</td>\n",
              "      <td>21</td>\n",
              "      <td>1.961033</td>\n",
              "      <td>7.431251</td>\n",
              "    </tr>\n",
              "    <tr>\n",
              "      <th>4</th>\n",
              "      <td>1</td>\n",
              "      <td>2012</td>\n",
              "      <td>2012-12-01</td>\n",
              "      <td>12</td>\n",
              "      <td>5</td>\n",
              "      <td>21</td>\n",
              "      <td>5.387301</td>\n",
              "      <td>14.611386</td>\n",
              "    </tr>\n",
              "    <tr>\n",
              "      <th>...</th>\n",
              "      <td>...</td>\n",
              "      <td>...</td>\n",
              "      <td>...</td>\n",
              "      <td>...</td>\n",
              "      <td>...</td>\n",
              "      <td>...</td>\n",
              "      <td>...</td>\n",
              "      <td>...</td>\n",
              "    </tr>\n",
              "    <tr>\n",
              "      <th>995</th>\n",
              "      <td>1</td>\n",
              "      <td>2010</td>\n",
              "      <td>2010-08-14</td>\n",
              "      <td>8</td>\n",
              "      <td>5</td>\n",
              "      <td>2</td>\n",
              "      <td>0.485708</td>\n",
              "      <td>9.900170</td>\n",
              "    </tr>\n",
              "    <tr>\n",
              "      <th>996</th>\n",
              "      <td>1</td>\n",
              "      <td>2010</td>\n",
              "      <td>2010-08-14</td>\n",
              "      <td>8</td>\n",
              "      <td>5</td>\n",
              "      <td>2</td>\n",
              "      <td>1.084746</td>\n",
              "      <td>5.645274</td>\n",
              "    </tr>\n",
              "    <tr>\n",
              "      <th>997</th>\n",
              "      <td>1</td>\n",
              "      <td>2010</td>\n",
              "      <td>2010-08-14</td>\n",
              "      <td>8</td>\n",
              "      <td>5</td>\n",
              "      <td>2</td>\n",
              "      <td>7.038219</td>\n",
              "      <td>8.633435</td>\n",
              "    </tr>\n",
              "    <tr>\n",
              "      <th>998</th>\n",
              "      <td>1</td>\n",
              "      <td>2010</td>\n",
              "      <td>2010-08-14</td>\n",
              "      <td>8</td>\n",
              "      <td>5</td>\n",
              "      <td>2</td>\n",
              "      <td>3.681500</td>\n",
              "      <td>8.617010</td>\n",
              "    </tr>\n",
              "    <tr>\n",
              "      <th>999</th>\n",
              "      <td>1</td>\n",
              "      <td>2010</td>\n",
              "      <td>2010-08-14</td>\n",
              "      <td>8</td>\n",
              "      <td>5</td>\n",
              "      <td>2</td>\n",
              "      <td>2.955836</td>\n",
              "      <td>7.350423</td>\n",
              "    </tr>\n",
              "  </tbody>\n",
              "</table>\n",
              "<p>1000 rows × 8 columns</p>\n",
              "</div>"
            ],
            "text/plain": [
              "     passenger_count  year       date   ...  hour  distance  predicted fare \n",
              "0                  1  2015  2015-01-27  ...    13  2.323259         9.030922\n",
              "1                  1  2015  2015-01-27  ...    13  2.425353        17.752611\n",
              "2                  1  2011  2011-10-08  ...    11  0.618628         6.344608\n",
              "3                  1  2012  2012-12-01  ...    21  1.961033         7.431251\n",
              "4                  1  2012  2012-12-01  ...    21  5.387301        14.611386\n",
              "..               ...   ...         ...  ...   ...       ...              ...\n",
              "995                1  2010  2010-08-14  ...     2  0.485708         9.900170\n",
              "996                1  2010  2010-08-14  ...     2  1.084746         5.645274\n",
              "997                1  2010  2010-08-14  ...     2  7.038219         8.633435\n",
              "998                1  2010  2010-08-14  ...     2  3.681500         8.617010\n",
              "999                1  2010  2010-08-14  ...     2  2.955836         7.350423\n",
              "\n",
              "[1000 rows x 8 columns]"
            ]
          },
          "metadata": {
            "tags": []
          },
          "execution_count": 100
        }
      ]
    }
  ]
}